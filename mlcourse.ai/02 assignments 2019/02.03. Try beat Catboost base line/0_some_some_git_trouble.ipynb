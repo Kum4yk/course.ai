{
 "cells": [
  {
   "cell_type": "code",
   "execution_count": 2,
   "metadata": {},
   "outputs": [],
   "source": [
    "from IPython.core.interactiveshell import InteractiveShell\n",
    "InteractiveShell.ast_node_interactivity = \"all\"\n",
    "\n",
    "import warnings\n",
    "import numpy as np\n",
    "import pandas as pd\n",
    "import catboost\n",
    "\n",
    "from catboost import cv, Pool\n",
    "import matplotlib.pyplot as plt\n",
    "\n",
    "from pathlib import Path\n",
    "from sklearn.model_selection import train_test_split\n",
    "from sklearn.metrics import roc_auc_score\n",
    "from catboost import CatBoostClassifier\n",
    "from sklearn.model_selection import cross_val_score, StratifiedKFold"
   ]
  },
  {
   "cell_type": "code",
   "execution_count": 3,
   "metadata": {},
   "outputs": [],
   "source": [
    "days_from_start = {\n",
    "    1: 0, 2: 31, 3: 59, 4: 90, 5: 120, 6: 151, 7: 181,\n",
    "    8: 212, 9: 243, 10: 273, 11: 304, 12: 334\n",
    "}\n",
    "\n",
    "days_in_month = {\n",
    "    1: 31,  2: 28,  3: 31,  4: 30, 5: 31, 6: 30,\n",
    "    7: 31, 8: 31, 9: 30,  10: 31, 11: 30, 12: 31\n",
    "}\n",
    "\n",
    "params =  {\n",
    "    \"random_seed\": 17,\n",
    "    \"eval_metric\": \"AUC\"\n",
    "    \n",
    "}\n",
    "\n",
    "season_from_moth = {12: \"winter\", 1: \"winter\", 2: \"winter\",\n",
    "                    3: \"spring\", 4: \"spring\", 5: \"spring\", \n",
    "                    6: \"summer\", 7: \"summer\", 8: \"summer\", \n",
    "                    9: \"autumn\", 10: \"autumn\", 11: \"autumn\"\n",
    "                   }\n",
    "\n",
    "weekend = {1: 0, 2: 0,  3: 0, 4: 0, 5: 0, 6: 1, 7: 1 }"
   ]
  },
  {
   "cell_type": "code",
   "execution_count": 4,
   "metadata": {},
   "outputs": [],
   "source": [
    "def encode_and_cat(data):\n",
    "    for name in encode_names:\n",
    "        data[name] = pd.factorize(data[name])[0]\n",
    "        \n",
    "    for name in cat_names:\n",
    "        data[name] = data[name].astype('category')    "
   ]
  },
  {
   "cell_type": "code",
   "execution_count": 5,
   "metadata": {},
   "outputs": [],
   "source": [
    "def extend_name(name):\n",
    "    cat_names.extend([name])\n",
    "    encode_names.extend([name])"
   ]
  },
  {
   "cell_type": "code",
   "execution_count": 370,
   "metadata": {},
   "outputs": [],
   "source": [
    "cat_names = \"Month DayofMonth DayOfWeek UniqueCarrier Origin Dest flight hour\".split()\n",
    "\n",
    "encode_names = \"UniqueCarrier Origin Dest flight\".split()\n",
    "\n",
    "def clean_data(data):\n",
    "    for name in ['Month', 'DayofMonth', 'DayOfWeek']:\n",
    "        data[name] = data[name].str[2:].astype(int)\n",
    "    \n",
    "    data[\"minutes\"] = data.DepTime % 100\n",
    "    data['min_bin'] = pd.cut(data['minutes'], bins=np.arange(0, 60, 10),\n",
    "                             include_lowest=True)\n",
    "    extend_name(\"min_bin\")\n",
    "    \n",
    "    data[\"days_in_m\"] = data.Month.map(days_in_month)\n",
    "    \n",
    "    data.DayofMonth = data.DayofMonth + data.DepTime // 2400\n",
    "    data.DayOfWeek = data.DayOfWeek + data.DepTime // 2400\n",
    "    data.Month = data.Month + data.DayofMonth // (data.days_in_m + 1)\n",
    "    \n",
    "    data.DayofMonth = data.DayofMonth % (data.days_in_m)\n",
    "    data.loc[data['DayofMonth'] == 0, 'DayofMonth'] = data.loc[data['DayofMonth'] == 0, 'days_in_m']\n",
    "    \n",
    "    data.DayOfWeek = data.DayOfWeek % 7\n",
    "    data.loc[data['DayOfWeek'] == 0, 'DayOfWeek'] = 7\n",
    "    \n",
    "    data.DepTime = data.DepTime % 2400\n",
    "    # data.loc[data['DepTime'] == 0, 'DepTime'] = 2400\n",
    "    \n",
    "\n",
    "    data[\"hour\"] = data.DepTime // 100\n",
    "    \n",
    "    data[\"dep_t\"] = data.hour * 60 + data.DepTime % 100 # some accturacy on cv\n",
    "    \n",
    "    data['sin_dep'] = np.sin(2 * np.pi * data.dep_t / (24 * 60))\n",
    "    data['cos_dep'] = np.cos(2 * np.pi * data.dep_t / (24 * 60))    \n",
    "    \n",
    "    data[\"sin_min\"] = np.sin(2 * np.pi * data.minutes / 59)\n",
    "    data[\"cos_min\"] = np.cos(2 * np.pi * data.minutes / 59)\n",
    "    \n",
    "    data.Distance = np.power(np.log10(data.Distance), 2)\n",
    "    \n",
    "    data[\"flight\"] = data.Origin + \"_\" + data.Dest\n",
    "    \n",
    "    data[\"days\"] = data.Month.map(days_from_start) + data.DayofMonth\n",
    "    \n",
    "    data[\"sin_days\"] = np.sin(2 * np.pi * data.days / 365)\n",
    "    data[\"cos_days\"] = np.cos(2 * np.pi * data.days / 365)\n",
    "    \n",
    "    \"\"\"\n",
    "    data[\"flight_min\"] = data.flight + \"_\" + data.min_bin.astype(str)\n",
    "    extend_name(\"flight_min\")\n",
    "    \"\"\"    \n",
    "    \n",
    "    data.drop([\"DepTime\", \"days_in_m\", \"minutes\", \"dep_t\", \"days\"],\n",
    "              axis=1, inplace=True)\n",
    "    "
   ]
  },
  {
   "cell_type": "code",
   "execution_count": 373,
   "metadata": {},
   "outputs": [
    {
     "data": {
      "text/html": [
       "<div>\n",
       "<style scoped>\n",
       "    .dataframe tbody tr th:only-of-type {\n",
       "        vertical-align: middle;\n",
       "    }\n",
       "\n",
       "    .dataframe tbody tr th {\n",
       "        vertical-align: top;\n",
       "    }\n",
       "\n",
       "    .dataframe thead th {\n",
       "        text-align: right;\n",
       "    }\n",
       "</style>\n",
       "<table border=\"1\" class=\"dataframe\">\n",
       "  <thead>\n",
       "    <tr style=\"text-align: right;\">\n",
       "      <th></th>\n",
       "      <th>Month</th>\n",
       "      <th>DayofMonth</th>\n",
       "      <th>DayOfWeek</th>\n",
       "      <th>DepTime</th>\n",
       "      <th>UniqueCarrier</th>\n",
       "      <th>Origin</th>\n",
       "      <th>Dest</th>\n",
       "      <th>Distance</th>\n",
       "    </tr>\n",
       "  </thead>\n",
       "  <tbody>\n",
       "    <tr>\n",
       "      <th>0</th>\n",
       "      <td>c-8</td>\n",
       "      <td>c-21</td>\n",
       "      <td>c-7</td>\n",
       "      <td>1934</td>\n",
       "      <td>AA</td>\n",
       "      <td>ATL</td>\n",
       "      <td>DFW</td>\n",
       "      <td>732</td>\n",
       "    </tr>\n",
       "    <tr>\n",
       "      <th>1</th>\n",
       "      <td>c-4</td>\n",
       "      <td>c-20</td>\n",
       "      <td>c-3</td>\n",
       "      <td>1548</td>\n",
       "      <td>US</td>\n",
       "      <td>PIT</td>\n",
       "      <td>MCO</td>\n",
       "      <td>834</td>\n",
       "    </tr>\n",
       "  </tbody>\n",
       "</table>\n",
       "</div>"
      ],
      "text/plain": [
       "  Month DayofMonth DayOfWeek  DepTime UniqueCarrier Origin Dest  Distance\n",
       "0   c-8       c-21       c-7     1934            AA    ATL  DFW       732\n",
       "1   c-4       c-20       c-3     1548            US    PIT  MCO       834"
      ]
     },
     "execution_count": 373,
     "metadata": {},
     "output_type": "execute_result"
    }
   ],
   "source": [
    "df = pd.read_csv('../../data/flight_delays_train.csv')\n",
    "y_train = df['dep_delayed_15min'].map({'Y': 1, 'N': 0})\n",
    "df.drop(\"dep_delayed_15min\", axis=1, inplace=True)\n",
    "\n",
    "test_df = pd.read_csv('../../data/flight_delays_test.csv')\n",
    "\n",
    "df.head(2)"
   ]
  },
  {
   "cell_type": "code",
   "execution_count": 374,
   "metadata": {
    "scrolled": false
   },
   "outputs": [
    {
     "data": {
      "text/plain": [
       "array([ 0,  1,  2,  3,  4,  5,  7,  8, 13], dtype=int64)"
      ]
     },
     "execution_count": 374,
     "metadata": {},
     "output_type": "execute_result"
    },
    {
     "data": {
      "text/plain": [
       "(200000, 16)"
      ]
     },
     "execution_count": 374,
     "metadata": {},
     "output_type": "execute_result"
    },
    {
     "data": {
      "text/html": [
       "<div>\n",
       "<style scoped>\n",
       "    .dataframe tbody tr th:only-of-type {\n",
       "        vertical-align: middle;\n",
       "    }\n",
       "\n",
       "    .dataframe tbody tr th {\n",
       "        vertical-align: top;\n",
       "    }\n",
       "\n",
       "    .dataframe thead th {\n",
       "        text-align: right;\n",
       "    }\n",
       "</style>\n",
       "<table border=\"1\" class=\"dataframe\">\n",
       "  <thead>\n",
       "    <tr style=\"text-align: right;\">\n",
       "      <th></th>\n",
       "      <th>Month</th>\n",
       "      <th>DayofMonth</th>\n",
       "      <th>DayOfWeek</th>\n",
       "      <th>UniqueCarrier</th>\n",
       "      <th>Origin</th>\n",
       "      <th>Dest</th>\n",
       "      <th>Distance</th>\n",
       "      <th>min_bin</th>\n",
       "      <th>hour</th>\n",
       "      <th>sin_dep</th>\n",
       "      <th>cos_dep</th>\n",
       "      <th>sin_min</th>\n",
       "      <th>cos_min</th>\n",
       "      <th>flight</th>\n",
       "      <th>sin_days</th>\n",
       "      <th>cos_days</th>\n",
       "    </tr>\n",
       "  </thead>\n",
       "  <tbody>\n",
       "    <tr>\n",
       "      <th>0</th>\n",
       "      <td>8</td>\n",
       "      <td>21</td>\n",
       "      <td>7</td>\n",
       "      <td>0</td>\n",
       "      <td>0</td>\n",
       "      <td>0</td>\n",
       "      <td>8.205424</td>\n",
       "      <td>0</td>\n",
       "      <td>19</td>\n",
       "      <td>-0.917060</td>\n",
       "      <td>0.398749</td>\n",
       "      <td>-0.461093</td>\n",
       "      <td>-0.887352</td>\n",
       "      <td>0</td>\n",
       "      <td>-0.763889</td>\n",
       "      <td>-0.645348</td>\n",
       "    </tr>\n",
       "    <tr>\n",
       "      <th>1</th>\n",
       "      <td>4</td>\n",
       "      <td>20</td>\n",
       "      <td>3</td>\n",
       "      <td>1</td>\n",
       "      <td>1</td>\n",
       "      <td>1</td>\n",
       "      <td>8.533211</td>\n",
       "      <td>1</td>\n",
       "      <td>15</td>\n",
       "      <td>-0.838671</td>\n",
       "      <td>-0.544639</td>\n",
       "      <td>-0.921312</td>\n",
       "      <td>0.388824</td>\n",
       "      <td>1</td>\n",
       "      <td>0.948362</td>\n",
       "      <td>-0.317191</td>\n",
       "    </tr>\n",
       "  </tbody>\n",
       "</table>\n",
       "</div>"
      ],
      "text/plain": [
       "  Month DayofMonth DayOfWeek UniqueCarrier Origin Dest  Distance min_bin hour  \\\n",
       "0     8         21         7             0      0    0  8.205424       0   19   \n",
       "1     4         20         3             1      1    1  8.533211       1   15   \n",
       "\n",
       "    sin_dep   cos_dep   sin_min   cos_min flight  sin_days  cos_days  \n",
       "0 -0.917060  0.398749 -0.461093 -0.887352      0 -0.763889 -0.645348  \n",
       "1 -0.838671 -0.544639 -0.921312  0.388824      1  0.948362 -0.317191  "
      ]
     },
     "execution_count": 374,
     "metadata": {},
     "output_type": "execute_result"
    }
   ],
   "source": [
    "full_df = pd.concat((df, test_df))\n",
    "\n",
    "clean_data(full_df)\n",
    "encode_and_cat(full_df)\n",
    "\n",
    "split = df.shape[0]\n",
    "\n",
    "X_valid, X_test = full_df[:split].values, full_df[split:].values\n",
    "\n",
    "cat_i = np.where(full_df.dtypes == 'category')[0]\n",
    "cat_i\n",
    "full_df.shape\n",
    "full_df.head(2)"
   ]
  },
  {
   "cell_type": "code",
   "execution_count": 375,
   "metadata": {
    "scrolled": true
   },
   "outputs": [
    {
     "name": "stdout",
     "output_type": "stream",
     "text": [
      "| 1 | 2 | 3 Wall time: 4min 41s\n"
     ]
    }
   ],
   "source": [
    "%%time\n",
    "\n",
    "test_score = []\n",
    "train_score = []\n",
    "\n",
    "skf = StratifiedKFold(n_splits=3, shuffle=True, random_state=17)\n",
    "\n",
    "i = 0\n",
    "for test_index, train_index in skf.split(X_valid, y_train):\n",
    "    print(\"| \", end=\"\")\n",
    "    \n",
    "    X_train_1, X_test_1 = X_valid[train_index, :], X_valid[test_index, :]\n",
    "    y_train_1, y_test_1 = y_train[train_index], y_train[test_index]\n",
    "    \n",
    "    \n",
    "    ctb = CatBoostClassifier(random_seed=17,\n",
    "                              silent=True\n",
    "                             ).fit(X_train_1, y_train_1, cat_features=cat_i)\n",
    "    \n",
    "    test_score.append(\n",
    "        roc_auc_score(y_test_1, ctb.predict_proba(X_test_1)[:, 1]))\n",
    "    \n",
    "    train_score.append(roc_auc_score(y_train_1, ctb.predict_proba(X_train_1)[:, 1]))\n",
    "    \n",
    "    i += 1\n",
    "    print(i, end = \" \")\n",
    "    "
   ]
  },
  {
   "cell_type": "code",
   "execution_count": 377,
   "metadata": {},
   "outputs": [],
   "source": [
    "iter_ = list(iter_)"
   ]
  },
  {
   "cell_type": "code",
   "execution_count": 378,
   "metadata": {},
   "outputs": [],
   "source": [
    "iter_.append((round(np.mean(train_score), 4), round(np.mean(test_score), 4)))"
   ]
  },
  {
   "cell_type": "code",
   "execution_count": 379,
   "metadata": {},
   "outputs": [
    {
     "data": {
      "text/plain": [
       "(0.9144, 0.7685)"
      ]
     },
     "execution_count": 379,
     "metadata": {},
     "output_type": "execute_result"
    }
   ],
   "source": [
    "iter_[-1]"
   ]
  },
  {
   "cell_type": "code",
   "execution_count": 388,
   "metadata": {
    "scrolled": false
   },
   "outputs": [
    {
     "name": "stdout",
     "output_type": "stream",
     "text": [
      "0.9144  - train score\n",
      "0.7685  - test score\n",
      "(21.141507016338025, 'hour')\n",
      "(13.875296387835723, 'flight')\n",
      "(9.695579390226891, 'UniqueCarrier')\n",
      "(8.035834061704842, 'min_bin')\n",
      "(7.874538123410779, 'sin_dep')\n",
      "(6.0747787485753575, 'Origin')\n",
      "(4.824828455756504, 'Dest')\n",
      "(4.619214224866855, 'sin_min')\n",
      "(4.102147271744903, 'cos_dep')\n",
      "(3.6398445569281646, 'Distance')\n",
      "(3.293015194311452, 'cos_days')\n",
      "(2.858065901977463, 'Month')\n",
      "(2.6045688222212466, 'DayofMonth')\n",
      "(2.598079856618949, 'sin_days')\n",
      "(2.5800029426788713, 'DayOfWeek')\n",
      "(2.182699044804152, 'cos_min')\n"
     ]
    }
   ],
   "source": [
    "# drop origin_min\n",
    "print(round(np.mean(train_score), 4), \" - train score\")\n",
    "print(round(np.mean(test_score), 4), \" - test score\")\n",
    "print(*sorted(zip(ctb.get_feature_importance(), full_df.columns), reverse=True), sep=\"\\n\")"
   ]
  },
  {
   "cell_type": "code",
   "execution_count": 307,
   "metadata": {},
   "outputs": [
    {
     "name": "stdout",
     "output_type": "stream",
     "text": [
      "0.9394  - train score\n",
      "0.7725  - test score\n",
      "(24.41644959195692, 'hour')\n",
      "(11.813373066259313, 'sin_dep')\n",
      "(7.958852085167953, 'cos_dep')\n",
      "(7.300096528418177, 'Dest')\n",
      "(6.672403090887884, 'UniqueCarrier')\n",
      "(6.278287763367352, 'origin_min')\n",
      "(4.318601280377706, 'Origin')\n",
      "(4.124674598522157, 'flight')\n",
      "(3.9455194373867926, 'cos_days')\n",
      "(3.738815975268189, 'Month')\n",
      "(3.5325530759717427, 'DayOfWeek')\n",
      "(3.2042661722091728, 'sin_days')\n",
      "(3.1465857352212514, 'Distance')\n",
      "(3.0623879916930083, 'DayofMonth')\n",
      "(2.768121212863839, 'min_bin')\n",
      "(2.0665879203046194, 'sin_min')\n",
      "(1.6524244741239604, 'cos_min')\n"
     ]
    }
   ],
   "source": [
    "# origin_min\n",
    "print(round(np.mean(train_score), 4), \" - train score\")\n",
    "print(round(np.mean(test_score), 4), \" - test score\")\n",
    "print(*sorted(zip(ctb.get_feature_importance(), full_df.columns), reverse=True), sep=\"\\n\")"
   ]
  },
  {
   "cell_type": "code",
   "execution_count": 389,
   "metadata": {
    "scrolled": false
   },
   "outputs": [
    {
     "data": {
      "image/png": "[encoded data removed]",
      "text/plain": [
       "<Figure size 900x600 with 1 Axes>"
      ]
     },
     "metadata": {
      "needs_background": "light"
     },
     "output_type": "display_data"
    }
   ],
   "source": [
    "iter_ = np.array(iter_)\n",
    "x = np.arange(len(iter_))\n",
    "plt.figure(dpi=150)\n",
    "plt.scatter(x, iter_[:, 0], label=\"train\");\n",
    "plt.scatter(x, iter_[:, 1], label=\"test\");\n",
    "plt.ylabel(\"Roc auc score\");\n",
    "plt.xlabel(\"iteration of feature engineering\");\n",
    "plt.xticks(x, x_ticks.split(), rotation=90)\n",
    "plt.grid(True)\n",
    "plt.legend();"
   ]
  },
  {
   "cell_type": "code",
   "execution_count": 376,
   "metadata": {},
   "outputs": [],
   "source": [
    "x_ticks = \\\n",
    "'''\n",
    "initial sin_cos_dep hour flight minutes_num recalculate\n",
    "o_h,c_h min_bin union_sin_cos fix_sin_cos sin_cos_min drop_min\n",
    "origin_min drop_2_add_days days_drop_minth_dayMonth origin_min drop_o_min\n",
    "'''\n"
   ]
  },
  {
   "cell_type": "code",
   "execution_count": 296,
   "metadata": {},
   "outputs": [],
   "source": [
    "iter_ = [[0.828 , 0.7429], # initial \n",
    "[0.8218, 0.7433], # -- add sin cos min, drop changed Deptime\n",
    "[0.857 , 0.752 ], # -- add hour as cat\n",
    "[0.865 , 0.7538], # -- add flight\n",
    "[0.8769, 0.7577], # -- add minutes as num\n",
    "[0.8871, 0.7583], # -- hour, minute, sin cos of chancheg deptime - beat baseline /// \n",
    "[0.8895, 0.7626], # -- origin_h, carrier_h - 0.75797\n",
    "[0.9335, 0.766 ], # -- drop early, add min_bin - 0.76\n",
    "[0.9358, 0.767 ], # -- union sin cos (minutes)\n",
    "[0.9158, 0.7649], # -- some fix, sin cos for deptime\n",
    "[0.9471, 0.7651], # -- add sin cos for min \n",
    "[0.9213, 0.7638], # -- drop min ///\n",
    "[0.9432, 0.7661], # -- origin min  || looks like overfittin\n",
    "[0.9082, 0.7680], # -- add days; drop 2 step \n",
    "[0.9033, 0.7628], # -- sin cos days, drop month, dayOfMoth\n",
    "        \n",
    "]\n"
   ]
  },
  {
   "cell_type": "code",
   "execution_count": 382,
   "metadata": {
    "scrolled": false
   },
   "outputs": [
    {
     "data": {
      "text/plain": [
       "array([[0.828 , 0.7429],\n",
       "       [0.8218, 0.7433],\n",
       "       [0.857 , 0.752 ],\n",
       "       [0.865 , 0.7538],\n",
       "       [0.8769, 0.7577],\n",
       "       [0.8871, 0.7583],\n",
       "       [0.8895, 0.7626],\n",
       "       [0.9335, 0.766 ],\n",
       "       [0.9358, 0.767 ],\n",
       "       [0.9158, 0.7649],\n",
       "       [0.9471, 0.7651],\n",
       "       [0.9213, 0.7638],\n",
       "       [0.9432, 0.7661],\n",
       "       [0.9082, 0.768 ],\n",
       "       [0.9033, 0.7628],\n",
       "       [0.9394, 0.7725],\n",
       "       [0.9144, 0.7685]])"
      ]
     },
     "execution_count": 382,
     "metadata": {},
     "output_type": "execute_result"
    }
   ],
   "source": [
    "iter_ = np.array(iter_)\n",
    "iter_"
   ]
  },
  {
   "cell_type": "code",
   "execution_count": 384,
   "metadata": {
    "scrolled": true
   },
   "outputs": [
    {
     "name": "stdout",
     "output_type": "stream",
     "text": [
      "Wall time: 2min 36s\n"
     ]
    },
    {
     "data": {
      "text/plain": [
       "<catboost.core.CatBoostClassifier at 0x36071588>"
      ]
     },
     "execution_count": 384,
     "metadata": {},
     "output_type": "execute_result"
    }
   ],
   "source": [
    "%%time\n",
    "ctb.fit(X_valid, y_train,\n",
    "        cat_features=cat_i);"
   ]
  },
  {
   "cell_type": "code",
   "execution_count": 385,
   "metadata": {},
   "outputs": [
    {
     "data": {
      "text/plain": [
       "0.9712735822308832"
      ]
     },
     "execution_count": 385,
     "metadata": {},
     "output_type": "execute_result"
    }
   ],
   "source": [
    "ctb_test_pred = ctb.predict_proba(X_test)[:, 1]\n",
    "roc_auc_score(y_train, ctb.predict_proba(X_valid)[:, 1])"
   ]
  },
  {
   "cell_type": "code",
   "execution_count": 386,
   "metadata": {},
   "outputs": [],
   "source": [
    "with warnings.catch_warnings():\n",
    "    warnings.simplefilter(\"ignore\")\n",
    "    \n",
    "    sample_sub = pd.read_csv('../../data/sample_submission.csv', \n",
    "                             index_col='id')\n",
    "    sample_sub['dep_delayed_15min'] = ctb_test_pred\n",
    "    sample_sub.to_csv('try_drop_o_h.csv')"
   ]
  }
 ],
 "metadata": {
  "kernelspec": {
   "display_name": "Python 3",
   "language": "python",
   "name": "python3"
  }
 },
 "nbformat": 4,
 "nbformat_minor": 2
}
