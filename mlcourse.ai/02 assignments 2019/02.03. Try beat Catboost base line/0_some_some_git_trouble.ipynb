{
 "cells": [
  {
   "cell_type": "code",
   "execution_count": 1,
   "metadata": {},
   "outputs": [],
   "source": [
    "from IPython.core.interactiveshell import InteractiveShell\n",
    "InteractiveShell.ast_node_interactivity = \"all\"\n",
    "\n",
    "import warnings\n",
    "import numpy as np\n",
    "import pandas as pd\n",
    "import catboost\n",
    "\n",
    "from catboost import cv, Pool\n",
    "import matplotlib.pyplot as plt\n",
    "\n",
    "from pathlib import Path\n",
    "from sklearn.model_selection import train_test_split\n",
    "from sklearn.metrics import roc_auc_score\n",
    "from catboost import CatBoostClassifier\n",
    "from sklearn.model_selection import cross_val_score, StratifiedKFold"
   ]
  },
  {
   "cell_type": "code",
   "execution_count": 2,
   "metadata": {},
   "outputs": [
    {
     "data": {
      "text/plain": [
       "'0.17.4'"
      ]
     },
     "execution_count": 2,
     "metadata": {},
     "output_type": "execute_result"
    }
   ],
   "source": [
    "catboost.__version__"
   ]
  },
  {
   "cell_type": "code",
   "execution_count": 3,
   "metadata": {},
   "outputs": [
    {
     "data": {
      "text/plain": [
       "'1.17.2'"
      ]
     },
     "execution_count": 3,
     "metadata": {},
     "output_type": "execute_result"
    }
   ],
   "source": [
    "np.__version__"
   ]
  },
  {
   "cell_type": "code",
   "execution_count": 4,
   "metadata": {},
   "outputs": [],
   "source": [
    "days_from_start = {\n",
    "    1: 0, 2: 31, 3: 59, 4: 90, 5: 120, 6: 151, 7: 181,\n",
    "    8: 212, 9: 243, 10: 273, 11: 304, 12: 334\n",
    "}\n",
    "\n",
    "days_in_month = {\n",
    "    1: 31,  2: 28,  3: 31,  4: 30, 5: 31, 6: 30,\n",
    "    7: 31, 8: 31, 9: 30,  10: 31, 11: 30, 12: 31\n",
    "}\n",
    "\n",
    "params =  {\n",
    "    \"random_seed\": 17,\n",
    "    \"eval_metric\": \"AUC\"\n",
    "    \n",
    "}\n",
    "\n",
    "season_from_moth = {12: \"winter\", 1: \"winter\", 2: \"winter\",\n",
    "                    3: \"spring\", 4: \"spring\", 5: \"spring\", \n",
    "                    6: \"summer\", 7: \"summer\", 8: \"summer\", \n",
    "                    9: \"autumn\", 10: \"autumn\", 11: \"autumn\"\n",
    "                   }\n",
    "\n",
    "weekend = {1: 0, 2: 0,  3: 0, 4: 0, 5: 0, 6: 1, 7: 1 }"
   ]
  },
  {
   "cell_type": "code",
   "execution_count": 5,
   "metadata": {},
   "outputs": [],
   "source": [
    "def encode_and_cat(data):\n",
    "    for name in encode_names:\n",
    "        data[name] = pd.factorize(data[name])[0]\n",
    "        \n",
    "    for name in cat_names:\n",
    "        data[name] = data[name].astype('category')    "
   ]
  },
  {
   "cell_type": "code",
   "execution_count": null,
   "metadata": {},
   "outputs": [],
   "source": [
    "    data.DayofMonth = data.DayofMonth + data.DepTime // 2401\n",
    "    data.DayOfWeek = data.DayOfWeek + data.DepTime // 2401\n",
    "    data.Month = data.Month + data.DayofMonth // (data.days_in_m + 1)\n",
    "    \n",
    "    data.DepTime = data.DepTime % 2401\n",
    "    data.DepTime = data.DepTime + (data.DepTime == 0)\n",
    "    "
   ]
  },
  {
   "cell_type": "code",
   "execution_count": 40,
   "metadata": {},
   "outputs": [],
   "source": [
    "cat_names = \"Month DayofMonth DayOfWeek UniqueCarrier Origin Dest hour\".split()\n",
    "cat_names.extend(\"fligth\".split())\n",
    "\n",
    "encode_names = \"UniqueCarrier Origin Dest fligth\".split()\n",
    "\n",
    "def clean_data(data):\n",
    "    for name in ['Month', 'DayofMonth', 'DayOfWeek']:\n",
    "        data[name] = data[name].str[2:].astype(int)\n",
    "    \n",
    "    data[\"days_in_m\"] = data.Month.map(days_in_month)\n",
    "    \n",
    "\n",
    "\n",
    "    #8  -- add minutes as num\n",
    "    data[\"minutes\"] = data.DepTime % 100\n",
    "    # -- 4\n",
    "    data[\"hour\"] = data.DepTime // 100\n",
    "    \n",
    "    data.loc[data['hour'] == 24, 'hour'] = 0\n",
    "    data.loc[data['hour'] == 25, 'hour'] = 1\n",
    "    \n",
    "        \n",
    "    # -- 1\n",
    "    data[\"dep_t\"] = data.hour  // 100 * 60 + data.DepTime % 100 # some accturacy on cv\n",
    "    \n",
    "    # -- 2\n",
    "    data.Distance = np.power(np.log10(data.Distance), 2)\n",
    "    # -- 3 (0.857, 0.752)\n",
    "    data['sin_time'] = np.sin(2 * np.pi * data.dep_t / (24*60))\n",
    "    data['cos_time'] = np.cos(2 * np.pi * data.dep_t / (24*60))    \n",
    "    \n",
    "    data.drop(\"dep_t\", axis=1, inplace=True)\n",
    "    \n",
    "    # -- 5  add season (0.8516, 0.7519)\n",
    "    # data[\"season\"] = data.Month.map(season_from_moth)\n",
    "    # -- 6 season as dummy 0.8483, 0.7517 \n",
    "    # -- 7 add fligth (0.865, 0.7538)\n",
    "    data[\"fligth\"] = data.Origin + \"_\" + data.Dest\n",
    "    # -- 9\n",
    "    # data['daytime'] = pd.cut(data['hour'], bins=[1, 6, 12, 18, 24], include_lowest=True)\n",
    "    \n",
    "    # --- 10 change recalculate\n",
    "    # --- 11 drop season and daytime --- beat baseline\n",
    "    \n",
    "    data.drop([\"days_in_m\"], axis=1, inplace=True)"
   ]
  },
  {
   "cell_type": "code",
   "execution_count": 17,
   "metadata": {},
   "outputs": [],
   "source": [
    "df = pd.read_csv('../../data/flight_delays_train.csv')\n",
    "y_train = df['dep_delayed_15min'].map({'Y': 1, 'N': 0})\n",
    "df.drop(\"dep_delayed_15min\", axis=1, inplace=True)\n",
    "test_df = pd.read_csv('../../data/flight_delays_test.csv')\n",
    "split = df.shape[0]"
   ]
  },
  {
   "cell_type": "code",
   "execution_count": 18,
   "metadata": {},
   "outputs": [
    {
     "data": {
      "text/html": [
       "<div>\n",
       "<style scoped>\n",
       "    .dataframe tbody tr th:only-of-type {\n",
       "        vertical-align: middle;\n",
       "    }\n",
       "\n",
       "    .dataframe tbody tr th {\n",
       "        vertical-align: top;\n",
       "    }\n",
       "\n",
       "    .dataframe thead th {\n",
       "        text-align: right;\n",
       "    }\n",
       "</style>\n",
       "<table border=\"1\" class=\"dataframe\">\n",
       "  <thead>\n",
       "    <tr style=\"text-align: right;\">\n",
       "      <th></th>\n",
       "      <th>Month</th>\n",
       "      <th>DayofMonth</th>\n",
       "      <th>DayOfWeek</th>\n",
       "      <th>DepTime</th>\n",
       "      <th>UniqueCarrier</th>\n",
       "      <th>Origin</th>\n",
       "      <th>Dest</th>\n",
       "      <th>Distance</th>\n",
       "    </tr>\n",
       "  </thead>\n",
       "  <tbody>\n",
       "    <tr>\n",
       "      <th>0</th>\n",
       "      <td>c-8</td>\n",
       "      <td>c-21</td>\n",
       "      <td>c-7</td>\n",
       "      <td>1934</td>\n",
       "      <td>AA</td>\n",
       "      <td>ATL</td>\n",
       "      <td>DFW</td>\n",
       "      <td>732</td>\n",
       "    </tr>\n",
       "    <tr>\n",
       "      <th>1</th>\n",
       "      <td>c-4</td>\n",
       "      <td>c-20</td>\n",
       "      <td>c-3</td>\n",
       "      <td>1548</td>\n",
       "      <td>US</td>\n",
       "      <td>PIT</td>\n",
       "      <td>MCO</td>\n",
       "      <td>834</td>\n",
       "    </tr>\n",
       "  </tbody>\n",
       "</table>\n",
       "</div>"
      ],
      "text/plain": [
       "  Month DayofMonth DayOfWeek  DepTime UniqueCarrier Origin Dest  Distance\n",
       "0   c-8       c-21       c-7     1934            AA    ATL  DFW       732\n",
       "1   c-4       c-20       c-3     1548            US    PIT  MCO       834"
      ]
     },
     "execution_count": 18,
     "metadata": {},
     "output_type": "execute_result"
    }
   ],
   "source": [
    "df.head(2)"
   ]
  },
  {
   "cell_type": "code",
   "execution_count": 31,
   "metadata": {},
   "outputs": [
    {
     "data": {
      "text/plain": [
       "array([ 0,  1,  2,  4,  5,  6,  9, 12], dtype=int64)"
      ]
     },
     "execution_count": 31,
     "metadata": {},
     "output_type": "execute_result"
    },
    {
     "data": {
      "text/plain": [
       "(200000, 13)"
      ]
     },
     "execution_count": 31,
     "metadata": {},
     "output_type": "execute_result"
    },
    {
     "data": {
      "text/html": [
       "<div>\n",
       "<style scoped>\n",
       "    .dataframe tbody tr th:only-of-type {\n",
       "        vertical-align: middle;\n",
       "    }\n",
       "\n",
       "    .dataframe tbody tr th {\n",
       "        vertical-align: top;\n",
       "    }\n",
       "\n",
       "    .dataframe thead th {\n",
       "        text-align: right;\n",
       "    }\n",
       "</style>\n",
       "<table border=\"1\" class=\"dataframe\">\n",
       "  <thead>\n",
       "    <tr style=\"text-align: right;\">\n",
       "      <th></th>\n",
       "      <th>Month</th>\n",
       "      <th>DayofMonth</th>\n",
       "      <th>DayOfWeek</th>\n",
       "      <th>DepTime</th>\n",
       "      <th>UniqueCarrier</th>\n",
       "      <th>Origin</th>\n",
       "      <th>Dest</th>\n",
       "      <th>Distance</th>\n",
       "      <th>minutes</th>\n",
       "      <th>hour</th>\n",
       "      <th>sin_time</th>\n",
       "      <th>cos_time</th>\n",
       "      <th>fligth</th>\n",
       "    </tr>\n",
       "  </thead>\n",
       "  <tbody>\n",
       "    <tr>\n",
       "      <th>0</th>\n",
       "      <td>8</td>\n",
       "      <td>21</td>\n",
       "      <td>7</td>\n",
       "      <td>1934</td>\n",
       "      <td>0</td>\n",
       "      <td>0</td>\n",
       "      <td>0</td>\n",
       "      <td>8.205424</td>\n",
       "      <td>34</td>\n",
       "      <td>19</td>\n",
       "      <td>0.147809</td>\n",
       "      <td>0.989016</td>\n",
       "      <td>0</td>\n",
       "    </tr>\n",
       "    <tr>\n",
       "      <th>1</th>\n",
       "      <td>4</td>\n",
       "      <td>20</td>\n",
       "      <td>3</td>\n",
       "      <td>1548</td>\n",
       "      <td>1</td>\n",
       "      <td>1</td>\n",
       "      <td>1</td>\n",
       "      <td>8.533211</td>\n",
       "      <td>48</td>\n",
       "      <td>15</td>\n",
       "      <td>0.207912</td>\n",
       "      <td>0.978148</td>\n",
       "      <td>1</td>\n",
       "    </tr>\n",
       "  </tbody>\n",
       "</table>\n",
       "</div>"
      ],
      "text/plain": [
       "  Month DayofMonth DayOfWeek  DepTime UniqueCarrier Origin Dest  Distance  \\\n",
       "0     8         21         7     1934             0      0    0  8.205424   \n",
       "1     4         20         3     1548             1      1    1  8.533211   \n",
       "\n",
       "   minutes hour  sin_time  cos_time fligth  \n",
       "0       34   19  0.147809  0.989016      0  \n",
       "1       48   15  0.207912  0.978148      1  "
      ]
     },
     "execution_count": 31,
     "metadata": {},
     "output_type": "execute_result"
    }
   ],
   "source": [
    "full_df = pd.concat((df, test_df))\n",
    "\n",
    "clean_data(full_df)\n",
    "encode_and_cat(full_df)\n",
    "\n",
    "X_valid, X_test = full_df[:split].values, full_df[split:].values\n",
    "\n",
    "cat_i = np.where(full_df.dtypes == 'category')[0]\n",
    "cat_i\n",
    "full_df.shape\n",
    "full_df.head(2)"
   ]
  },
  {
   "cell_type": "code",
   "execution_count": 32,
   "metadata": {
    "scrolled": true
   },
   "outputs": [
    {
     "name": "stdout",
     "output_type": "stream",
     "text": [
      " |  | 1\n",
      " | 2\n",
      " | 3\n",
      "Wall time: 4min 32s\n"
     ]
    }
   ],
   "source": [
    "%%time\n",
    "\n",
    "test_score = []\n",
    "train_score = []\n",
    "\n",
    "skf = StratifiedKFold(n_splits=3, shuffle=True, random_state=17)\n",
    "\n",
    "i = 0\n",
    "for test_index, train_index in skf.split(X_valid, y_train):\n",
    "    print(\"| \", end=\"\")\n",
    "    \n",
    "    X_train_1, X_test_1 = X_valid[train_index, :], X_valid[test_index, :]\n",
    "    y_train_1, y_test_1 = y_train[train_index], y_train[test_index]\n",
    "    \n",
    "    \n",
    "    ctb = CatBoostClassifier(random_seed=17,\n",
    "                              silent=True\n",
    "                             ).fit(X_train_1, y_train_1, cat_features=cat_i)\n",
    "    \n",
    "    test_score.append(\n",
    "        roc_auc_score(y_test_1, ctb.predict_proba(X_test_1)[:, 1]))\n",
    "    \n",
    "    train_score.append(roc_auc_score(y_train_1, ctb.predict_proba(X_train_1)[:, 1]))\n",
    "    \n",
    "    i += 1\n",
    "    print(i, end = \" \")\n",
    "    "
   ]
  },
  {
   "cell_type": "code",
   "execution_count": 12,
   "metadata": {},
   "outputs": [],
   "source": [
    "iter_ = [[0.828 , 0.7429],\n",
    "       [0.8297, 0.7429],\n",
    "       [0.8297, 0.7429],\n",
    "       [0.8218, 0.7433],\n",
    "       [0.857 , 0.752 ],\n",
    "       [0.8516, 0.7519],\n",
    "       [0.8483, 0.7517],\n",
    "       [0.865 , 0.7538],\n",
    "       [0.8769, 0.7577],\n",
    "       [0.8647, 0.756 ],\n",
    "       [0.8741, 0.7569],\n",
    "       [0.8723, 0.7565],\n",
    "       [0.8871, 0.7583]]"
   ]
  },
  {
   "cell_type": "code",
   "execution_count": null,
   "metadata": {},
   "outputs": [],
   "source": [
    "iter_ = np.array(iter_)"
   ]
  },
  {
   "cell_type": "code",
   "execution_count": 33,
   "metadata": {},
   "outputs": [],
   "source": [
    "iter_.append((round(np.mean(train_score), 4), round(np.mean(test_score), 4)))"
   ]
  },
  {
   "cell_type": "code",
   "execution_count": 44,
   "metadata": {},
   "outputs": [
    {
     "data": {
      "text/plain": [
       "array([[0.828 , 0.7429],\n",
       "       [0.8297, 0.7429],\n",
       "       [0.8297, 0.7429],\n",
       "       [0.8218, 0.7433],\n",
       "       [0.857 , 0.752 ],\n",
       "       [0.8516, 0.7519],\n",
       "       [0.8483, 0.7517],\n",
       "       [0.865 , 0.7538],\n",
       "       [0.8769, 0.7577],\n",
       "       [0.8647, 0.756 ],\n",
       "       [0.8741, 0.7569],\n",
       "       [0.8723, 0.7565],\n",
       "       [0.8871, 0.7583]])"
      ]
     },
     "execution_count": 44,
     "metadata": {},
     "output_type": "execute_result"
    }
   ],
   "source": [
    "iter_"
   ]
  },
  {
   "cell_type": "code",
   "execution_count": 53,
   "metadata": {},
   "outputs": [
    {
     "data": {
      "image/png": "[encoded data removed]",
      "text/plain": [
       "<Figure size 900x600 with 1 Axes>"
      ]
     },
     "metadata": {
      "needs_background": "light"
     },
     "output_type": "display_data"
    }
   ],
   "source": [
    "x = np.arange(1, len(iter_) + 1)\n",
    "plt.figure(dpi=150)\n",
    "plt.plot(x, iter_[:, 0], label=\"train\");\n",
    "plt.plot(x, iter_[:, 1], label=\"test\");\n",
    "plt.ylabel(\"Roc auc score\");\n",
    "plt.xlabel(\"num of feaеtures engineering\");\n",
    "plt.legend();"
   ]
  },
  {
   "cell_type": "code",
   "execution_count": 35,
   "metadata": {
    "scrolled": true
   },
   "outputs": [
    {
     "name": "stdout",
     "output_type": "stream",
     "text": [
      "0.8871  - train score\n",
      "0.7583  - test score\n",
      "(29.46701447062555, 'hour')\n",
      "(16.045687820949198, 'DepTime')\n",
      "(8.331970646519023, 'UniqueCarrier')\n",
      "(6.57683639781866, 'Month')\n",
      "(6.176857661333528, 'Origin')\n",
      "(6.073900120153994, 'fligth')\n",
      "(5.9363282259019865, 'Dest')\n",
      "(4.443706470866662, 'DayOfWeek')\n",
      "(4.225422883994927, 'DayofMonth')\n",
      "(4.159184695228634, 'Distance')\n",
      "(3.1680133300508673, 'cos_time')\n",
      "(2.8152070617581786, 'minutes')\n",
      "(2.579870214798677, 'sin_time')\n"
     ]
    }
   ],
   "source": [
    "# drop daytime and season\n",
    "print(round(np.mean(train_score), 4), \" - train score\")\n",
    "print(round(np.mean(test_score), 4), \" - test score\")\n",
    "print(*sorted(zip(ctb.get_feature_importance(), full_df.columns), reverse=True), sep=\"\\n\")"
   ]
  },
  {
   "cell_type": "code",
   "execution_count": 26,
   "metadata": {},
   "outputs": [
    {
     "name": "stdout",
     "output_type": "stream",
     "text": [
      "0.8723  - train score\n",
      "0.7565  - test score\n",
      "(21.03685917985345, 'hour')\n",
      "(16.29549492559493, 'daytime')\n",
      "(10.423194032307377, 'DepTime')\n",
      "(7.658367060492322, 'UniqueCarrier')\n",
      "(6.8852575109387075, 'fligth')\n",
      "(5.750071078329226, 'Month')\n",
      "(4.795076313613704, 'Origin')\n",
      "(4.724916981037079, 'DayofMonth')\n",
      "(4.628544555224909, 'Dest')\n",
      "(4.518182793908016, 'DayOfWeek')\n",
      "(3.920689924668831, 'Distance')\n",
      "(3.6529998617908697, 'season')\n",
      "(2.2108980434439793, 'sin_time')\n",
      "(2.1795649988552848, 'minutes')\n",
      "(1.3198827399414657, 'cos_time')\n"
     ]
    }
   ],
   "source": [
    "# change recalculate\n",
    "print(round(np.mean(train_score), 4), \" - train score\")\n",
    "print(round(np.mean(test_score), 4), \" - test score\")\n",
    "print(*sorted(zip(ctb.get_feature_importance(), full_df.columns), reverse=True), sep=\"\\n\")"
   ]
  },
  {
   "cell_type": "code",
   "execution_count": 37,
   "metadata": {},
   "outputs": [
    {
     "name": "stdout",
     "output_type": "stream",
     "text": [
      "Wall time: 2min 27s\n"
     ]
    },
    {
     "data": {
      "text/plain": [
       "<catboost.core.CatBoostClassifier at 0xe376390>"
      ]
     },
     "execution_count": 37,
     "metadata": {},
     "output_type": "execute_result"
    }
   ],
   "source": [
    "%%time\n",
    "ctb.fit(X_valid, y_train,\n",
    "        cat_features=cat_i);"
   ]
  },
  {
   "cell_type": "code",
   "execution_count": 38,
   "metadata": {},
   "outputs": [],
   "source": [
    "ctb_test_pred = ctb.predict_proba(X_test)[:, 1]\n"
   ]
  },
  {
   "cell_type": "code",
   "execution_count": 39,
   "metadata": {},
   "outputs": [],
   "source": [
    "with warnings.catch_warnings():\n",
    "    warnings.simplefilter(\"ignore\")\n",
    "    \n",
    "    sample_sub = pd.read_csv('../../data/sample_submission.csv', \n",
    "                             index_col='id')\n",
    "    sample_sub['dep_delayed_15min'] = ctb_test_pred\n",
    "    sample_sub.to_csv('hour, minutes, sin_time, cos_time.csv')"
   ]
  }
 ],
 "metadata": {
  "kernelspec": {
   "display_name": "Python 3",
   "language": "python",
   "name": "python3"
  },
  "language_info": {
   "codemirror_mode": {
    "name": "ipython",
    "version": 3
   },
   "file_extension": ".py",
   "mimetype": "text/x-python",
   "name": "python",
   "nbconvert_exporter": "python",
   "pygments_lexer": "ipython3",
   "version": "3.6.8"
  }
 },
 "nbformat": 4,
 "nbformat_minor": 2
}
