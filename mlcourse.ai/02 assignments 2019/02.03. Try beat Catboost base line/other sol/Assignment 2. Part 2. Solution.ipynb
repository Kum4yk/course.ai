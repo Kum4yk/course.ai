{
 "cells": [
  {
   "cell_type": "code",
   "execution_count": 1,
   "metadata": {},
   "outputs": [],
   "source": [
    "import warnings\n",
    "import numpy as np\n",
    "import pandas as pd\n",
    "from pathlib import Path\n",
    "from sklearn.model_selection import train_test_split, StratifiedKFold, cross_val_score\n",
    "from sklearn.metrics import roc_auc_score\n",
    "from catboost import CatBoostClassifier\n",
    "import matplotlib.pyplot as plt\n",
    "import seaborn as sns"
   ]
  },
  {
   "cell_type": "code",
   "execution_count": 2,
   "metadata": {},
   "outputs": [],
   "source": [
    "df_train = pd.read_csv(r'../data/flight_delays_train.csv')\n",
    "df_test = pd.read_csv(r'../data/flight_delays_test.csv')"
   ]
  },
  {
   "cell_type": "code",
   "execution_count": 3,
   "metadata": {},
   "outputs": [],
   "source": [
    "df_train['DepTime'].where(df_train['DepTime']<2400, df_train['DepTime']-2400, inplace=True)"
   ]
  },
  {
   "cell_type": "code",
   "execution_count": 4,
   "metadata": {},
   "outputs": [],
   "source": [
    "df_train['DepTime'] = df_train['DepTime'].apply(lambda x: x//100 + (x % 100)/60) \n",
    "df_test['DepTime'] = df_test['DepTime'].apply(lambda x: x//100 + (x % 100)/60) "
   ]
  },
  {
   "cell_type": "code",
   "execution_count": 5,
   "metadata": {},
   "outputs": [],
   "source": [
    "df_train['Flight'] = df_train['UniqueCarrier'] + ':' + df_train['Origin'] + '->' + df_train['Dest']\n",
    "df_test['Flight'] = df_test['UniqueCarrier'] + ':' + df_test['Origin'] + '->' + df_test['Dest']"
   ]
  },
  {
   "cell_type": "code",
   "execution_count": 6,
   "metadata": {},
   "outputs": [],
   "source": [
    "df_train['DepTime_full_hour'] = df_train['DepTime'].apply(lambda x: str(int(x)))\n",
    "df_test['DepTime_full_hour'] = df_test['DepTime'].apply(lambda x: str(int(x)))"
   ]
  },
  {
   "cell_type": "code",
   "execution_count": 7,
   "metadata": {},
   "outputs": [],
   "source": [
    "flight_group_train = df_train.groupby(['Flight'])\n",
    "\n",
    "def get_prev_train(x):\n",
    "    times = sorted(flight_group_train.get_group(x.Flight)['DepTime'])\n",
    "    ind = times.index(x.DepTime)\n",
    "    return 0 if ind == 0 else times[ind] - times[ind-1]\n",
    "\n",
    "df_train['Time_since_last'] = df_train.apply(get_prev_train, axis=1)"
   ]
  },
  {
   "cell_type": "code",
   "execution_count": 8,
   "metadata": {},
   "outputs": [],
   "source": [
    "flight_group_test = df_test.groupby(['Flight'])\n",
    "\n",
    "def get_prev_test(x):\n",
    "    times = sorted(flight_group_test.get_group(x.Flight)['DepTime'])\n",
    "    ind = times.index(x.DepTime)\n",
    "    return 0 if ind == 0 else times[ind] - times[ind-1]\n",
    "\n",
    "df_test['Time_since_last'] = df_test.apply(get_prev_test, axis=1)"
   ]
  },
  {
   "cell_type": "code",
   "execution_count": 9,
   "metadata": {},
   "outputs": [],
   "source": [
    "features = list(df_train.drop('dep_delayed_15min', axis=1).columns)\n",
    "df_train = df_train[features + ['dep_delayed_15min']]\n",
    "df_test = df_test[features]"
   ]
  },
  {
   "cell_type": "code",
   "execution_count": 10,
   "metadata": {},
   "outputs": [],
   "source": [
    "X_train = df_train.drop('dep_delayed_15min', axis=1).values\n",
    "y_train = df_train['dep_delayed_15min'].map({'Y': 1, 'N': 0}).values\n",
    "X_test = df_test.values\n",
    "X_train_part, X_valid, y_train_part, y_valid = train_test_split(X_train, y_train, \n",
    "                                                                test_size=0.3, \n",
    "                                                                random_state=17)"
   ]
  },
  {
   "cell_type": "code",
   "execution_count": 11,
   "metadata": {},
   "outputs": [
    {
     "data": {
      "text/html": [
       "<div>\n",
       "<style scoped>\n",
       "    .dataframe tbody tr th:only-of-type {\n",
       "        vertical-align: middle;\n",
       "    }\n",
       "\n",
       "    .dataframe tbody tr th {\n",
       "        vertical-align: top;\n",
       "    }\n",
       "\n",
       "    .dataframe thead th {\n",
       "        text-align: right;\n",
       "    }\n",
       "</style>\n",
       "<table border=\"1\" class=\"dataframe\">\n",
       "  <thead>\n",
       "    <tr style=\"text-align: right;\">\n",
       "      <th></th>\n",
       "      <th>Month</th>\n",
       "      <th>DayofMonth</th>\n",
       "      <th>DayOfWeek</th>\n",
       "      <th>DepTime</th>\n",
       "      <th>UniqueCarrier</th>\n",
       "      <th>Origin</th>\n",
       "      <th>Dest</th>\n",
       "      <th>Distance</th>\n",
       "      <th>Flight</th>\n",
       "      <th>DepTime_full_hour</th>\n",
       "      <th>Time_since_last</th>\n",
       "      <th>dep_delayed_15min</th>\n",
       "    </tr>\n",
       "  </thead>\n",
       "  <tbody>\n",
       "    <tr>\n",
       "      <th>0</th>\n",
       "      <td>c-8</td>\n",
       "      <td>c-21</td>\n",
       "      <td>c-7</td>\n",
       "      <td>19.566667</td>\n",
       "      <td>AA</td>\n",
       "      <td>ATL</td>\n",
       "      <td>DFW</td>\n",
       "      <td>732</td>\n",
       "      <td>AA:ATL-&gt;DFW</td>\n",
       "      <td>19</td>\n",
       "      <td>0.916667</td>\n",
       "      <td>N</td>\n",
       "    </tr>\n",
       "    <tr>\n",
       "      <th>1</th>\n",
       "      <td>c-4</td>\n",
       "      <td>c-20</td>\n",
       "      <td>c-3</td>\n",
       "      <td>15.800000</td>\n",
       "      <td>US</td>\n",
       "      <td>PIT</td>\n",
       "      <td>MCO</td>\n",
       "      <td>834</td>\n",
       "      <td>US:PIT-&gt;MCO</td>\n",
       "      <td>15</td>\n",
       "      <td>0.250000</td>\n",
       "      <td>N</td>\n",
       "    </tr>\n",
       "    <tr>\n",
       "      <th>2</th>\n",
       "      <td>c-9</td>\n",
       "      <td>c-2</td>\n",
       "      <td>c-5</td>\n",
       "      <td>14.366667</td>\n",
       "      <td>XE</td>\n",
       "      <td>RDU</td>\n",
       "      <td>CLE</td>\n",
       "      <td>416</td>\n",
       "      <td>XE:RDU-&gt;CLE</td>\n",
       "      <td>14</td>\n",
       "      <td>0.050000</td>\n",
       "      <td>N</td>\n",
       "    </tr>\n",
       "    <tr>\n",
       "      <th>3</th>\n",
       "      <td>c-11</td>\n",
       "      <td>c-25</td>\n",
       "      <td>c-6</td>\n",
       "      <td>10.250000</td>\n",
       "      <td>OO</td>\n",
       "      <td>DEN</td>\n",
       "      <td>MEM</td>\n",
       "      <td>872</td>\n",
       "      <td>OO:DEN-&gt;MEM</td>\n",
       "      <td>10</td>\n",
       "      <td>0.166667</td>\n",
       "      <td>N</td>\n",
       "    </tr>\n",
       "    <tr>\n",
       "      <th>4</th>\n",
       "      <td>c-10</td>\n",
       "      <td>c-7</td>\n",
       "      <td>c-6</td>\n",
       "      <td>18.466667</td>\n",
       "      <td>WN</td>\n",
       "      <td>MDW</td>\n",
       "      <td>OMA</td>\n",
       "      <td>423</td>\n",
       "      <td>WN:MDW-&gt;OMA</td>\n",
       "      <td>18</td>\n",
       "      <td>0.033333</td>\n",
       "      <td>Y</td>\n",
       "    </tr>\n",
       "  </tbody>\n",
       "</table>\n",
       "</div>"
      ],
      "text/plain": [
       "  Month DayofMonth DayOfWeek    DepTime UniqueCarrier Origin Dest  Distance  \\\n",
       "0   c-8       c-21       c-7  19.566667            AA    ATL  DFW       732   \n",
       "1   c-4       c-20       c-3  15.800000            US    PIT  MCO       834   \n",
       "2   c-9        c-2       c-5  14.366667            XE    RDU  CLE       416   \n",
       "3  c-11       c-25       c-6  10.250000            OO    DEN  MEM       872   \n",
       "4  c-10        c-7       c-6  18.466667            WN    MDW  OMA       423   \n",
       "\n",
       "        Flight DepTime_full_hour  Time_since_last dep_delayed_15min  \n",
       "0  AA:ATL->DFW                19         0.916667                 N  \n",
       "1  US:PIT->MCO                15         0.250000                 N  \n",
       "2  XE:RDU->CLE                14         0.050000                 N  \n",
       "3  OO:DEN->MEM                10         0.166667                 N  \n",
       "4  WN:MDW->OMA                18         0.033333                 Y  "
      ]
     },
     "execution_count": 11,
     "metadata": {},
     "output_type": "execute_result"
    }
   ],
   "source": [
    "df_train.head()"
   ]
  },
  {
   "cell_type": "code",
   "execution_count": 12,
   "metadata": {},
   "outputs": [
    {
     "data": {
      "text/plain": [
       "array([0, 1, 2, 4, 5, 6, 8, 9], dtype=int64)"
      ]
     },
     "execution_count": 12,
     "metadata": {},
     "output_type": "execute_result"
    }
   ],
   "source": [
    "categ_feat_idx = np.where(df_train.drop('dep_delayed_15min', axis=1).dtypes == 'object')[0]\n",
    "categ_feat_idx"
   ]
  },
  {
   "cell_type": "code",
   "execution_count": 13,
   "metadata": {},
   "outputs": [],
   "source": [
    "ctb = CatBoostClassifier(random_seed=7, silent=True)\n",
    "ctb.fit(X_train_part, y_train_part, cat_features=categ_feat_idx);"
   ]
  },
  {
   "cell_type": "code",
   "execution_count": 14,
   "metadata": {},
   "outputs": [
    {
     "data": {
      "text/plain": [
       "0.8272058213619072"
      ]
     },
     "execution_count": 14,
     "metadata": {},
     "output_type": "execute_result"
    }
   ],
   "source": [
    "ctb_valid_pred = ctb.predict_proba(X_valid)[:, 1]\n",
    "roc_auc_score(y_valid, ctb_valid_pred)"
   ]
  },
  {
   "cell_type": "code",
   "execution_count": 16,
   "metadata": {},
   "outputs": [],
   "source": [
    "ctb = CatBoostClassifier(random_seed=7, silent=True)\n",
    "ctb.fit(X_train, y_train, cat_features=categ_feat_idx);\n",
    "\n",
    "ctb_test_pred = ctb.predict_proba(X_test)[:, 1]\n",
    "\n",
    "with warnings.catch_warnings():\n",
    "    warnings.simplefilter(\"ignore\")\n",
    "    \n",
    "    sample_sub = pd.read_csv(r'../data/sample_submission.csv', \n",
    "                             index_col='id')\n",
    "    sample_sub['dep_delayed_15min'] = ctb_test_pred\n",
    "    sample_sub.to_csv(r'../submissions/submission_9.csv')"
   ]
  },
  {
   "cell_type": "code",
   "execution_count": null,
   "metadata": {},
   "outputs": [],
   "source": []
  }
 ],
 "metadata": {
  "kernelspec": {
   "display_name": "Python 3",
   "language": "python",
   "name": "python3"
  },
  "language_info": {
   "codemirror_mode": {
    "name": "ipython",
    "version": 3
   },
   "file_extension": ".py",
   "mimetype": "text/x-python",
   "name": "python",
   "nbconvert_exporter": "python",
   "pygments_lexer": "ipython3",
   "version": "3.6.8"
  }
 },
 "nbformat": 4,
 "nbformat_minor": 2
}
