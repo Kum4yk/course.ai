{
 "cells": [
  {
   "cell_type": "markdown",
   "metadata": {},
   "source": [
    "<center>\n",
    "<img src=\"https://habrastorage.org/files/fd4/502/43d/fd450243dd604b81b9713213a247aa20.jpg\" />\n",
    "</center> \n",
    "     \n",
    "## <center>  [mlcourse.ai](https://mlcourse.ai) – Open Machine Learning Course \n",
    "\n",
    "#### <center> Author: [Yury Kashnitsky](https://yorko.github.io) (@yorko) \n",
    "\n",
    "# <center>Assignment #2. Fall 2019\n",
    "## <center> Part 2. Gradient boosting"
   ]
  },
  {
   "cell_type": "markdown",
   "metadata": {},
   "source": [
    "**In this assignment, you're asked to beat a baseline in the [\"Flight delays\" competition](https://www.kaggle.com/c/flight-delays-fall-2018).**\n",
    "\n",
    "This time we decided to share a pretty decent CatBoost baseline, you'll have to improve the provided solution.\n",
    "\n",
    "Prior to working on the assignment, you'd better check out the corresponding course material:\n",
    " 1. [Classification, Decision Trees and k Nearest Neighbors](https://nbviewer.jupyter.org/github/Yorko/mlcourse_open/blob/master/jupyter_english/topic03_decision_trees_kNN/topic3_decision_trees_kNN.ipynb?flush_cache=true), the same as an interactive web-based [Kaggle Kernel](https://www.kaggle.com/kashnitsky/topic-3-decision-trees-and-knn) \n",
    " 2. Ensembles:\n",
    "  - [Bagging](https://nbviewer.jupyter.org/github/Yorko/mlcourse_open/blob/master/jupyter_english/topic05_ensembles_random_forests/topic5_part1_bagging.ipynb?flush_cache=true), the same as a [Kaggle Kernel](https://www.kaggle.com/kashnitsky/topic-5-ensembles-part-1-bagging)\n",
    "  - [Random Forest](https://nbviewer.jupyter.org/github/Yorko/mlcourse_open/blob/master/jupyter_english/topic05_ensembles_random_forests/topic5_part2_random_forest.ipynb?flush_cache=true), the same as a [Kaggle Kernel](https://www.kaggle.com/kashnitsky/topic-5-ensembles-part-2-random-forest)\n",
    "  - [Feature Importance](https://nbviewer.jupyter.org/github/Yorko/mlcourse_open/blob/master/jupyter_english/topic05_ensembles_random_forests/topic5_part3_feature_importance.ipynb?flush_cache=true), the same as a [Kaggle Kernel](https://www.kaggle.com/kashnitsky/topic-5-ensembles-part-3-feature-importance)\n",
    " 3. - [Gradient boosting](https://nbviewer.jupyter.org/github/Yorko/mlcourse_open/blob/master/jupyter_english/topic10_boosting/topic10_gradient_boosting.ipynb?flush_cache=true), the same as a [Kaggle Kernel](https://www.kaggle.com/kashnitsky/topic-10-gradient-boosting) \n",
    "   - Logistic regression, Random Forest, and LightGBM in the \"Kaggle Forest Cover Type Prediction\" competition: [Kernel](https://www.kaggle.com/kashnitsky/topic-10-practice-with-logit-rf-and-lightgbm) \n",
    " 4. You can also practice with demo assignments, which are simpler and already shared with solutions:\n",
    "  - \"Decision trees with a toy task and the UCI Adult dataset\": [assignment](https://www.kaggle.com/kashnitsky/a3-demo-decision-trees) + [solution](https://www.kaggle.com/kashnitsky/a3-demo-decision-trees-solution)\n",
    "  - \"Logistic Regression and Random Forest in the credit scoring problem\": [assignment](https://www.kaggle.com/kashnitsky/assignment-5-logit-and-rf-for-credit-scoring) + [solution](https://www.kaggle.com/kashnitsky/a5-demo-logit-and-rf-for-credit-scoring-sol)\n",
    " 5. There are also 7 video lectures on trees, forests, boosting and their applications: [mlcourse.ai/video](https://mlcourse.ai/video) \n",
    " 6. mlcourse.ai tutorials on [categorical feature encoding](https://www.kaggle.com/waydeherman/tutorial-categorical-encoding) (by Wayde Herman) and [CatBoost](https://www.kaggle.com/mitribunskiy/tutorial-catboost-overview) (by Mikhail Tribunskiy)\n",
    " 7. Last but not the least: [Public Kernels](https://www.kaggle.com/c/flight-delays-fall-2018/notebooks) in this competition\n",
    "\n",
    "### Your task is to:\n",
    " 1. beat **\"A2 baseline (10 credits)\"** on Public LB (**0.75914** LB score)\n",
    " 2. rename your [team](https://www.kaggle.com/c/flight-delays-fall-2018/team) in full accordance with A1 and the [course rating](https://docs.google.com/spreadsheets/d/15e1K0tg5ponA5R6YQkZfihrShTDLAKf5qeKaoVCiuhQ/) (to appear on 16.09.2019)\n",
    " \n",
    "This task is intended to be relatively easy. Here you are not required to upload your reproducible solution.\n",
    " \n",
    "### <center> Deadline for A2: 2019 October 6, 20:59 CET (London time)"
   ]
  },
  {
   "cell_type": "code",
   "execution_count": 1,
   "metadata": {},
   "outputs": [],
   "source": [
    "from IPython.core.interactiveshell import InteractiveShell\n",
    "InteractiveShell.ast_node_interactivity = \"all\""
   ]
  },
  {
   "cell_type": "code",
   "execution_count": 2,
   "metadata": {},
   "outputs": [],
   "source": [
    "import warnings\n",
    "import numpy as np\n",
    "import pandas as pd\n",
    "import catboost\n",
    "\n",
    "from catboost import cv, Pool\n",
    "import matplotlib.pyplot as plt\n",
    "\n",
    "from pathlib import Path\n",
    "from sklearn.model_selection import train_test_split\n",
    "from sklearn.metrics import roc_auc_score\n",
    "from catboost import CatBoostClassifier\n",
    "from sklearn.model_selection import cross_val_score, StratifiedKFold"
   ]
  },
  {
   "cell_type": "code",
   "execution_count": 194,
   "metadata": {},
   "outputs": [],
   "source": [
    "days_from_start = {\n",
    "    1: 0, 2: 31, 3: 59, 4: 90, 5: 120, 6: 151, 7: 181,\n",
    "    8: 212, 9: 243, 10: 273, 11: 304, 12: 334\n",
    "}\n",
    "\n",
    "days_in_month = {\n",
    "    1: 31,  2: 28,  3: 31,  4: 30, 5: 31, 6: 30,\n",
    "    7: 31, 8: 31, 9: 30,  10: 31, 11: 30, 12: 31\n",
    "}\n",
    "\n",
    "drop = lambda data, names: data.drop(names, axis=1, inplace=True)\n",
    "\n",
    "drop_names = \"days_in_m days\".split()\n",
    "\n",
    "season_from_moth = {12: \"winter\", 1: \"winter\", 2: \"winter\",\n",
    "                    3: \"spring\", 4: \"spring\", 5: \"spring\", \n",
    "                    6: \"summer\", 7: \"summer\", 8: \"summer\", \n",
    "                    9: \"autumn\", 10: \"autumn\", 11: \"autumn\"\n",
    "                   }\n",
    "\n",
    "weekend = {1: \"workday\", 2: \"workday\",  3: \"workday\", 4: \"workday\",\n",
    "           5: \"workday\", 6: \"weekend\", 7: \"weekend\", }"
   ]
  },
  {
   "cell_type": "code",
   "execution_count": 195,
   "metadata": {},
   "outputs": [],
   "source": [
    "def change_data(data):\n",
    "    data[\"days_in_m\"] = data.Month.map(days_in_month)\n",
    "    \n",
    "    data.DayofMonth = data.DayofMonth + data.DepTime // 2401\n",
    "    data.DayOfWeek = data.DayOfWeek + data.DepTime // 2401\n",
    "    data.Month = data.Month + data.DayofMonth // (data.days_in_m + 1)\n",
    "    \n",
    "    data.DepTime = data.DepTime % 2401\n",
    "    data.DepTime = data.DepTime + (df.DepTime == 0)\n",
    "    \n",
    "    data.DepTime = data.DepTime  // 100 * 60 + data.DepTime % 100\n",
    "    \n",
    "    data.DayofMonth = data.DayofMonth % (data.days_in_m + 1)\n",
    "    data.DayofMonth = data.DayofMonth + (data.DayofMonth == 0)\n",
    "    \n",
    "    data.DayOfWeek = data.DayOfWeek % 8\n",
    "    data.DayOfWeek = data.DayOfWeek + (data.DayOfWeek == 0)\n",
    "    \n",
    "    data[\"season\"] = data.Month.map(season_from_moth)\n",
    "    # data.Distance = data.Distance.apply(np.log2)**2\n",
    "    data[\"day_class\"] = data.DayOfWeek.map(weekend)\n",
    "    \n",
    "    data[\"days\"] = data.Month.map(days_from_start) + data.DayofMonth\n",
    "\n",
    "    data['sin_time'] = np.sin(2 * np.pi * data.DepTime / (24*60))\n",
    "    data['cos_time'] = np.cos(2 * np.pi * data.DepTime / (24*60))\n",
    "\n",
    "    data[\"sin_days\"] = np.sin(2 * np.pi * data.days / (365))\n",
    "    data[\"cos_days\"] = np.cos(2 * np.pi * data.days / (365))\n",
    "\n",
    "    "
   ]
  },
  {
   "cell_type": "code",
   "execution_count": 157,
   "metadata": {},
   "outputs": [],
   "source": [
    "names =  \"Month DayofMonth DayOfWeek\".split()"
   ]
  },
  {
   "cell_type": "markdown",
   "metadata": {},
   "source": [
    "**Read the data**"
   ]
  },
  {
   "cell_type": "code",
   "execution_count": 196,
   "metadata": {},
   "outputs": [],
   "source": [
    "df = pd.read_csv('../../data/flight_delays_train.csv')\n",
    "test_df = pd.read_csv('../../data/flight_delays_test.csv')\n",
    "\n",
    "df.dep_delayed_15min = df['dep_delayed_15min'].map({'Y': 1, 'N': 0})\n",
    "\n",
    "for name in names:\n",
    "    test_df[name] = test_df[name].str[2:].astype(int)\n",
    "    df[name] = df[name].str[2:].astype(int)\n",
    "        \n"
   ]
  },
  {
   "cell_type": "code",
   "execution_count": 197,
   "metadata": {},
   "outputs": [],
   "source": [
    "change_data(df)\n",
    "change_data(test_df)\n",
    "\n",
    "for d in (df, test_df):\n",
    "    drop(d, drop_names[:-1])\n"
   ]
  },
  {
   "cell_type": "code",
   "execution_count": 198,
   "metadata": {},
   "outputs": [],
   "source": [
    "for name in names:\n",
    "    test_df[name] = test_df[name].astype(str)\n",
    "    df[name] = df[name].astype(str)   "
   ]
  },
  {
   "cell_type": "code",
   "execution_count": 139,
   "metadata": {},
   "outputs": [],
   "source": [
    "for d in (df, test_df):\n",
    "    drop(d, \"Month DayofMonth DayOfWeek\".split())\n",
    "    "
   ]
  },
  {
   "cell_type": "code",
   "execution_count": 199,
   "metadata": {},
   "outputs": [],
   "source": [
    "df['flight'] = df['Origin'] + ' --> ' + df['Dest']\n",
    "test_df['flight'] = test_df['Origin'] + ' --> ' + test_df['Dest']"
   ]
  },
  {
   "cell_type": "code",
   "execution_count": 200,
   "metadata": {},
   "outputs": [
    {
     "data": {
      "text/html": [
       "<div>\n",
       "<style scoped>\n",
       "    .dataframe tbody tr th:only-of-type {\n",
       "        vertical-align: middle;\n",
       "    }\n",
       "\n",
       "    .dataframe tbody tr th {\n",
       "        vertical-align: top;\n",
       "    }\n",
       "\n",
       "    .dataframe thead th {\n",
       "        text-align: right;\n",
       "    }\n",
       "</style>\n",
       "<table border=\"1\" class=\"dataframe\">\n",
       "  <thead>\n",
       "    <tr style=\"text-align: right;\">\n",
       "      <th></th>\n",
       "      <th>Month</th>\n",
       "      <th>DayofMonth</th>\n",
       "      <th>DayOfWeek</th>\n",
       "      <th>DepTime</th>\n",
       "      <th>UniqueCarrier</th>\n",
       "      <th>Origin</th>\n",
       "      <th>Dest</th>\n",
       "      <th>Distance</th>\n",
       "      <th>season</th>\n",
       "      <th>day_class</th>\n",
       "      <th>days</th>\n",
       "      <th>sin_time</th>\n",
       "      <th>cos_time</th>\n",
       "      <th>sin_days</th>\n",
       "      <th>cos_days</th>\n",
       "      <th>flight</th>\n",
       "    </tr>\n",
       "  </thead>\n",
       "  <tbody>\n",
       "    <tr>\n",
       "      <td>0</td>\n",
       "      <td>7</td>\n",
       "      <td>25</td>\n",
       "      <td>3</td>\n",
       "      <td>375</td>\n",
       "      <td>YV</td>\n",
       "      <td>MRY</td>\n",
       "      <td>PHX</td>\n",
       "      <td>598</td>\n",
       "      <td>summer</td>\n",
       "      <td>workday</td>\n",
       "      <td>206</td>\n",
       "      <td>0.997859</td>\n",
       "      <td>-0.065403</td>\n",
       "      <td>-0.393590</td>\n",
       "      <td>-0.919286</td>\n",
       "      <td>MRY --&gt; PHX</td>\n",
       "    </tr>\n",
       "    <tr>\n",
       "      <td>1</td>\n",
       "      <td>4</td>\n",
       "      <td>17</td>\n",
       "      <td>2</td>\n",
       "      <td>459</td>\n",
       "      <td>WN</td>\n",
       "      <td>LAS</td>\n",
       "      <td>HOU</td>\n",
       "      <td>1235</td>\n",
       "      <td>spring</td>\n",
       "      <td>workday</td>\n",
       "      <td>107</td>\n",
       "      <td>0.908143</td>\n",
       "      <td>-0.418660</td>\n",
       "      <td>0.963471</td>\n",
       "      <td>-0.267814</td>\n",
       "      <td>LAS --&gt; HOU</td>\n",
       "    </tr>\n",
       "    <tr>\n",
       "      <td>2</td>\n",
       "      <td>12</td>\n",
       "      <td>2</td>\n",
       "      <td>7</td>\n",
       "      <td>411</td>\n",
       "      <td>MQ</td>\n",
       "      <td>GSP</td>\n",
       "      <td>ORD</td>\n",
       "      <td>577</td>\n",
       "      <td>winter</td>\n",
       "      <td>weekend</td>\n",
       "      <td>336</td>\n",
       "      <td>0.975342</td>\n",
       "      <td>-0.220697</td>\n",
       "      <td>-0.478734</td>\n",
       "      <td>0.877960</td>\n",
       "      <td>GSP --&gt; ORD</td>\n",
       "    </tr>\n",
       "    <tr>\n",
       "      <td>3</td>\n",
       "      <td>3</td>\n",
       "      <td>25</td>\n",
       "      <td>7</td>\n",
       "      <td>974</td>\n",
       "      <td>WN</td>\n",
       "      <td>BWI</td>\n",
       "      <td>MHT</td>\n",
       "      <td>377</td>\n",
       "      <td>spring</td>\n",
       "      <td>weekend</td>\n",
       "      <td>84</td>\n",
       "      <td>-0.894934</td>\n",
       "      <td>-0.446198</td>\n",
       "      <td>0.992222</td>\n",
       "      <td>0.124479</td>\n",
       "      <td>BWI --&gt; MHT</td>\n",
       "    </tr>\n",
       "    <tr>\n",
       "      <td>4</td>\n",
       "      <td>6</td>\n",
       "      <td>6</td>\n",
       "      <td>3</td>\n",
       "      <td>905</td>\n",
       "      <td>UA</td>\n",
       "      <td>ORD</td>\n",
       "      <td>STL</td>\n",
       "      <td>258</td>\n",
       "      <td>summer</td>\n",
       "      <td>workday</td>\n",
       "      <td>157</td>\n",
       "      <td>-0.722364</td>\n",
       "      <td>-0.691513</td>\n",
       "      <td>0.425000</td>\n",
       "      <td>-0.905193</td>\n",
       "      <td>ORD --&gt; STL</td>\n",
       "    </tr>\n",
       "  </tbody>\n",
       "</table>\n",
       "</div>"
      ],
      "text/plain": [
       "  Month DayofMonth DayOfWeek  DepTime UniqueCarrier Origin Dest  Distance  \\\n",
       "0     7         25         3      375            YV    MRY  PHX       598   \n",
       "1     4         17         2      459            WN    LAS  HOU      1235   \n",
       "2    12          2         7      411            MQ    GSP  ORD       577   \n",
       "3     3         25         7      974            WN    BWI  MHT       377   \n",
       "4     6          6         3      905            UA    ORD  STL       258   \n",
       "\n",
       "   season day_class  days  sin_time  cos_time  sin_days  cos_days       flight  \n",
       "0  summer   workday   206  0.997859 -0.065403 -0.393590 -0.919286  MRY --> PHX  \n",
       "1  spring   workday   107  0.908143 -0.418660  0.963471 -0.267814  LAS --> HOU  \n",
       "2  winter   weekend   336  0.975342 -0.220697 -0.478734  0.877960  GSP --> ORD  \n",
       "3  spring   weekend    84 -0.894934 -0.446198  0.992222  0.124479  BWI --> MHT  \n",
       "4  summer   workday   157 -0.722364 -0.691513  0.425000 -0.905193  ORD --> STL  "
      ]
     },
     "execution_count": 200,
     "metadata": {},
     "output_type": "execute_result"
    }
   ],
   "source": [
    "test_df.head()"
   ]
  },
  {
   "cell_type": "code",
   "execution_count": 201,
   "metadata": {
    "scrolled": false
   },
   "outputs": [
    {
     "data": {
      "text/html": [
       "<div>\n",
       "<style scoped>\n",
       "    .dataframe tbody tr th:only-of-type {\n",
       "        vertical-align: middle;\n",
       "    }\n",
       "\n",
       "    .dataframe tbody tr th {\n",
       "        vertical-align: top;\n",
       "    }\n",
       "\n",
       "    .dataframe thead th {\n",
       "        text-align: right;\n",
       "    }\n",
       "</style>\n",
       "<table border=\"1\" class=\"dataframe\">\n",
       "  <thead>\n",
       "    <tr style=\"text-align: right;\">\n",
       "      <th></th>\n",
       "      <th>Month</th>\n",
       "      <th>DayofMonth</th>\n",
       "      <th>DayOfWeek</th>\n",
       "      <th>DepTime</th>\n",
       "      <th>UniqueCarrier</th>\n",
       "      <th>Origin</th>\n",
       "      <th>Dest</th>\n",
       "      <th>Distance</th>\n",
       "      <th>dep_delayed_15min</th>\n",
       "      <th>season</th>\n",
       "      <th>day_class</th>\n",
       "      <th>days</th>\n",
       "      <th>sin_time</th>\n",
       "      <th>cos_time</th>\n",
       "      <th>sin_days</th>\n",
       "      <th>cos_days</th>\n",
       "      <th>flight</th>\n",
       "    </tr>\n",
       "  </thead>\n",
       "  <tbody>\n",
       "    <tr>\n",
       "      <td>0</td>\n",
       "      <td>8</td>\n",
       "      <td>21</td>\n",
       "      <td>7</td>\n",
       "      <td>1174</td>\n",
       "      <td>AA</td>\n",
       "      <td>ATL</td>\n",
       "      <td>DFW</td>\n",
       "      <td>732</td>\n",
       "      <td>0</td>\n",
       "      <td>summer</td>\n",
       "      <td>weekend</td>\n",
       "      <td>233</td>\n",
       "      <td>-0.917060</td>\n",
       "      <td>0.398749</td>\n",
       "      <td>-0.763889</td>\n",
       "      <td>-0.645348</td>\n",
       "      <td>ATL --&gt; DFW</td>\n",
       "    </tr>\n",
       "    <tr>\n",
       "      <td>1</td>\n",
       "      <td>4</td>\n",
       "      <td>20</td>\n",
       "      <td>3</td>\n",
       "      <td>948</td>\n",
       "      <td>US</td>\n",
       "      <td>PIT</td>\n",
       "      <td>MCO</td>\n",
       "      <td>834</td>\n",
       "      <td>0</td>\n",
       "      <td>spring</td>\n",
       "      <td>workday</td>\n",
       "      <td>110</td>\n",
       "      <td>-0.838671</td>\n",
       "      <td>-0.544639</td>\n",
       "      <td>0.948362</td>\n",
       "      <td>-0.317191</td>\n",
       "      <td>PIT --&gt; MCO</td>\n",
       "    </tr>\n",
       "    <tr>\n",
       "      <td>2</td>\n",
       "      <td>9</td>\n",
       "      <td>2</td>\n",
       "      <td>5</td>\n",
       "      <td>862</td>\n",
       "      <td>XE</td>\n",
       "      <td>RDU</td>\n",
       "      <td>CLE</td>\n",
       "      <td>416</td>\n",
       "      <td>0</td>\n",
       "      <td>autumn</td>\n",
       "      <td>workday</td>\n",
       "      <td>245</td>\n",
       "      <td>-0.580703</td>\n",
       "      <td>-0.814116</td>\n",
       "      <td>-0.880012</td>\n",
       "      <td>-0.474951</td>\n",
       "      <td>RDU --&gt; CLE</td>\n",
       "    </tr>\n",
       "    <tr>\n",
       "      <td>3</td>\n",
       "      <td>11</td>\n",
       "      <td>25</td>\n",
       "      <td>6</td>\n",
       "      <td>615</td>\n",
       "      <td>OO</td>\n",
       "      <td>DEN</td>\n",
       "      <td>MEM</td>\n",
       "      <td>872</td>\n",
       "      <td>0</td>\n",
       "      <td>autumn</td>\n",
       "      <td>weekend</td>\n",
       "      <td>329</td>\n",
       "      <td>0.442289</td>\n",
       "      <td>-0.896873</td>\n",
       "      <td>-0.580800</td>\n",
       "      <td>0.814046</td>\n",
       "      <td>DEN --&gt; MEM</td>\n",
       "    </tr>\n",
       "    <tr>\n",
       "      <td>4</td>\n",
       "      <td>10</td>\n",
       "      <td>7</td>\n",
       "      <td>6</td>\n",
       "      <td>1108</td>\n",
       "      <td>WN</td>\n",
       "      <td>MDW</td>\n",
       "      <td>OMA</td>\n",
       "      <td>423</td>\n",
       "      <td>1</td>\n",
       "      <td>autumn</td>\n",
       "      <td>weekend</td>\n",
       "      <td>280</td>\n",
       "      <td>-0.992546</td>\n",
       "      <td>0.121869</td>\n",
       "      <td>-0.994218</td>\n",
       "      <td>0.107381</td>\n",
       "      <td>MDW --&gt; OMA</td>\n",
       "    </tr>\n",
       "  </tbody>\n",
       "</table>\n",
       "</div>"
      ],
      "text/plain": [
       "  Month DayofMonth DayOfWeek  DepTime UniqueCarrier Origin Dest  Distance  \\\n",
       "0     8         21         7     1174            AA    ATL  DFW       732   \n",
       "1     4         20         3      948            US    PIT  MCO       834   \n",
       "2     9          2         5      862            XE    RDU  CLE       416   \n",
       "3    11         25         6      615            OO    DEN  MEM       872   \n",
       "4    10          7         6     1108            WN    MDW  OMA       423   \n",
       "\n",
       "   dep_delayed_15min  season day_class  days  sin_time  cos_time  sin_days  \\\n",
       "0                  0  summer   weekend   233 -0.917060  0.398749 -0.763889   \n",
       "1                  0  spring   workday   110 -0.838671 -0.544639  0.948362   \n",
       "2                  0  autumn   workday   245 -0.580703 -0.814116 -0.880012   \n",
       "3                  0  autumn   weekend   329  0.442289 -0.896873 -0.580800   \n",
       "4                  1  autumn   weekend   280 -0.992546  0.121869 -0.994218   \n",
       "\n",
       "   cos_days       flight  \n",
       "0 -0.645348  ATL --> DFW  \n",
       "1 -0.317191  PIT --> MCO  \n",
       "2 -0.474951  RDU --> CLE  \n",
       "3  0.814046  DEN --> MEM  \n",
       "4  0.107381  MDW --> OMA  "
      ]
     },
     "execution_count": 201,
     "metadata": {},
     "output_type": "execute_result"
    }
   ],
   "source": [
    "df.head()"
   ]
  },
  {
   "cell_type": "markdown",
   "metadata": {},
   "source": [
    "---\n",
    "---\n",
    "---"
   ]
  },
  {
   "cell_type": "code",
   "execution_count": 202,
   "metadata": {},
   "outputs": [
    {
     "name": "stdout",
     "output_type": "stream",
     "text": [
      "[ 0  1  2  4  5  6  8  9 15]\n"
     ]
    }
   ],
   "source": [
    "categ_feat_idx = np.where(df.drop('dep_delayed_15min', axis=1).dtypes == 'object')[0]\n",
    "print(categ_feat_idx)\n",
    "\n",
    "X_train = df.drop('dep_delayed_15min', axis=1).values\n",
    "y_train = df['dep_delayed_15min'].values\n",
    "X_test = test_df.values\n",
    "\n",
    "X_train_part, X_valid, \\\n",
    "y_train_part, y_valid = train_test_split(X_train, y_train,\n",
    "                                         test_size=0.3,\n",
    "                                         random_state=17,\n",
    "                                         shuffle=True\n",
    "                                         )\n",
    "                                        "
   ]
  },
  {
   "cell_type": "markdown",
   "metadata": {},
   "source": [
    "#### Train"
   ]
  },
  {
   "cell_type": "code",
   "execution_count": 203,
   "metadata": {},
   "outputs": [],
   "source": [
    "ctb = CatBoostClassifier(random_seed=17, silent=True)"
   ]
  },
  {
   "cell_type": "code",
   "execution_count": 204,
   "metadata": {
    "scrolled": true
   },
   "outputs": [
    {
     "name": "stdout",
     "output_type": "stream",
     "text": [
      "Wall time: 1min 29s\n"
     ]
    },
    {
     "data": {
      "text/plain": [
       "<catboost.core.CatBoostClassifier at 0x1855e1836d8>"
      ]
     },
     "execution_count": 204,
     "metadata": {},
     "output_type": "execute_result"
    }
   ],
   "source": [
    "%%time\n",
    "ctb.fit(X_train_part,\n",
    "        y_train_part,\n",
    "        cat_features=categ_feat_idx);"
   ]
  },
  {
   "cell_type": "code",
   "execution_count": 205,
   "metadata": {},
   "outputs": [
    {
     "name": "stdout",
     "output_type": "stream",
     "text": [
      "0.8586773677347292\n",
      "0.7611289678801213\n"
     ]
    }
   ],
   "source": [
    "ctb_valid_pred = ctb.predict_proba(X_train_part)[:, 1]\n",
    "print(roc_auc_score(y_train_part, ctb_valid_pred))\n",
    "\n",
    "ctb_valid_pred = ctb.predict_proba(X_valid)[:, 1]\n",
    "print(roc_auc_score(y_valid, ctb_valid_pred))"
   ]
  },
  {
   "cell_type": "code",
   "execution_count": 206,
   "metadata": {
    "scrolled": true
   },
   "outputs": [
    {
     "data": {
      "text/plain": [
       "array([ 3.21001048,  4.45424279,  3.8586891 , 11.861239  ,  8.33813846,\n",
       "        7.10064081,  6.61456091,  5.92556932,  1.56502971,  0.32700727,\n",
       "        2.99743206, 18.94520507, 12.08132555,  3.93214189,  3.66570752,\n",
       "        5.12306006])"
      ]
     },
     "execution_count": 206,
     "metadata": {},
     "output_type": "execute_result"
    }
   ],
   "source": [
    "ctb.get_feature_importance()"
   ]
  },
  {
   "cell_type": "markdown",
   "metadata": {},
   "source": [
    "0.7570888330382527 - *1000 только время\n",
    "0.7635517184286487 - + fr0m to by cater\n",
    "\n",
    "drop origin and dest,  sin, cos, from to - 0.7591306620174307  \n",
    "casual sin cos time, back origin and dest, from to - 0.7635517184286487   \n",
    "drop dest. 0.7604999899352793, (0.8718482770450207)  \n",
    "add days - 0.7696358301705235 (0.7658038656143986)  \n",
    "add season - 0.7607041024708254  \n",
    "add weakday - 0.7617929928145148 / 0.8672219690617864  \n",
    "first as numeric - 0.7482642455240555  \n",
    "8 features - 0.7584589262375663\n",
    "0.7611289678801213"
   ]
  },
  {
   "cell_type": "markdown",
   "metadata": {},
   "source": [
    "K Fold"
   ]
  },
  {
   "cell_type": "code",
   "execution_count": 180,
   "metadata": {},
   "outputs": [
    {
     "name": "stdout",
     "output_type": "stream",
     "text": [
      "1\n",
      "2\n",
      "3\n"
     ]
    }
   ],
   "source": [
    "test_score = []\n",
    "train_score = []\n",
    "skf = StratifiedKFold(n_splits=3, shuffle=True, random_state=17)\n",
    "\n",
    "i = 0\n",
    "for test_index, train_index in skf.split(X_train, y_train):\n",
    "    \n",
    "    X_train_1, X_test_1 = X_train[train_index, :], X_train[test_index, :]\n",
    "    y_train_1, y_test_1 = y_train[train_index], y_train[test_index]\n",
    "    \n",
    "    \n",
    "    _ctb = CatBoostClassifier(random_seed=17,\n",
    "                              silent=True\n",
    "                             ).fit(X_train_1, y_train_1, cat_features=categ_feat_idx)\n",
    "    \n",
    "    test_score.append(roc_auc_score(y_test_1,\n",
    "                                    _ctb.predict_proba(X_test_1)[:, 1]\n",
    "                                   )\n",
    "                     )\n",
    "    train_score.append(roc_auc_score(y_train_1, _ctb.predict_proba(X_train_1)[:, 1]))\n",
    "    \n",
    "    i += 1\n",
    "    print(i)\n",
    "    "
   ]
  },
  {
   "cell_type": "code",
   "execution_count": 181,
   "metadata": {},
   "outputs": [
    {
     "name": "stdout",
     "output_type": "stream",
     "text": [
      "0.8123788727182845\n",
      "[0.8144050900205388, 0.8061849163792483, 0.8165466117550662]\n",
      "\n",
      "0.7428224723321925\n",
      "[0.746539596900843, 0.7435141346766578, 0.7384136854190767]\n"
     ]
    }
   ],
   "source": [
    "print(np.mean(train_score))\n",
    "print(train_score)\n",
    "\n",
    "print()\n",
    "\n",
    "print(np.mean(test_score))\n",
    "print(test_score)"
   ]
  },
  {
   "cell_type": "markdown",
   "metadata": {},
   "source": [
    "0.7441712144561364\n",
    "0.7439605741356733 - add season\n",
    "season, day_class, drop month, dayofweek, dayofmonth - 0.733858795374717\n"
   ]
  },
  {
   "cell_type": "markdown",
   "metadata": {},
   "source": [
    "params = \\\n",
    "{\n",
    "# \"iterations\": 100,\n",
    "\"eval_metric\": \"AUC\",\n",
    "\"verbose\": False\n",
    "#\"devices\": -1\n",
    "}\n",
    "\n",
    "pool = Pool(data=X_train,\n",
    "            label=y_train,\n",
    "            cat_features=categ_feat_idx)\n",
    "\n",
    "scores = cv(pool,\n",
    "            params=params,\n",
    "            fold_count=5,\n",
    "            plot=\"True\",\n",
    "            early_stopping_rounds=50)"
   ]
  },
  {
   "cell_type": "markdown",
   "metadata": {},
   "source": [
    "----\n",
    "----\n",
    "----"
   ]
  },
  {
   "cell_type": "markdown",
   "metadata": {},
   "source": [
    "Result"
   ]
  },
  {
   "cell_type": "code",
   "execution_count": 59,
   "metadata": {},
   "outputs": [],
   "source": [
    "ctb = CatBoostClassifier(random_seed=17, silent=True)"
   ]
  },
  {
   "cell_type": "code",
   "execution_count": 60,
   "metadata": {
    "scrolled": true
   },
   "outputs": [
    {
     "name": "stdout",
     "output_type": "stream",
     "text": [
      "Wall time: 1min 50s\n"
     ]
    },
    {
     "data": {
      "text/plain": [
       "<catboost.core.CatBoostClassifier at 0x18518555400>"
      ]
     },
     "execution_count": 60,
     "metadata": {},
     "output_type": "execute_result"
    }
   ],
   "source": [
    "%%time\n",
    "ctb.fit(X_train, y_train,\n",
    "        cat_features=categ_feat_idx);"
   ]
  },
  {
   "cell_type": "code",
   "execution_count": 94,
   "metadata": {},
   "outputs": [],
   "source": [
    "ctb_test_pred = ctb.predict_proba(X_test)[:, 1]"
   ]
  },
  {
   "cell_type": "code",
   "execution_count": 63,
   "metadata": {},
   "outputs": [],
   "source": [
    "with warnings.catch_warnings():\n",
    "    warnings.simplefilter(\"ignore\")\n",
    "    \n",
    "    sample_sub = pd.read_csv('../../data/sample_submission.csv', \n",
    "                             index_col='id')\n",
    "    sample_sub['dep_delayed_15min'] = ctb_test_pred\n",
    "    sample_sub.to_csv('ctb_pred_4.csv')"
   ]
  },
  {
   "cell_type": "code",
   "execution_count": 123,
   "metadata": {},
   "outputs": [
    {
     "name": "stdout",
     "output_type": "stream",
     "text": [
      "id,dep_delayed_15min\n",
      "0,0.029813427154851885\n",
      "1,0.045432589326845726\n",
      "2,0.07735792880819185\n",
      "3,0.26298352270959774\n",
      "4,0.23812453664806577\n",
      "5,0.1015030549268571\n",
      "6,0.040331757718181545\n",
      "7,0.2408800371330324\n",
      "8,0.11304498960469873\n"
     ]
    }
   ],
   "source": [
    "!head ctb_pred.csv"
   ]
  },
  {
   "cell_type": "code",
   "execution_count": 127,
   "metadata": {
    "scrolled": true
   },
   "outputs": [
    {
     "name": "stdout",
     "output_type": "stream",
     "text": [
      "id,dep_delayed_15min\n",
      "0,0.025572166172376693\n",
      "1,0.045981976846112715\n",
      "2,0.07101399403966373\n",
      "3,0.2905628227350732\n",
      "4,0.2716783001872599\n",
      "5,0.08292537325175686\n",
      "6,0.04404007262086365\n",
      "7,0.19666702216697723\n",
      "8,0.07454022433182766\n"
     ]
    }
   ],
   "source": [
    "!head ctb_pred_3.csv"
   ]
  },
  {
   "cell_type": "code",
   "execution_count": 64,
   "metadata": {},
   "outputs": [
    {
     "name": "stdout",
     "output_type": "stream",
     "text": [
      "id,dep_delayed_15min\n",
      "0,0.04204600812413802\n",
      "1,0.04744355863289448\n",
      "2,0.045877040873840425\n",
      "3,0.2783059733111226\n",
      "4,0.27047425085052357\n",
      "5,0.09258748737744668\n",
      "6,0.053454358999176735\n",
      "7,0.17877175957797464\n",
      "8,0.06612051141218417\n"
     ]
    }
   ],
   "source": [
    "!head ctb_pred_4.csv"
   ]
  },
  {
   "cell_type": "code",
   "execution_count": 49,
   "metadata": {},
   "outputs": [
    {
     "name": "stdout",
     "output_type": "stream",
     "text": [
      "id,dep_delayed_15min\n",
      "0,0.037172779955821154\n",
      "1,0.06319181761981149\n",
      "2,0.04419190023283494\n",
      "3,0.2804437695014472\n",
      "4,0.2471133998367755\n",
      "5,0.08769265924732995\n",
      "6,0.04998421893664289\n",
      "7,0.2136077081220574\n",
      "8,0.10569904104193685\n"
     ]
    }
   ],
   "source": [
    "!head ctb_pred_5.csv"
   ]
  }
 ],
 "metadata": {
  "kernelspec": {
   "display_name": "Python 3",
   "language": "python",
   "name": "python3"
  },
  "language_info": {
   "codemirror_mode": {
    "name": "ipython",
    "version": 3
   },
   "file_extension": ".py",
   "mimetype": "text/x-python",
   "name": "python",
   "nbconvert_exporter": "python",
   "pygments_lexer": "ipython3",
   "version": "3.6.8"
  }
 },
 "nbformat": 4,
 "nbformat_minor": 1
}
