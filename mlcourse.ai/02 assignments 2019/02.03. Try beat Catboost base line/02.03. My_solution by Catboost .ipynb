{
 "cells": [
  {
   "cell_type": "markdown",
   "metadata": {},
   "source": [
    "<center>\n",
    "<img src=\"https://habrastorage.org/files/fd4/502/43d/fd450243dd604b81b9713213a247aa20.jpg\" />\n",
    "</center> \n",
    "     \n",
    "## <center>  [mlcourse.ai](https://mlcourse.ai) – Open Machine Learning Course \n",
    "\n",
    "#### <center> Author: [Yury Kashnitsky](https://yorko.github.io) (@yorko) \n",
    "\n",
    "# <center>Assignment #2. Fall 2019\n",
    "## <center> Part 2. Gradient boosting"
   ]
  },
  {
   "cell_type": "markdown",
   "metadata": {},
   "source": [
    "**In this assignment, you're asked to beat a baseline in the [\"Flight delays\" competition](https://www.kaggle.com/c/flight-delays-fall-2018).**\n",
    "\n",
    "This time we decided to share a pretty decent CatBoost baseline, you'll have to improve the provided solution.\n",
    "\n",
    "Prior to working on the assignment, you'd better check out the corresponding course material:\n",
    " 1. [Classification, Decision Trees and k Nearest Neighbors](https://nbviewer.jupyter.org/github/Yorko/mlcourse_open/blob/master/jupyter_english/topic03_decision_trees_kNN/topic3_decision_trees_kNN.ipynb?flush_cache=true), the same as an interactive web-based [Kaggle Kernel](https://www.kaggle.com/kashnitsky/topic-3-decision-trees-and-knn) \n",
    " 2. Ensembles:\n",
    "  - [Bagging](https://nbviewer.jupyter.org/github/Yorko/mlcourse_open/blob/master/jupyter_english/topic05_ensembles_random_forests/topic5_part1_bagging.ipynb?flush_cache=true), the same as a [Kaggle Kernel](https://www.kaggle.com/kashnitsky/topic-5-ensembles-part-1-bagging)\n",
    "  - [Random Forest](https://nbviewer.jupyter.org/github/Yorko/mlcourse_open/blob/master/jupyter_english/topic05_ensembles_random_forests/topic5_part2_random_forest.ipynb?flush_cache=true), the same as a [Kaggle Kernel](https://www.kaggle.com/kashnitsky/topic-5-ensembles-part-2-random-forest)\n",
    "  - [Feature Importance](https://nbviewer.jupyter.org/github/Yorko/mlcourse_open/blob/master/jupyter_english/topic05_ensembles_random_forests/topic5_part3_feature_importance.ipynb?flush_cache=true), the same as a [Kaggle Kernel](https://www.kaggle.com/kashnitsky/topic-5-ensembles-part-3-feature-importance)\n",
    " 3. - [Gradient boosting](https://nbviewer.jupyter.org/github/Yorko/mlcourse_open/blob/master/jupyter_english/topic10_boosting/topic10_gradient_boosting.ipynb?flush_cache=true), the same as a [Kaggle Kernel](https://www.kaggle.com/kashnitsky/topic-10-gradient-boosting) \n",
    "   - Logistic regression, Random Forest, and LightGBM in the \"Kaggle Forest Cover Type Prediction\" competition: [Kernel](https://www.kaggle.com/kashnitsky/topic-10-practice-with-logit-rf-and-lightgbm) \n",
    " 4. You can also practice with demo assignments, which are simpler and already shared with solutions:\n",
    "  - \"Decision trees with a toy task and the UCI Adult dataset\": [assignment](https://www.kaggle.com/kashnitsky/a3-demo-decision-trees) + [solution](https://www.kaggle.com/kashnitsky/a3-demo-decision-trees-solution)\n",
    "  - \"Logistic Regression and Random Forest in the credit scoring problem\": [assignment](https://www.kaggle.com/kashnitsky/assignment-5-logit-and-rf-for-credit-scoring) + [solution](https://www.kaggle.com/kashnitsky/a5-demo-logit-and-rf-for-credit-scoring-sol)\n",
    " 5. There are also 7 video lectures on trees, forests, boosting and their applications: [mlcourse.ai/video](https://mlcourse.ai/video) \n",
    " 6. mlcourse.ai tutorials on [categorical feature encoding](https://www.kaggle.com/waydeherman/tutorial-categorical-encoding) (by Wayde Herman) and [CatBoost](https://www.kaggle.com/mitribunskiy/tutorial-catboost-overview) (by Mikhail Tribunskiy)\n",
    " 7. Last but not the least: [Public Kernels](https://www.kaggle.com/c/flight-delays-fall-2018/notebooks) in this competition\n",
    "\n",
    "### Your task is to:\n",
    " 1. beat **\"A2 baseline (10 credits)\"** on Public LB (**0.75914** LB score)\n",
    " 2. rename your [team](https://www.kaggle.com/c/flight-delays-fall-2018/team) in full accordance with A1 and the [course rating](https://docs.google.com/spreadsheets/d/15e1K0tg5ponA5R6YQkZfihrShTDLAKf5qeKaoVCiuhQ/) (to appear on 16.09.2019)\n",
    " \n",
    "This task is intended to be relatively easy. Here you are not required to upload your reproducible solution.\n",
    " \n",
    "### <center> Deadline for A2: 2019 October 6, 20:59 CET (London time)"
   ]
  },
  {
   "cell_type": "code",
   "execution_count": 94,
   "metadata": {},
   "outputs": [],
   "source": [
    "import warnings\n",
    "import numpy as np\n",
    "import pandas as pd\n",
    "import catboost\n",
    "\n",
    "from catboost import cv, Pool\n",
    "import matplotlib.pyplot as plt\n",
    "\n",
    "from pathlib import Path\n",
    "from sklearn.model_selection import train_test_split\n",
    "from sklearn.metrics import roc_auc_score\n",
    "from catboost import CatBoostClassifier\n",
    "from sklearn.model_selection import cross_val_score, StratifiedKFold"
   ]
  },
  {
   "cell_type": "code",
   "execution_count": 2,
   "metadata": {},
   "outputs": [
    {
     "data": {
      "text/plain": [
       "'0.17.4'"
      ]
     },
     "execution_count": 2,
     "metadata": {},
     "output_type": "execute_result"
    }
   ],
   "source": [
    "catboost.__version__"
   ]
  },
  {
   "cell_type": "code",
   "execution_count": 159,
   "metadata": {},
   "outputs": [],
   "source": [
    "days_from_start = {\n",
    "    1: 0, 2: 31, 3: 59, 4: 90, 5: 120, 6: 151, 7: 181,\n",
    "    8: 212, 9: 243, 10: 273, 11: 304, 12: 334\n",
    "}\n",
    "\n",
    "def change_data(data):\n",
    "    flag = False\n",
    "    \n",
    "    for name in \"Month DayofMonth DayOfWeek\".split():\n",
    "        data[name] = data[name].str[2:].astype('int')\n",
    "        \n",
    "    \n",
    "    data.DepTime = (data.DepTime % 2400)\n",
    "    data.DepTime = data.DepTime  // 100 * 60 + data.DepTime % 100\n",
    "    \n",
    "    data.Distance = data.Distance.apply(np.log10)\n",
    "    \n",
    "    data[\"days\"] = data.Month.map(days_from_start) + data.DayofMonth\n",
    "    \n",
    "    data['sin_time'] = np.sin(2 * np.pi * data.DepTime / (24*60))\n",
    "    data['cos_time'] = np.cos(2 * np.pi * data.DepTime / (24*60))    \n",
    "    \n",
    "    data[\"sin_days\"] = np.sin(2 * np.pi * data.days / (365.15))\n",
    "    data[\"cos_days\"] = np.cos(2 * np.pi * data.days / (365.15))"
   ]
  },
  {
   "cell_type": "code",
   "execution_count": 36,
   "metadata": {},
   "outputs": [],
   "source": [
    "# data.drop(columns=\"DepTime\", inplace=True)"
   ]
  },
  {
   "cell_type": "markdown",
   "metadata": {},
   "source": [
    "**Read the data**"
   ]
  },
  {
   "cell_type": "code",
   "execution_count": 179,
   "metadata": {},
   "outputs": [],
   "source": [
    "train_df = pd.read_csv('../data/flight_delays_train.csv')\n",
    "test_df = pd.read_csv('../data/flight_delays_test.csv')\n"
   ]
  },
  {
   "cell_type": "code",
   "execution_count": 180,
   "metadata": {},
   "outputs": [],
   "source": [
    "train_df['flight'] = train_df['Origin'] + ' --> ' + train_df['Dest']\n",
    "test_df['flight'] = test_df['Origin'] + ' --> ' + test_df['Dest']"
   ]
  },
  {
   "cell_type": "code",
   "execution_count": 181,
   "metadata": {},
   "outputs": [],
   "source": [
    "change_data(train_df)\n",
    "change_data(test_df)\n",
    "train_df.dep_delayed_15min = train_df['dep_delayed_15min'].map({'Y': 1, 'N': 0})"
   ]
  },
  {
   "cell_type": "code",
   "execution_count": 172,
   "metadata": {
    "scrolled": false
   },
   "outputs": [
    {
     "data": {
      "text/html": [
       "<div>\n",
       "<style scoped>\n",
       "    .dataframe tbody tr th:only-of-type {\n",
       "        vertical-align: middle;\n",
       "    }\n",
       "\n",
       "    .dataframe tbody tr th {\n",
       "        vertical-align: top;\n",
       "    }\n",
       "\n",
       "    .dataframe thead th {\n",
       "        text-align: right;\n",
       "    }\n",
       "</style>\n",
       "<table border=\"1\" class=\"dataframe\">\n",
       "  <thead>\n",
       "    <tr style=\"text-align: right;\">\n",
       "      <th></th>\n",
       "      <th>Month</th>\n",
       "      <th>DayofMonth</th>\n",
       "      <th>DayOfWeek</th>\n",
       "      <th>DepTime</th>\n",
       "      <th>UniqueCarrier</th>\n",
       "      <th>Origin</th>\n",
       "      <th>Dest</th>\n",
       "      <th>Distance</th>\n",
       "      <th>dep_delayed_15min</th>\n",
       "      <th>flight</th>\n",
       "      <th>days</th>\n",
       "      <th>sin_time</th>\n",
       "      <th>cos_time</th>\n",
       "      <th>sin_days</th>\n",
       "      <th>cos_days</th>\n",
       "    </tr>\n",
       "  </thead>\n",
       "  <tbody>\n",
       "    <tr>\n",
       "      <th>0</th>\n",
       "      <td>8</td>\n",
       "      <td>21</td>\n",
       "      <td>7</td>\n",
       "      <td>1174</td>\n",
       "      <td>AA</td>\n",
       "      <td>ATL</td>\n",
       "      <td>DFW</td>\n",
       "      <td>2.864511</td>\n",
       "      <td>0</td>\n",
       "      <td>ATL --&gt; DFW</td>\n",
       "      <td>233</td>\n",
       "      <td>-0.917060</td>\n",
       "      <td>0.398749</td>\n",
       "      <td>-0.762824</td>\n",
       "      <td>-0.646606</td>\n",
       "    </tr>\n",
       "    <tr>\n",
       "      <th>1</th>\n",
       "      <td>4</td>\n",
       "      <td>20</td>\n",
       "      <td>3</td>\n",
       "      <td>948</td>\n",
       "      <td>US</td>\n",
       "      <td>PIT</td>\n",
       "      <td>MCO</td>\n",
       "      <td>2.921166</td>\n",
       "      <td>0</td>\n",
       "      <td>PIT --&gt; MCO</td>\n",
       "      <td>110</td>\n",
       "      <td>-0.838671</td>\n",
       "      <td>-0.544639</td>\n",
       "      <td>0.948608</td>\n",
       "      <td>-0.316454</td>\n",
       "    </tr>\n",
       "    <tr>\n",
       "      <th>2</th>\n",
       "      <td>9</td>\n",
       "      <td>2</td>\n",
       "      <td>5</td>\n",
       "      <td>862</td>\n",
       "      <td>XE</td>\n",
       "      <td>RDU</td>\n",
       "      <td>CLE</td>\n",
       "      <td>2.619093</td>\n",
       "      <td>0</td>\n",
       "      <td>RDU --&gt; CLE</td>\n",
       "      <td>245</td>\n",
       "      <td>-0.580703</td>\n",
       "      <td>-0.814116</td>\n",
       "      <td>-0.879188</td>\n",
       "      <td>-0.476475</td>\n",
       "    </tr>\n",
       "    <tr>\n",
       "      <th>3</th>\n",
       "      <td>11</td>\n",
       "      <td>25</td>\n",
       "      <td>6</td>\n",
       "      <td>615</td>\n",
       "      <td>OO</td>\n",
       "      <td>DEN</td>\n",
       "      <td>MEM</td>\n",
       "      <td>2.940516</td>\n",
       "      <td>0</td>\n",
       "      <td>DEN --&gt; MEM</td>\n",
       "      <td>329</td>\n",
       "      <td>0.442289</td>\n",
       "      <td>-0.896873</td>\n",
       "      <td>-0.582693</td>\n",
       "      <td>0.812693</td>\n",
       "    </tr>\n",
       "    <tr>\n",
       "      <th>4</th>\n",
       "      <td>10</td>\n",
       "      <td>7</td>\n",
       "      <td>6</td>\n",
       "      <td>1108</td>\n",
       "      <td>WN</td>\n",
       "      <td>MDW</td>\n",
       "      <td>OMA</td>\n",
       "      <td>2.626340</td>\n",
       "      <td>1</td>\n",
       "      <td>MDW --&gt; OMA</td>\n",
       "      <td>280</td>\n",
       "      <td>-0.992546</td>\n",
       "      <td>0.121869</td>\n",
       "      <td>-0.994429</td>\n",
       "      <td>0.105413</td>\n",
       "    </tr>\n",
       "  </tbody>\n",
       "</table>\n",
       "</div>"
      ],
      "text/plain": [
       "   Month  DayofMonth  DayOfWeek  DepTime UniqueCarrier Origin Dest  Distance  \\\n",
       "0      8          21          7     1174            AA    ATL  DFW  2.864511   \n",
       "1      4          20          3      948            US    PIT  MCO  2.921166   \n",
       "2      9           2          5      862            XE    RDU  CLE  2.619093   \n",
       "3     11          25          6      615            OO    DEN  MEM  2.940516   \n",
       "4     10           7          6     1108            WN    MDW  OMA  2.626340   \n",
       "\n",
       "   dep_delayed_15min       flight  days  sin_time  cos_time  sin_days  \\\n",
       "0                  0  ATL --> DFW   233 -0.917060  0.398749 -0.762824   \n",
       "1                  0  PIT --> MCO   110 -0.838671 -0.544639  0.948608   \n",
       "2                  0  RDU --> CLE   245 -0.580703 -0.814116 -0.879188   \n",
       "3                  0  DEN --> MEM   329  0.442289 -0.896873 -0.582693   \n",
       "4                  1  MDW --> OMA   280 -0.992546  0.121869 -0.994429   \n",
       "\n",
       "   cos_days  \n",
       "0 -0.646606  \n",
       "1 -0.316454  \n",
       "2 -0.476475  \n",
       "3  0.812693  \n",
       "4  0.105413  "
      ]
     },
     "execution_count": 172,
     "metadata": {},
     "output_type": "execute_result"
    }
   ],
   "source": [
    "train_df.head()"
   ]
  },
  {
   "cell_type": "code",
   "execution_count": 127,
   "metadata": {},
   "outputs": [
    {
     "data": {
      "text/html": [
       "<div>\n",
       "<style scoped>\n",
       "    .dataframe tbody tr th:only-of-type {\n",
       "        vertical-align: middle;\n",
       "    }\n",
       "\n",
       "    .dataframe tbody tr th {\n",
       "        vertical-align: top;\n",
       "    }\n",
       "\n",
       "    .dataframe thead th {\n",
       "        text-align: right;\n",
       "    }\n",
       "</style>\n",
       "<table border=\"1\" class=\"dataframe\">\n",
       "  <thead>\n",
       "    <tr style=\"text-align: right;\">\n",
       "      <th></th>\n",
       "      <th>Month</th>\n",
       "      <th>DayofMonth</th>\n",
       "      <th>DayOfWeek</th>\n",
       "      <th>DepTime</th>\n",
       "      <th>Distance</th>\n",
       "      <th>dep_delayed_15min</th>\n",
       "      <th>days</th>\n",
       "      <th>sin_time</th>\n",
       "      <th>cos_time</th>\n",
       "      <th>sin_days</th>\n",
       "      <th>cos_days</th>\n",
       "    </tr>\n",
       "  </thead>\n",
       "  <tbody>\n",
       "    <tr>\n",
       "      <th>Month</th>\n",
       "      <td>1.000000</td>\n",
       "      <td>0.007106</td>\n",
       "      <td>0.004717</td>\n",
       "      <td>-0.001187</td>\n",
       "      <td>0.005923</td>\n",
       "      <td>0.016998</td>\n",
       "      <td>0.996431</td>\n",
       "      <td>0.000546</td>\n",
       "      <td>-0.004452</td>\n",
       "      <td>-0.783774</td>\n",
       "      <td>0.007678</td>\n",
       "    </tr>\n",
       "    <tr>\n",
       "      <th>DayofMonth</th>\n",
       "      <td>0.007106</td>\n",
       "      <td>1.000000</td>\n",
       "      <td>-0.015537</td>\n",
       "      <td>0.000858</td>\n",
       "      <td>0.002541</td>\n",
       "      <td>0.025842</td>\n",
       "      <td>0.091234</td>\n",
       "      <td>0.000462</td>\n",
       "      <td>0.001733</td>\n",
       "      <td>-0.013147</td>\n",
       "      <td>-0.004549</td>\n",
       "    </tr>\n",
       "    <tr>\n",
       "      <th>DayOfWeek</th>\n",
       "      <td>0.004717</td>\n",
       "      <td>-0.015537</td>\n",
       "      <td>1.000000</td>\n",
       "      <td>0.009001</td>\n",
       "      <td>0.010622</td>\n",
       "      <td>0.010439</td>\n",
       "      <td>0.003409</td>\n",
       "      <td>-0.010936</td>\n",
       "      <td>-0.004571</td>\n",
       "      <td>0.001035</td>\n",
       "      <td>0.001880</td>\n",
       "    </tr>\n",
       "    <tr>\n",
       "      <th>DepTime</th>\n",
       "      <td>-0.001187</td>\n",
       "      <td>0.000858</td>\n",
       "      <td>0.009001</td>\n",
       "      <td>1.000000</td>\n",
       "      <td>-0.032721</td>\n",
       "      <td>0.241020</td>\n",
       "      <td>-0.001132</td>\n",
       "      <td>-0.891212</td>\n",
       "      <td>0.566127</td>\n",
       "      <td>0.001024</td>\n",
       "      <td>-0.003474</td>\n",
       "    </tr>\n",
       "    <tr>\n",
       "      <th>Distance</th>\n",
       "      <td>0.005923</td>\n",
       "      <td>0.002541</td>\n",
       "      <td>0.010622</td>\n",
       "      <td>-0.032721</td>\n",
       "      <td>1.000000</td>\n",
       "      <td>0.013264</td>\n",
       "      <td>0.006104</td>\n",
       "      <td>0.037040</td>\n",
       "      <td>-0.012694</td>\n",
       "      <td>-0.000672</td>\n",
       "      <td>-0.002135</td>\n",
       "    </tr>\n",
       "    <tr>\n",
       "      <th>dep_delayed_15min</th>\n",
       "      <td>0.016998</td>\n",
       "      <td>0.025842</td>\n",
       "      <td>0.010439</td>\n",
       "      <td>0.241020</td>\n",
       "      <td>0.013264</td>\n",
       "      <td>1.000000</td>\n",
       "      <td>0.019030</td>\n",
       "      <td>-0.216927</td>\n",
       "      <td>0.166761</td>\n",
       "      <td>-0.009746</td>\n",
       "      <td>-0.005791</td>\n",
       "    </tr>\n",
       "    <tr>\n",
       "      <th>days</th>\n",
       "      <td>0.996431</td>\n",
       "      <td>0.091234</td>\n",
       "      <td>0.003409</td>\n",
       "      <td>-0.001132</td>\n",
       "      <td>0.006104</td>\n",
       "      <td>0.019030</td>\n",
       "      <td>1.000000</td>\n",
       "      <td>0.000591</td>\n",
       "      <td>-0.004331</td>\n",
       "      <td>-0.783404</td>\n",
       "      <td>0.011356</td>\n",
       "    </tr>\n",
       "    <tr>\n",
       "      <th>sin_time</th>\n",
       "      <td>0.000546</td>\n",
       "      <td>0.000462</td>\n",
       "      <td>-0.010936</td>\n",
       "      <td>-0.891212</td>\n",
       "      <td>0.037040</td>\n",
       "      <td>-0.216927</td>\n",
       "      <td>0.000591</td>\n",
       "      <td>1.000000</td>\n",
       "      <td>-0.324402</td>\n",
       "      <td>-0.000451</td>\n",
       "      <td>0.001299</td>\n",
       "    </tr>\n",
       "    <tr>\n",
       "      <th>cos_time</th>\n",
       "      <td>-0.004452</td>\n",
       "      <td>0.001733</td>\n",
       "      <td>-0.004571</td>\n",
       "      <td>0.566127</td>\n",
       "      <td>-0.012694</td>\n",
       "      <td>0.166761</td>\n",
       "      <td>-0.004331</td>\n",
       "      <td>-0.324402</td>\n",
       "      <td>1.000000</td>\n",
       "      <td>0.004405</td>\n",
       "      <td>-0.007173</td>\n",
       "    </tr>\n",
       "    <tr>\n",
       "      <th>sin_days</th>\n",
       "      <td>-0.783774</td>\n",
       "      <td>-0.013147</td>\n",
       "      <td>0.001035</td>\n",
       "      <td>0.001024</td>\n",
       "      <td>-0.000672</td>\n",
       "      <td>-0.009746</td>\n",
       "      <td>-0.783404</td>\n",
       "      <td>-0.000451</td>\n",
       "      <td>0.004405</td>\n",
       "      <td>1.000000</td>\n",
       "      <td>0.000175</td>\n",
       "    </tr>\n",
       "    <tr>\n",
       "      <th>cos_days</th>\n",
       "      <td>0.007678</td>\n",
       "      <td>-0.004549</td>\n",
       "      <td>0.001880</td>\n",
       "      <td>-0.003474</td>\n",
       "      <td>-0.002135</td>\n",
       "      <td>-0.005791</td>\n",
       "      <td>0.011356</td>\n",
       "      <td>0.001299</td>\n",
       "      <td>-0.007173</td>\n",
       "      <td>0.000175</td>\n",
       "      <td>1.000000</td>\n",
       "    </tr>\n",
       "  </tbody>\n",
       "</table>\n",
       "</div>"
      ],
      "text/plain": [
       "                      Month  DayofMonth  DayOfWeek   DepTime  Distance  \\\n",
       "Month              1.000000    0.007106   0.004717 -0.001187  0.005923   \n",
       "DayofMonth         0.007106    1.000000  -0.015537  0.000858  0.002541   \n",
       "DayOfWeek          0.004717   -0.015537   1.000000  0.009001  0.010622   \n",
       "DepTime           -0.001187    0.000858   0.009001  1.000000 -0.032721   \n",
       "Distance           0.005923    0.002541   0.010622 -0.032721  1.000000   \n",
       "dep_delayed_15min  0.016998    0.025842   0.010439  0.241020  0.013264   \n",
       "days               0.996431    0.091234   0.003409 -0.001132  0.006104   \n",
       "sin_time           0.000546    0.000462  -0.010936 -0.891212  0.037040   \n",
       "cos_time          -0.004452    0.001733  -0.004571  0.566127 -0.012694   \n",
       "sin_days          -0.783774   -0.013147   0.001035  0.001024 -0.000672   \n",
       "cos_days           0.007678   -0.004549   0.001880 -0.003474 -0.002135   \n",
       "\n",
       "                   dep_delayed_15min      days  sin_time  cos_time  sin_days  \\\n",
       "Month                       0.016998  0.996431  0.000546 -0.004452 -0.783774   \n",
       "DayofMonth                  0.025842  0.091234  0.000462  0.001733 -0.013147   \n",
       "DayOfWeek                   0.010439  0.003409 -0.010936 -0.004571  0.001035   \n",
       "DepTime                     0.241020 -0.001132 -0.891212  0.566127  0.001024   \n",
       "Distance                    0.013264  0.006104  0.037040 -0.012694 -0.000672   \n",
       "dep_delayed_15min           1.000000  0.019030 -0.216927  0.166761 -0.009746   \n",
       "days                        0.019030  1.000000  0.000591 -0.004331 -0.783404   \n",
       "sin_time                   -0.216927  0.000591  1.000000 -0.324402 -0.000451   \n",
       "cos_time                    0.166761 -0.004331 -0.324402  1.000000  0.004405   \n",
       "sin_days                   -0.009746 -0.783404 -0.000451  0.004405  1.000000   \n",
       "cos_days                   -0.005791  0.011356  0.001299 -0.007173  0.000175   \n",
       "\n",
       "                   cos_days  \n",
       "Month              0.007678  \n",
       "DayofMonth        -0.004549  \n",
       "DayOfWeek          0.001880  \n",
       "DepTime           -0.003474  \n",
       "Distance          -0.002135  \n",
       "dep_delayed_15min -0.005791  \n",
       "days               0.011356  \n",
       "sin_time           0.001299  \n",
       "cos_time          -0.007173  \n",
       "sin_days           0.000175  \n",
       "cos_days           1.000000  "
      ]
     },
     "execution_count": 127,
     "metadata": {},
     "output_type": "execute_result"
    }
   ],
   "source": [
    "train_df.corr()"
   ]
  },
  {
   "cell_type": "code",
   "execution_count": 128,
   "metadata": {},
   "outputs": [
    {
     "data": {
      "text/html": [
       "<div>\n",
       "<style scoped>\n",
       "    .dataframe tbody tr th:only-of-type {\n",
       "        vertical-align: middle;\n",
       "    }\n",
       "\n",
       "    .dataframe tbody tr th {\n",
       "        vertical-align: top;\n",
       "    }\n",
       "\n",
       "    .dataframe thead th {\n",
       "        text-align: right;\n",
       "    }\n",
       "</style>\n",
       "<table border=\"1\" class=\"dataframe\">\n",
       "  <thead>\n",
       "    <tr style=\"text-align: right;\">\n",
       "      <th></th>\n",
       "      <th>Month</th>\n",
       "      <th>DayofMonth</th>\n",
       "      <th>DayOfWeek</th>\n",
       "      <th>DepTime</th>\n",
       "      <th>UniqueCarrier</th>\n",
       "      <th>Origin</th>\n",
       "      <th>Dest</th>\n",
       "      <th>Distance</th>\n",
       "      <th>days</th>\n",
       "      <th>sin_time</th>\n",
       "      <th>cos_time</th>\n",
       "      <th>sin_days</th>\n",
       "      <th>cos_days</th>\n",
       "    </tr>\n",
       "  </thead>\n",
       "  <tbody>\n",
       "    <tr>\n",
       "      <th>0</th>\n",
       "      <td>7</td>\n",
       "      <td>25</td>\n",
       "      <td>3</td>\n",
       "      <td>375</td>\n",
       "      <td>YV</td>\n",
       "      <td>MRY</td>\n",
       "      <td>PHX</td>\n",
       "      <td>2.776701</td>\n",
       "      <td>206</td>\n",
       "      <td>0.997859</td>\n",
       "      <td>-0.065403</td>\n",
       "      <td>-0.392251</td>\n",
       "      <td>-0.919858</td>\n",
       "    </tr>\n",
       "    <tr>\n",
       "      <th>1</th>\n",
       "      <td>4</td>\n",
       "      <td>17</td>\n",
       "      <td>2</td>\n",
       "      <td>459</td>\n",
       "      <td>WN</td>\n",
       "      <td>LAS</td>\n",
       "      <td>HOU</td>\n",
       "      <td>3.091667</td>\n",
       "      <td>107</td>\n",
       "      <td>0.908143</td>\n",
       "      <td>-0.418660</td>\n",
       "      <td>0.963673</td>\n",
       "      <td>-0.267085</td>\n",
       "    </tr>\n",
       "    <tr>\n",
       "      <th>2</th>\n",
       "      <td>12</td>\n",
       "      <td>2</td>\n",
       "      <td>7</td>\n",
       "      <td>411</td>\n",
       "      <td>MQ</td>\n",
       "      <td>GSP</td>\n",
       "      <td>ORD</td>\n",
       "      <td>2.761176</td>\n",
       "      <td>336</td>\n",
       "      <td>0.975342</td>\n",
       "      <td>-0.220697</td>\n",
       "      <td>-0.480819</td>\n",
       "      <td>0.876820</td>\n",
       "    </tr>\n",
       "    <tr>\n",
       "      <th>3</th>\n",
       "      <td>3</td>\n",
       "      <td>25</td>\n",
       "      <td>7</td>\n",
       "      <td>974</td>\n",
       "      <td>WN</td>\n",
       "      <td>BWI</td>\n",
       "      <td>MHT</td>\n",
       "      <td>2.576341</td>\n",
       "      <td>84</td>\n",
       "      <td>-0.894934</td>\n",
       "      <td>-0.446198</td>\n",
       "      <td>0.992148</td>\n",
       "      <td>0.125069</td>\n",
       "    </tr>\n",
       "    <tr>\n",
       "      <th>4</th>\n",
       "      <td>6</td>\n",
       "      <td>6</td>\n",
       "      <td>3</td>\n",
       "      <td>905</td>\n",
       "      <td>UA</td>\n",
       "      <td>ORD</td>\n",
       "      <td>STL</td>\n",
       "      <td>2.411620</td>\n",
       "      <td>157</td>\n",
       "      <td>-0.722364</td>\n",
       "      <td>-0.691513</td>\n",
       "      <td>0.426005</td>\n",
       "      <td>-0.904721</td>\n",
       "    </tr>\n",
       "  </tbody>\n",
       "</table>\n",
       "</div>"
      ],
      "text/plain": [
       "   Month  DayofMonth  DayOfWeek  DepTime UniqueCarrier Origin Dest  Distance  \\\n",
       "0      7          25          3      375            YV    MRY  PHX  2.776701   \n",
       "1      4          17          2      459            WN    LAS  HOU  3.091667   \n",
       "2     12           2          7      411            MQ    GSP  ORD  2.761176   \n",
       "3      3          25          7      974            WN    BWI  MHT  2.576341   \n",
       "4      6           6          3      905            UA    ORD  STL  2.411620   \n",
       "\n",
       "   days  sin_time  cos_time  sin_days  cos_days  \n",
       "0   206  0.997859 -0.065403 -0.392251 -0.919858  \n",
       "1   107  0.908143 -0.418660  0.963673 -0.267085  \n",
       "2   336  0.975342 -0.220697 -0.480819  0.876820  \n",
       "3    84 -0.894934 -0.446198  0.992148  0.125069  \n",
       "4   157 -0.722364 -0.691513  0.426005 -0.904721  "
      ]
     },
     "execution_count": 128,
     "metadata": {},
     "output_type": "execute_result"
    }
   ],
   "source": [
    "test_df.head()"
   ]
  },
  {
   "cell_type": "markdown",
   "metadata": {},
   "source": [
    "---\n",
    "---\n",
    "---"
   ]
  },
  {
   "cell_type": "code",
   "execution_count": 182,
   "metadata": {},
   "outputs": [
    {
     "name": "stdout",
     "output_type": "stream",
     "text": [
      "[0, 1, 2, 4, 5, 6, 8]\n"
     ]
    }
   ],
   "source": [
    "categ_feat_idx = np.where(train_df.drop('dep_delayed_15min', axis=1).dtypes == 'object')[0]\n",
    "categ_feat_idx = sorted(np.append(categ_feat_idx, [0, 1, 2]))\n",
    "print(categ_feat_idx)"
   ]
  },
  {
   "cell_type": "code",
   "execution_count": 183,
   "metadata": {},
   "outputs": [],
   "source": [
    "X_train = train_df.drop('dep_delayed_15min', axis=1).values\n",
    "y_train = train_df['dep_delayed_15min'].values\n",
    "X_test = test_df.values"
   ]
  },
  {
   "cell_type": "code",
   "execution_count": 184,
   "metadata": {},
   "outputs": [],
   "source": [
    "X_train_part, X_valid, \\\n",
    "y_train_part, y_valid = train_test_split(X_train, y_train,\n",
    "                                         test_size=0.3,\n",
    "                                         random_state=17,\n",
    "                                         shuffle=True\n",
    "                                         )\n",
    "                                        "
   ]
  },
  {
   "cell_type": "code",
   "execution_count": 185,
   "metadata": {},
   "outputs": [],
   "source": [
    "ctb = CatBoostClassifier(random_seed=17, silent=True)"
   ]
  },
  {
   "cell_type": "markdown",
   "metadata": {},
   "source": [
    "#### Train"
   ]
  },
  {
   "cell_type": "code",
   "execution_count": 166,
   "metadata": {
    "scrolled": true
   },
   "outputs": [
    {
     "name": "stdout",
     "output_type": "stream",
     "text": [
      "Wall time: 1min 33s\n"
     ]
    },
    {
     "data": {
      "text/plain": [
       "<catboost.core.CatBoostClassifier at 0x20171f28>"
      ]
     },
     "execution_count": 166,
     "metadata": {},
     "output_type": "execute_result"
    }
   ],
   "source": [
    "%%time\n",
    "ctb.fit(X_train_part,\n",
    "        y_train_part,\n",
    "        cat_features=categ_feat_idx);"
   ]
  },
  {
   "cell_type": "code",
   "execution_count": 167,
   "metadata": {},
   "outputs": [
    {
     "name": "stdout",
     "output_type": "stream",
     "text": [
      "0.8461853389948719\n",
      "0.754556922886649\n"
     ]
    }
   ],
   "source": [
    "ctb_valid_pred = ctb.predict_proba(X_train_part)[:, 1]\n",
    "print(roc_auc_score(y_train_part, ctb_valid_pred))\n",
    "\n",
    "ctb_valid_pred = ctb.predict_proba(X_valid)[:, 1]\n",
    "print(roc_auc_score(y_valid, ctb_valid_pred))"
   ]
  },
  {
   "cell_type": "markdown",
   "metadata": {},
   "source": [
    "K Fold"
   ]
  },
  {
   "cell_type": "code",
   "execution_count": 186,
   "metadata": {},
   "outputs": [
    {
     "name": "stdout",
     "output_type": "stream",
     "text": [
      "1\n",
      "2\n",
      "3\n"
     ]
    }
   ],
   "source": [
    "test_score = []\n",
    "train_score = []\n",
    "skf = StratifiedKFold(n_splits=3, shuffle=True, random_state=17)\n",
    "\n",
    "i = 0\n",
    "for test_index, train_index in skf.split(X_train, y_train):\n",
    "    \n",
    "    X_train_1, X_test_1 = X_train[train_index, :], X_train[test_index, :]\n",
    "    y_train_1, y_test_1 = y_train[train_index], y_train[test_index]\n",
    "    \n",
    "    \n",
    "    _ctb = CatBoostClassifier(random_seed=17,\n",
    "                              silent=True\n",
    "                             ).fit(X_train_1, y_train_1, cat_features=categ_feat_idx)\n",
    "    \n",
    "    test_score.append(roc_auc_score(y_test_1,\n",
    "                                    _ctb.predict_proba(X_test_1)[:, 1]\n",
    "                                   )\n",
    "                     )\n",
    "    train_score.append(roc_auc_score(y_train_1, _ctb.predict_proba(X_train_1)[:, 1]))\n",
    "    \n",
    "    i += 1\n",
    "    print(i)\n",
    "    "
   ]
  },
  {
   "cell_type": "code",
   "execution_count": 187,
   "metadata": {},
   "outputs": [
    {
     "name": "stdout",
     "output_type": "stream",
     "text": [
      "0.7432098583982043\n",
      "[0.7463960861707694, 0.7437989748619579, 0.7394345141618857]\n",
      "\n",
      "0.8143489015028306\n",
      "[0.815838258639185, 0.8093454332198605, 0.8178630126494463]\n"
     ]
    }
   ],
   "source": [
    "print(np.mean(test_score))\n",
    "print(test_score)\n",
    "print()\n",
    "print(np.mean(train_score))\n",
    "print(train_score)"
   ]
  },
  {
   "cell_type": "markdown",
   "metadata": {},
   "source": [
    "params = \\\n",
    "{\n",
    "# \"iterations\": 100,\n",
    "\"eval_metric\": \"AUC\",\n",
    "\"verbose\": False\n",
    "#\"devices\": -1\n",
    "}\n",
    "\n",
    "pool = Pool(data=X_train,\n",
    "            label=y_train,\n",
    "            cat_features=categ_feat_idx)\n",
    "\n",
    "scores = cv(pool,\n",
    "            params=params,\n",
    "            fold_count=5,\n",
    "            plot=\"True\",\n",
    "            early_stopping_rounds=50)"
   ]
  },
  {
   "cell_type": "markdown",
   "metadata": {},
   "source": [
    "----\n",
    "----\n",
    "----"
   ]
  },
  {
   "cell_type": "markdown",
   "metadata": {},
   "source": [
    "Result"
   ]
  },
  {
   "cell_type": "code",
   "execution_count": 97,
   "metadata": {
    "scrolled": true
   },
   "outputs": [
    {
     "name": "stdout",
     "output_type": "stream",
     "text": [
      "Wall time: 2min 26s\n"
     ]
    },
    {
     "data": {
      "text/plain": [
       "<catboost.core.CatBoostClassifier at 0x130f1748>"
      ]
     },
     "execution_count": 97,
     "metadata": {},
     "output_type": "execute_result"
    }
   ],
   "source": [
    "%%time\n",
    "ctb.fit(X_train, y_train,\n",
    "        cat_features=categ_feat_idx);"
   ]
  },
  {
   "cell_type": "code",
   "execution_count": 98,
   "metadata": {},
   "outputs": [],
   "source": [
    "ctb_test_pred = ctb.predict_proba(X_test)[:, 1]"
   ]
  },
  {
   "cell_type": "code",
   "execution_count": 99,
   "metadata": {},
   "outputs": [],
   "source": [
    "with warnings.catch_warnings():\n",
    "    warnings.simplefilter(\"ignore\")\n",
    "    \n",
    "    sample_sub = pd.read_csv('../data/sample_submission.csv', \n",
    "                             index_col='id')\n",
    "    sample_sub['dep_delayed_15min'] = ctb_test_pred\n",
    "    sample_sub.to_csv('ctb_pred_4.csv')"
   ]
  },
  {
   "cell_type": "code",
   "execution_count": 123,
   "metadata": {},
   "outputs": [
    {
     "name": "stdout",
     "output_type": "stream",
     "text": [
      "id,dep_delayed_15min\n",
      "0,0.029813427154851885\n",
      "1,0.045432589326845726\n",
      "2,0.07735792880819185\n",
      "3,0.26298352270959774\n",
      "4,0.23812453664806577\n",
      "5,0.1015030549268571\n",
      "6,0.040331757718181545\n",
      "7,0.2408800371330324\n",
      "8,0.11304498960469873\n"
     ]
    }
   ],
   "source": [
    "!head ctb_pred.csv"
   ]
  },
  {
   "cell_type": "code",
   "execution_count": 127,
   "metadata": {
    "scrolled": true
   },
   "outputs": [
    {
     "name": "stdout",
     "output_type": "stream",
     "text": [
      "id,dep_delayed_15min\n",
      "0,0.025572166172376693\n",
      "1,0.045981976846112715\n",
      "2,0.07101399403966373\n",
      "3,0.2905628227350732\n",
      "4,0.2716783001872599\n",
      "5,0.08292537325175686\n",
      "6,0.04404007262086365\n",
      "7,0.19666702216697723\n",
      "8,0.07454022433182766\n"
     ]
    }
   ],
   "source": [
    "!head ctb_pred_3.csv"
   ]
  },
  {
   "cell_type": "code",
   "execution_count": 100,
   "metadata": {},
   "outputs": [
    {
     "name": "stdout",
     "output_type": "stream",
     "text": [
      "id,dep_delayed_15min\n",
      "0,0.041335027204167984\n",
      "1,0.06414436097806048\n",
      "2,0.05168336229185614\n",
      "3,0.31269384580379495\n",
      "4,0.3241744296848872\n",
      "5,0.09560777045922966\n",
      "6,0.04826738267201204\n",
      "7,0.21209648956603291\n",
      "8,0.0913154450303372\n"
     ]
    }
   ],
   "source": [
    "!head ctb_pred_4.csv"
   ]
  }
 ],
 "metadata": {
  "kernelspec": {
   "display_name": "Python 3",
   "language": "python",
   "name": "python3"
  },
  "language_info": {
   "codemirror_mode": {
    "name": "ipython",
    "version": 3
   },
   "file_extension": ".py",
   "mimetype": "text/x-python",
   "name": "python",
   "nbconvert_exporter": "python",
   "pygments_lexer": "ipython3",
   "version": "3.6.8"
  }
 },
 "nbformat": 4,
 "nbformat_minor": 1
}
