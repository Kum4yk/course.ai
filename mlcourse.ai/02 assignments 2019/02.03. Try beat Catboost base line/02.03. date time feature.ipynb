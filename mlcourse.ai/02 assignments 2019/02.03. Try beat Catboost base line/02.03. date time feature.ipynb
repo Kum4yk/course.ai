{
 "cells": [
  {
   "cell_type": "code",
   "execution_count": 1,
   "metadata": {},
   "outputs": [],
   "source": [
    "import warnings\n",
    "import numpy as np\n",
    "import pandas as pd\n",
    "import catboost\n",
    "\n",
    "from catboost import cv, Pool\n",
    "import matplotlib.pyplot as plt\n",
    "\n",
    "from pathlib import Path\n",
    "from sklearn.model_selection import train_test_split\n",
    "from sklearn.metrics import roc_auc_score, accuracy_score\n",
    "from catboost import CatBoostClassifier\n",
    "from sklearn.model_selection import cross_val_score, StratifiedKFold"
   ]
  },
  {
   "cell_type": "code",
   "execution_count": 30,
   "metadata": {},
   "outputs": [],
   "source": [
    "days_from_start = {\n",
    "    1: 0, 2: 31, 3: 59, 4: 90, 5: 120, 6: 151, 7: 181,\n",
    "    8: 212, 9: 243, 10: 273, 11: 304, 12: 334\n",
    "}\n",
    "\n",
    "days_in_month = {1: 32, 2: 30, 3: 32, 4: 31, 5: 32, 6: 31,\n",
    "                 7: 32, 8: 32, 9: 31, 10: 32, 11: 31, 12: 32\n",
    "                 }\n",
    "\n",
    "to_weekend = {1: 0, 2:0, 3: 0, 4: 0, 5: 0, 6:1, 7:1}\n",
    "\n",
    "def create_period_faetures(value, period):\n",
    "    value = value * 2 * np.pi\n",
    "    return np.sin(value/period), np.cos(value/period)\n",
    "\n",
    "def change_data(data):\n",
    "    \n",
    "    for name in \"Month DayofMonth DayOfWeek\".split():\n",
    "        data[name] = data[name].str[2:].astype('int')\n",
    "        \n",
    "    \n",
    "    data.DepTime = (data.DepTime % 2400)\n",
    "    \n",
    "    data[\"Year\"] = 2018\n",
    "    data[\"day\"] = data.DayofMonth\n",
    "    data[\"hour\"] = data.DepTime // 100\n",
    "    data[\"minutes\"] = data.DepTime % 100\n",
    "    # data[\"date_time\"] = pd.to_datetime(data[['Year', \"Month\", \"day\", \"hour\", \"minutes\"]])\n",
    "    \n",
    "    data[\"dep_in_minutes\"] = data.hour * 60 + data.minutes\n",
    "    data[\"day_year\"] = (data.Month.map(days_from_start) + data.DayofMonth) * 24\n",
    "    \n",
    "    data.drop([\"Year\", \"day\"], axis=1, inplace=True)\n",
    "    \n",
    "    data[\"weekend\"] = data.DayOfWeek.map(to_weekend)\n",
    "    \n",
    "    data['sin_dep'], data['cos_dep'] = create_period_faetures(data.dep_in_minutes, 24 * 60)\n",
    "    data['sin_year'], data['cos_year'] = create_period_faetures(data.day_year, 365 * 24)\n",
    "    \n",
    "    \n",
    "    data.Distance = data.Distance.apply(np.log10) ** 2\n",
    "    for name in \"Month DayofMonth DayOfWeek\".split():\n",
    "        data[name] = data[name].astype(str)"
   ]
  },
  {
   "cell_type": "markdown",
   "metadata": {},
   "source": [
    "**Read the data**"
   ]
  },
  {
   "cell_type": "code",
   "execution_count": 31,
   "metadata": {},
   "outputs": [],
   "source": [
    "train_df = pd.read_csv('../../data/flight_delays_train.csv')\n",
    "test_df = pd.read_csv('../../data/flight_delays_test.csv')\n",
    "\n",
    "train_df.dep_delayed_15min = train_df['dep_delayed_15min'].map({'Y': 1, 'N': 0})"
   ]
  },
  {
   "cell_type": "code",
   "execution_count": 6,
   "metadata": {},
   "outputs": [],
   "source": [
    "train_df['flight'] = train_df['Origin'] + ' --> ' + train_df['Dest']\n",
    "test_df['flight'] = test_df['Origin'] + ' --> ' + test_df['Dest']"
   ]
  },
  {
   "cell_type": "code",
   "execution_count": 32,
   "metadata": {},
   "outputs": [],
   "source": [
    "change_data(train_df)\n",
    "change_data(test_df)"
   ]
  },
  {
   "cell_type": "code",
   "execution_count": 33,
   "metadata": {},
   "outputs": [],
   "source": [
    "names = \"DepTime hour\tminutes\tdep_in_minutes day_year\".split()\n",
    "drop = lambda x, y: x.drop(y, axis=1, inplace=True)\n",
    "for data in (train_df, test_df):\n",
    "    drop(data, names)\n",
    "    "
   ]
  },
  {
   "cell_type": "code",
   "execution_count": 34,
   "metadata": {
    "scrolled": true
   },
   "outputs": [
    {
     "data": {
      "text/html": [
       "<div>\n",
       "<style scoped>\n",
       "    .dataframe tbody tr th:only-of-type {\n",
       "        vertical-align: middle;\n",
       "    }\n",
       "\n",
       "    .dataframe tbody tr th {\n",
       "        vertical-align: top;\n",
       "    }\n",
       "\n",
       "    .dataframe thead th {\n",
       "        text-align: right;\n",
       "    }\n",
       "</style>\n",
       "<table border=\"1\" class=\"dataframe\">\n",
       "  <thead>\n",
       "    <tr style=\"text-align: right;\">\n",
       "      <th></th>\n",
       "      <th>Month</th>\n",
       "      <th>DayofMonth</th>\n",
       "      <th>DayOfWeek</th>\n",
       "      <th>UniqueCarrier</th>\n",
       "      <th>Origin</th>\n",
       "      <th>Dest</th>\n",
       "      <th>Distance</th>\n",
       "      <th>dep_delayed_15min</th>\n",
       "      <th>weekend</th>\n",
       "      <th>sin_dep</th>\n",
       "      <th>cos_dep</th>\n",
       "      <th>sin_year</th>\n",
       "      <th>cos_year</th>\n",
       "    </tr>\n",
       "  </thead>\n",
       "  <tbody>\n",
       "    <tr>\n",
       "      <th>0</th>\n",
       "      <td>8</td>\n",
       "      <td>21</td>\n",
       "      <td>7</td>\n",
       "      <td>AA</td>\n",
       "      <td>ATL</td>\n",
       "      <td>DFW</td>\n",
       "      <td>8.205424</td>\n",
       "      <td>0</td>\n",
       "      <td>1</td>\n",
       "      <td>-0.917060</td>\n",
       "      <td>0.398749</td>\n",
       "      <td>-0.763889</td>\n",
       "      <td>-0.645348</td>\n",
       "    </tr>\n",
       "    <tr>\n",
       "      <th>1</th>\n",
       "      <td>4</td>\n",
       "      <td>20</td>\n",
       "      <td>3</td>\n",
       "      <td>US</td>\n",
       "      <td>PIT</td>\n",
       "      <td>MCO</td>\n",
       "      <td>8.533211</td>\n",
       "      <td>0</td>\n",
       "      <td>0</td>\n",
       "      <td>-0.838671</td>\n",
       "      <td>-0.544639</td>\n",
       "      <td>0.948362</td>\n",
       "      <td>-0.317191</td>\n",
       "    </tr>\n",
       "    <tr>\n",
       "      <th>2</th>\n",
       "      <td>9</td>\n",
       "      <td>2</td>\n",
       "      <td>5</td>\n",
       "      <td>XE</td>\n",
       "      <td>RDU</td>\n",
       "      <td>CLE</td>\n",
       "      <td>6.859650</td>\n",
       "      <td>0</td>\n",
       "      <td>0</td>\n",
       "      <td>-0.580703</td>\n",
       "      <td>-0.814116</td>\n",
       "      <td>-0.880012</td>\n",
       "      <td>-0.474951</td>\n",
       "    </tr>\n",
       "    <tr>\n",
       "      <th>3</th>\n",
       "      <td>11</td>\n",
       "      <td>25</td>\n",
       "      <td>6</td>\n",
       "      <td>OO</td>\n",
       "      <td>DEN</td>\n",
       "      <td>MEM</td>\n",
       "      <td>8.646637</td>\n",
       "      <td>0</td>\n",
       "      <td>1</td>\n",
       "      <td>0.442289</td>\n",
       "      <td>-0.896873</td>\n",
       "      <td>-0.580800</td>\n",
       "      <td>0.814046</td>\n",
       "    </tr>\n",
       "    <tr>\n",
       "      <th>4</th>\n",
       "      <td>10</td>\n",
       "      <td>7</td>\n",
       "      <td>6</td>\n",
       "      <td>WN</td>\n",
       "      <td>MDW</td>\n",
       "      <td>OMA</td>\n",
       "      <td>6.897664</td>\n",
       "      <td>1</td>\n",
       "      <td>1</td>\n",
       "      <td>-0.992546</td>\n",
       "      <td>0.121869</td>\n",
       "      <td>-0.994218</td>\n",
       "      <td>0.107381</td>\n",
       "    </tr>\n",
       "  </tbody>\n",
       "</table>\n",
       "</div>"
      ],
      "text/plain": [
       "  Month DayofMonth DayOfWeek UniqueCarrier Origin Dest  Distance  \\\n",
       "0     8         21         7            AA    ATL  DFW  8.205424   \n",
       "1     4         20         3            US    PIT  MCO  8.533211   \n",
       "2     9          2         5            XE    RDU  CLE  6.859650   \n",
       "3    11         25         6            OO    DEN  MEM  8.646637   \n",
       "4    10          7         6            WN    MDW  OMA  6.897664   \n",
       "\n",
       "   dep_delayed_15min  weekend   sin_dep   cos_dep  sin_year  cos_year  \n",
       "0                  0        1 -0.917060  0.398749 -0.763889 -0.645348  \n",
       "1                  0        0 -0.838671 -0.544639  0.948362 -0.317191  \n",
       "2                  0        0 -0.580703 -0.814116 -0.880012 -0.474951  \n",
       "3                  0        1  0.442289 -0.896873 -0.580800  0.814046  \n",
       "4                  1        1 -0.992546  0.121869 -0.994218  0.107381  "
      ]
     },
     "execution_count": 34,
     "metadata": {},
     "output_type": "execute_result"
    }
   ],
   "source": [
    "train_df.head()"
   ]
  },
  {
   "cell_type": "code",
   "execution_count": 35,
   "metadata": {},
   "outputs": [
    {
     "data": {
      "text/plain": [
       "<matplotlib.axes._subplots.AxesSubplot at 0x12393860>"
      ]
     },
     "execution_count": 35,
     "metadata": {},
     "output_type": "execute_result"
    },
    {
     "data": {
      "image/png": "[encoded data removed]",
      "text/plain": [
       "<Figure size 432x288 with 1 Axes>"
      ]
     },
     "metadata": {
      "needs_background": "light"
     },
     "output_type": "display_data"
    }
   ],
   "source": [
    "train_df.Distance.plot.hist()"
   ]
  },
  {
   "cell_type": "code",
   "execution_count": 433,
   "metadata": {},
   "outputs": [
    {
     "data": {
      "text/plain": [
       "(7,)"
      ]
     },
     "execution_count": 433,
     "metadata": {},
     "output_type": "execute_result"
    }
   ],
   "source": [
    "num_feat = np.where(train_df.dtypes != 'object')[0]\n",
    "num_feat.shape"
   ]
  },
  {
   "cell_type": "code",
   "execution_count": 391,
   "metadata": {
    "scrolled": true
   },
   "outputs": [],
   "source": [
    "from sklearn.feature_selection import VarianceThreshold, SelectKBest, f_classif"
   ]
  },
  {
   "cell_type": "code",
   "execution_count": 387,
   "metadata": {},
   "outputs": [],
   "source": [
    "x_data_kbest = SelectKBest(f_classif, k=12).fit_transform((train_df.iloc[:, num_feat]).drop([\"dep_delayed_15min\"], axis=1),\n",
    "                                                          train_df.dep_delayed_15min)"
   ]
  },
  {
   "cell_type": "code",
   "execution_count": 36,
   "metadata": {
    "scrolled": false
   },
   "outputs": [
    {
     "data": {
      "text/html": [
       "<div>\n",
       "<style scoped>\n",
       "    .dataframe tbody tr th:only-of-type {\n",
       "        vertical-align: middle;\n",
       "    }\n",
       "\n",
       "    .dataframe tbody tr th {\n",
       "        vertical-align: top;\n",
       "    }\n",
       "\n",
       "    .dataframe thead th {\n",
       "        text-align: right;\n",
       "    }\n",
       "</style>\n",
       "<table border=\"1\" class=\"dataframe\">\n",
       "  <thead>\n",
       "    <tr style=\"text-align: right;\">\n",
       "      <th></th>\n",
       "      <th>Distance</th>\n",
       "      <th>dep_delayed_15min</th>\n",
       "      <th>weekend</th>\n",
       "      <th>sin_dep</th>\n",
       "      <th>cos_dep</th>\n",
       "      <th>sin_year</th>\n",
       "      <th>cos_year</th>\n",
       "    </tr>\n",
       "  </thead>\n",
       "  <tbody>\n",
       "    <tr>\n",
       "      <th>Distance</th>\n",
       "      <td>1.000000</td>\n",
       "      <td>0.010600</td>\n",
       "      <td>0.014634</td>\n",
       "      <td>0.037693</td>\n",
       "      <td>-0.011059</td>\n",
       "      <td>-0.001079</td>\n",
       "      <td>-0.002247</td>\n",
       "    </tr>\n",
       "    <tr>\n",
       "      <th>dep_delayed_15min</th>\n",
       "      <td>0.010600</td>\n",
       "      <td>1.000000</td>\n",
       "      <td>-0.015949</td>\n",
       "      <td>-0.216927</td>\n",
       "      <td>0.166761</td>\n",
       "      <td>-0.009743</td>\n",
       "      <td>-0.005796</td>\n",
       "    </tr>\n",
       "    <tr>\n",
       "      <th>weekend</th>\n",
       "      <td>0.014634</td>\n",
       "      <td>-0.015949</td>\n",
       "      <td>1.000000</td>\n",
       "      <td>-0.007235</td>\n",
       "      <td>-0.018228</td>\n",
       "      <td>-0.004273</td>\n",
       "      <td>0.003139</td>\n",
       "    </tr>\n",
       "    <tr>\n",
       "      <th>sin_dep</th>\n",
       "      <td>0.037693</td>\n",
       "      <td>-0.216927</td>\n",
       "      <td>-0.007235</td>\n",
       "      <td>1.000000</td>\n",
       "      <td>-0.324402</td>\n",
       "      <td>-0.000449</td>\n",
       "      <td>0.001300</td>\n",
       "    </tr>\n",
       "    <tr>\n",
       "      <th>cos_dep</th>\n",
       "      <td>-0.011059</td>\n",
       "      <td>0.166761</td>\n",
       "      <td>-0.018228</td>\n",
       "      <td>-0.324402</td>\n",
       "      <td>1.000000</td>\n",
       "      <td>0.004394</td>\n",
       "      <td>-0.007182</td>\n",
       "    </tr>\n",
       "    <tr>\n",
       "      <th>sin_year</th>\n",
       "      <td>-0.001079</td>\n",
       "      <td>-0.009743</td>\n",
       "      <td>-0.004273</td>\n",
       "      <td>-0.000449</td>\n",
       "      <td>0.004394</td>\n",
       "      <td>1.000000</td>\n",
       "      <td>0.000178</td>\n",
       "    </tr>\n",
       "    <tr>\n",
       "      <th>cos_year</th>\n",
       "      <td>-0.002247</td>\n",
       "      <td>-0.005796</td>\n",
       "      <td>0.003139</td>\n",
       "      <td>0.001300</td>\n",
       "      <td>-0.007182</td>\n",
       "      <td>0.000178</td>\n",
       "      <td>1.000000</td>\n",
       "    </tr>\n",
       "  </tbody>\n",
       "</table>\n",
       "</div>"
      ],
      "text/plain": [
       "                   Distance  dep_delayed_15min   weekend   sin_dep   cos_dep  \\\n",
       "Distance           1.000000           0.010600  0.014634  0.037693 -0.011059   \n",
       "dep_delayed_15min  0.010600           1.000000 -0.015949 -0.216927  0.166761   \n",
       "weekend            0.014634          -0.015949  1.000000 -0.007235 -0.018228   \n",
       "sin_dep            0.037693          -0.216927 -0.007235  1.000000 -0.324402   \n",
       "cos_dep           -0.011059           0.166761 -0.018228 -0.324402  1.000000   \n",
       "sin_year          -0.001079          -0.009743 -0.004273 -0.000449  0.004394   \n",
       "cos_year          -0.002247          -0.005796  0.003139  0.001300 -0.007182   \n",
       "\n",
       "                   sin_year  cos_year  \n",
       "Distance          -0.001079 -0.002247  \n",
       "dep_delayed_15min -0.009743 -0.005796  \n",
       "weekend           -0.004273  0.003139  \n",
       "sin_dep           -0.000449  0.001300  \n",
       "cos_dep            0.004394 -0.007182  \n",
       "sin_year           1.000000  0.000178  \n",
       "cos_year           0.000178  1.000000  "
      ]
     },
     "execution_count": 36,
     "metadata": {},
     "output_type": "execute_result"
    }
   ],
   "source": [
    "train_df.corr()"
   ]
  },
  {
   "cell_type": "code",
   "execution_count": 37,
   "metadata": {
    "scrolled": true
   },
   "outputs": [
    {
     "ename": "NameError",
     "evalue": "name 'x_data_kbest' is not defined",
     "output_type": "error",
     "traceback": [
      "\u001b[1;31m---------------------------------------------------------------------------\u001b[0m",
      "\u001b[1;31mNameError\u001b[0m                                 Traceback (most recent call last)",
      "\u001b[1;32m<ipython-input-37-312aea5cfbaf>\u001b[0m in \u001b[0;36m<module>\u001b[1;34m\u001b[0m\n\u001b[1;32m----> 1\u001b[1;33m \u001b[0mpd\u001b[0m\u001b[1;33m.\u001b[0m\u001b[0mDataFrame\u001b[0m\u001b[1;33m(\u001b[0m\u001b[0mx_data_kbest\u001b[0m\u001b[1;33m)\u001b[0m\u001b[1;33m.\u001b[0m\u001b[0mhead\u001b[0m\u001b[1;33m(\u001b[0m\u001b[1;33m)\u001b[0m\u001b[1;33m\u001b[0m\u001b[1;33m\u001b[0m\u001b[0m\n\u001b[0m",
      "\u001b[1;31mNameError\u001b[0m: name 'x_data_kbest' is not defined"
     ]
    }
   ],
   "source": [
    "pd.DataFrame(x_data_kbest).head()"
   ]
  },
  {
   "cell_type": "code",
   "execution_count": 38,
   "metadata": {},
   "outputs": [
    {
     "data": {
      "text/html": [
       "<div>\n",
       "<style scoped>\n",
       "    .dataframe tbody tr th:only-of-type {\n",
       "        vertical-align: middle;\n",
       "    }\n",
       "\n",
       "    .dataframe tbody tr th {\n",
       "        vertical-align: top;\n",
       "    }\n",
       "\n",
       "    .dataframe thead th {\n",
       "        text-align: right;\n",
       "    }\n",
       "</style>\n",
       "<table border=\"1\" class=\"dataframe\">\n",
       "  <thead>\n",
       "    <tr style=\"text-align: right;\">\n",
       "      <th></th>\n",
       "      <th>Month</th>\n",
       "      <th>DayofMonth</th>\n",
       "      <th>DayOfWeek</th>\n",
       "      <th>UniqueCarrier</th>\n",
       "      <th>Origin</th>\n",
       "      <th>Dest</th>\n",
       "      <th>Distance</th>\n",
       "      <th>dep_delayed_15min</th>\n",
       "      <th>weekend</th>\n",
       "      <th>sin_dep</th>\n",
       "      <th>cos_dep</th>\n",
       "      <th>sin_year</th>\n",
       "      <th>cos_year</th>\n",
       "    </tr>\n",
       "  </thead>\n",
       "  <tbody>\n",
       "    <tr>\n",
       "      <th>0</th>\n",
       "      <td>8</td>\n",
       "      <td>21</td>\n",
       "      <td>7</td>\n",
       "      <td>AA</td>\n",
       "      <td>ATL</td>\n",
       "      <td>DFW</td>\n",
       "      <td>8.205424</td>\n",
       "      <td>0</td>\n",
       "      <td>1</td>\n",
       "      <td>-0.917060</td>\n",
       "      <td>0.398749</td>\n",
       "      <td>-0.763889</td>\n",
       "      <td>-0.645348</td>\n",
       "    </tr>\n",
       "    <tr>\n",
       "      <th>1</th>\n",
       "      <td>4</td>\n",
       "      <td>20</td>\n",
       "      <td>3</td>\n",
       "      <td>US</td>\n",
       "      <td>PIT</td>\n",
       "      <td>MCO</td>\n",
       "      <td>8.533211</td>\n",
       "      <td>0</td>\n",
       "      <td>0</td>\n",
       "      <td>-0.838671</td>\n",
       "      <td>-0.544639</td>\n",
       "      <td>0.948362</td>\n",
       "      <td>-0.317191</td>\n",
       "    </tr>\n",
       "    <tr>\n",
       "      <th>2</th>\n",
       "      <td>9</td>\n",
       "      <td>2</td>\n",
       "      <td>5</td>\n",
       "      <td>XE</td>\n",
       "      <td>RDU</td>\n",
       "      <td>CLE</td>\n",
       "      <td>6.859650</td>\n",
       "      <td>0</td>\n",
       "      <td>0</td>\n",
       "      <td>-0.580703</td>\n",
       "      <td>-0.814116</td>\n",
       "      <td>-0.880012</td>\n",
       "      <td>-0.474951</td>\n",
       "    </tr>\n",
       "    <tr>\n",
       "      <th>3</th>\n",
       "      <td>11</td>\n",
       "      <td>25</td>\n",
       "      <td>6</td>\n",
       "      <td>OO</td>\n",
       "      <td>DEN</td>\n",
       "      <td>MEM</td>\n",
       "      <td>8.646637</td>\n",
       "      <td>0</td>\n",
       "      <td>1</td>\n",
       "      <td>0.442289</td>\n",
       "      <td>-0.896873</td>\n",
       "      <td>-0.580800</td>\n",
       "      <td>0.814046</td>\n",
       "    </tr>\n",
       "    <tr>\n",
       "      <th>4</th>\n",
       "      <td>10</td>\n",
       "      <td>7</td>\n",
       "      <td>6</td>\n",
       "      <td>WN</td>\n",
       "      <td>MDW</td>\n",
       "      <td>OMA</td>\n",
       "      <td>6.897664</td>\n",
       "      <td>1</td>\n",
       "      <td>1</td>\n",
       "      <td>-0.992546</td>\n",
       "      <td>0.121869</td>\n",
       "      <td>-0.994218</td>\n",
       "      <td>0.107381</td>\n",
       "    </tr>\n",
       "  </tbody>\n",
       "</table>\n",
       "</div>"
      ],
      "text/plain": [
       "  Month DayofMonth DayOfWeek UniqueCarrier Origin Dest  Distance  \\\n",
       "0     8         21         7            AA    ATL  DFW  8.205424   \n",
       "1     4         20         3            US    PIT  MCO  8.533211   \n",
       "2     9          2         5            XE    RDU  CLE  6.859650   \n",
       "3    11         25         6            OO    DEN  MEM  8.646637   \n",
       "4    10          7         6            WN    MDW  OMA  6.897664   \n",
       "\n",
       "   dep_delayed_15min  weekend   sin_dep   cos_dep  sin_year  cos_year  \n",
       "0                  0        1 -0.917060  0.398749 -0.763889 -0.645348  \n",
       "1                  0        0 -0.838671 -0.544639  0.948362 -0.317191  \n",
       "2                  0        0 -0.580703 -0.814116 -0.880012 -0.474951  \n",
       "3                  0        1  0.442289 -0.896873 -0.580800  0.814046  \n",
       "4                  1        1 -0.992546  0.121869 -0.994218  0.107381  "
      ]
     },
     "execution_count": 38,
     "metadata": {},
     "output_type": "execute_result"
    }
   ],
   "source": [
    "train_df.head()"
   ]
  },
  {
   "cell_type": "code",
   "execution_count": 39,
   "metadata": {},
   "outputs": [
    {
     "data": {
      "text/plain": [
       "<matplotlib.axes._subplots.AxesSubplot at 0x1ecea860>"
      ]
     },
     "execution_count": 39,
     "metadata": {},
     "output_type": "execute_result"
    },
    {
     "data": {
      "image/png": "[encoded data removed]",
      "text/plain": [
       "<Figure size 432x288 with 1 Axes>"
      ]
     },
     "metadata": {
      "needs_background": "light"
     },
     "output_type": "display_data"
    }
   ],
   "source": [
    "train_df.Distance.plot.hist()"
   ]
  },
  {
   "cell_type": "markdown",
   "metadata": {},
   "source": [
    "---\n",
    "---\n",
    "---"
   ]
  },
  {
   "cell_type": "code",
   "execution_count": 40,
   "metadata": {},
   "outputs": [
    {
     "name": "stdout",
     "output_type": "stream",
     "text": [
      "[0 1 2 3 4 5]\n"
     ]
    }
   ],
   "source": [
    "categ_feat_idx = np.where(train_df.dtypes.drop([\"dep_delayed_15min\"]) == 'object')[0]\n",
    "# categ_feat_idx = sorted(np.append(categ_feat_idx, [0, 1, 2]))\n",
    "print(categ_feat_idx)"
   ]
  },
  {
   "cell_type": "code",
   "execution_count": 41,
   "metadata": {},
   "outputs": [],
   "source": [
    "X_train = train_df.drop('dep_delayed_15min', axis=1).values\n",
    "y_train = train_df['dep_delayed_15min'].values\n",
    "X_test = test_df.values"
   ]
  },
  {
   "cell_type": "code",
   "execution_count": 42,
   "metadata": {},
   "outputs": [],
   "source": [
    "X_train_part, X_valid, \\\n",
    "y_train_part, y_valid = train_test_split(X_train, y_train,\n",
    "                                         test_size=0.3,\n",
    "                                         random_state=17,\n",
    "                                         shuffle=True\n",
    "                                         )\n",
    "                                        "
   ]
  },
  {
   "cell_type": "code",
   "execution_count": 43,
   "metadata": {},
   "outputs": [],
   "source": [
    "ctb = CatBoostClassifier(random_seed=17, silent=True)"
   ]
  },
  {
   "cell_type": "markdown",
   "metadata": {},
   "source": [
    "#### Train"
   ]
  },
  {
   "cell_type": "code",
   "execution_count": 44,
   "metadata": {
    "scrolled": true
   },
   "outputs": [
    {
     "name": "stdout",
     "output_type": "stream",
     "text": [
      "Wall time: 1min 18s\n"
     ]
    },
    {
     "data": {
      "text/plain": [
       "<catboost.core.CatBoostClassifier at 0x17480630>"
      ]
     },
     "execution_count": 44,
     "metadata": {},
     "output_type": "execute_result"
    }
   ],
   "source": [
    "%%time\n",
    "ctb.fit(X_train_part,\n",
    "        y_train_part, \n",
    "        cat_features=categ_feat_idx);"
   ]
  },
  {
   "cell_type": "code",
   "execution_count": 45,
   "metadata": {},
   "outputs": [
    {
     "name": "stdout",
     "output_type": "stream",
     "text": [
      "0.8467361392280801\n",
      "0.7560353705113839\n"
     ]
    }
   ],
   "source": [
    "ctb_valid_pred = ctb.predict_proba(X_train_part)[:, 1]\n",
    "print(roc_auc_score(y_train_part, ctb_valid_pred))\n",
    "\n",
    "ctb_valid_pred = ctb.predict_proba(X_valid)[:, 1]\n",
    "print(roc_auc_score(y_valid, ctb_valid_pred))"
   ]
  },
  {
   "cell_type": "markdown",
   "metadata": {},
   "source": [
    "K Fold"
   ]
  },
  {
   "cell_type": "code",
   "execution_count": 295,
   "metadata": {},
   "outputs": [
    {
     "name": "stdout",
     "output_type": "stream",
     "text": [
      "1\n",
      "2\n",
      "3\n"
     ]
    }
   ],
   "source": [
    "test_score = []\n",
    "train_score = []\n",
    "skf = StratifiedKFold(n_splits=3, shuffle=True, random_state=17)\n",
    "\n",
    "i = 0\n",
    "for test_index, train_index in skf.split(X_train, y_train):\n",
    "    \n",
    "    X_train_1, X_test_1 = X_train[train_index, :], X_train[test_index, :]\n",
    "    y_train_1, y_test_1 = y_train[train_index], y_train[test_index]\n",
    "    \n",
    "    \n",
    "    _ctb = CatBoostClassifier(random_seed=17,\n",
    "                              silent=True\n",
    "                             ).fit(X_train_1, y_train_1, cat_features=categ_feat_idx)\n",
    "    \n",
    "    test_score.append(roc_auc_score(y_test_1,\n",
    "                                    _ctb.predict_proba(X_test_1)[:, 1]\n",
    "                                   )\n",
    "                     )\n",
    "    train_score.append(roc_auc_score(y_train_1, _ctb.predict_proba(X_train_1)[:, 1]))\n",
    "    \n",
    "    i += 1\n",
    "    print(i)\n",
    "    "
   ]
  },
  {
   "cell_type": "code",
   "execution_count": 297,
   "metadata": {},
   "outputs": [
    {
     "name": "stdout",
     "output_type": "stream",
     "text": [
      "0.733257522282691\n",
      "[0.7340427864660044, 0.7342698581259834, 0.7314599222560852]\n",
      "\n",
      "0.7764956099562351\n",
      "[0.77261243910411, 0.7760086760842536, 0.7808657146803418]\n"
     ]
    }
   ],
   "source": [
    "print(np.mean(test_score))\n",
    "print(test_score)\n",
    "print()\n",
    "print(np.mean(train_score))\n",
    "print(train_score)"
   ]
  },
  {
   "cell_type": "markdown",
   "metadata": {},
   "source": [
    "params = \\\n",
    "{\n",
    "# \"iterations\": 100,\n",
    "\"eval_metric\": \"AUC\",\n",
    "\"verbose\": False\n",
    "#\"devices\": -1\n",
    "}\n",
    "\n",
    "pool = Pool(data=X_train,\n",
    "            label=y_train,\n",
    "            cat_features=categ_feat_idx)\n",
    "\n",
    "scores = cv(pool,\n",
    "            params=params,\n",
    "            fold_count=5,\n",
    "            plot=\"True\",\n",
    "            early_stopping_rounds=50)"
   ]
  },
  {
   "cell_type": "markdown",
   "metadata": {},
   "source": [
    "----\n",
    "----\n",
    "----"
   ]
  },
  {
   "cell_type": "markdown",
   "metadata": {},
   "source": [
    "Result"
   ]
  },
  {
   "cell_type": "code",
   "execution_count": 46,
   "metadata": {
    "scrolled": true
   },
   "outputs": [
    {
     "name": "stdout",
     "output_type": "stream",
     "text": [
      "Wall time: 1min 40s\n"
     ]
    },
    {
     "data": {
      "text/plain": [
       "<catboost.core.CatBoostClassifier at 0x17480630>"
      ]
     },
     "execution_count": 46,
     "metadata": {},
     "output_type": "execute_result"
    }
   ],
   "source": [
    "%%time\n",
    "ctb.fit(X_train, y_train,\n",
    "        cat_features=categ_feat_idx);"
   ]
  },
  {
   "cell_type": "code",
   "execution_count": 47,
   "metadata": {},
   "outputs": [],
   "source": [
    "ctb_test_pred = ctb.predict_proba(X_test)[:, 1]"
   ]
  },
  {
   "cell_type": "code",
   "execution_count": 49,
   "metadata": {},
   "outputs": [],
   "source": [
    "with warnings.catch_warnings():\n",
    "    warnings.simplefilter(\"ignore\")\n",
    "    \n",
    "    sample_sub = pd.read_csv('../../data/sample_submission.csv', \n",
    "                             index_col='id')\n",
    "    sample_sub['dep_delayed_15min'] = ctb_test_pred\n",
    "    sample_sub.to_csv('ctb_pred_4.csv')"
   ]
  },
  {
   "cell_type": "code",
   "execution_count": 123,
   "metadata": {},
   "outputs": [
    {
     "name": "stdout",
     "output_type": "stream",
     "text": [
      "id,dep_delayed_15min\n",
      "0,0.029813427154851885\n",
      "1,0.045432589326845726\n",
      "2,0.07735792880819185\n",
      "3,0.26298352270959774\n",
      "4,0.23812453664806577\n",
      "5,0.1015030549268571\n",
      "6,0.040331757718181545\n",
      "7,0.2408800371330324\n",
      "8,0.11304498960469873\n"
     ]
    }
   ],
   "source": [
    "!head ctb_pred.csv"
   ]
  },
  {
   "cell_type": "code",
   "execution_count": 127,
   "metadata": {
    "scrolled": true
   },
   "outputs": [
    {
     "name": "stdout",
     "output_type": "stream",
     "text": [
      "id,dep_delayed_15min\n",
      "0,0.025572166172376693\n",
      "1,0.045981976846112715\n",
      "2,0.07101399403966373\n",
      "3,0.2905628227350732\n",
      "4,0.2716783001872599\n",
      "5,0.08292537325175686\n",
      "6,0.04404007262086365\n",
      "7,0.19666702216697723\n",
      "8,0.07454022433182766\n"
     ]
    }
   ],
   "source": [
    "!head ctb_pred_3.csv"
   ]
  },
  {
   "cell_type": "code",
   "execution_count": 50,
   "metadata": {},
   "outputs": [
    {
     "name": "stdout",
     "output_type": "stream",
     "text": [
      "id,dep_delayed_15min\n",
      "0,0.036572825023038706\n",
      "1,0.04967646340966661\n",
      "2,0.04485711620040537\n",
      "3,0.2790975270111142\n",
      "4,0.2463003053648039\n",
      "5,0.09189481274496254\n",
      "6,0.052521796588501285\n",
      "7,0.17758909138474377\n",
      "8,0.10541719657758256\n"
     ]
    }
   ],
   "source": [
    "!head ctb_pred_4.csv"
   ]
  }
 ],
 "metadata": {
  "kernelspec": {
   "display_name": "Python 3",
   "language": "python",
   "name": "python3"
  },
  "language_info": {
   "codemirror_mode": {
    "name": "ipython",
    "version": 3
   },
   "file_extension": ".py",
   "mimetype": "text/x-python",
   "name": "python",
   "nbconvert_exporter": "python",
   "pygments_lexer": "ipython3",
   "version": "3.6.8"
  }
 },
 "nbformat": 4,
 "nbformat_minor": 1
}
