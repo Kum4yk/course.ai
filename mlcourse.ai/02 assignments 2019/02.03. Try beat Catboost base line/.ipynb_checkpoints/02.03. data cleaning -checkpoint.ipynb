{
 "cells": [
  {
   "cell_type": "markdown",
   "metadata": {},
   "source": [
    "<center>\n",
    "<img src=\"https://habrastorage.org/files/fd4/502/43d/fd450243dd604b81b9713213a247aa20.jpg\" />\n",
    "</center> \n",
    "     \n",
    "## <center>  [mlcourse.ai](https://mlcourse.ai) – Open Machine Learning Course \n",
    "\n",
    "#### <center> Author: [Yury Kashnitsky](https://yorko.github.io) (@yorko) \n",
    "\n",
    "# <center>Assignment #2. Fall 2019\n",
    "## <center> Part 2. Gradient boosting"
   ]
  },
  {
   "cell_type": "markdown",
   "metadata": {},
   "source": [
    "**In this assignment, you're asked to beat a baseline in the [\"Flight delays\" competition](https://www.kaggle.com/c/flight-delays-fall-2018).**\n",
    "\n",
    "This time we decided to share a pretty decent CatBoost baseline, you'll have to improve the provided solution.\n",
    "\n",
    "Prior to working on the assignment, you'd better check out the corresponding course material:\n",
    " 1. [Classification, Decision Trees and k Nearest Neighbors](https://nbviewer.jupyter.org/github/Yorko/mlcourse_open/blob/master/jupyter_english/topic03_decision_trees_kNN/topic3_decision_trees_kNN.ipynb?flush_cache=true), the same as an interactive web-based [Kaggle Kernel](https://www.kaggle.com/kashnitsky/topic-3-decision-trees-and-knn) \n",
    " 2. Ensembles:\n",
    "  - [Bagging](https://nbviewer.jupyter.org/github/Yorko/mlcourse_open/blob/master/jupyter_english/topic05_ensembles_random_forests/topic5_part1_bagging.ipynb?flush_cache=true), the same as a [Kaggle Kernel](https://www.kaggle.com/kashnitsky/topic-5-ensembles-part-1-bagging)\n",
    "  - [Random Forest](https://nbviewer.jupyter.org/github/Yorko/mlcourse_open/blob/master/jupyter_english/topic05_ensembles_random_forests/topic5_part2_random_forest.ipynb?flush_cache=true), the same as a [Kaggle Kernel](https://www.kaggle.com/kashnitsky/topic-5-ensembles-part-2-random-forest)\n",
    "  - [Feature Importance](https://nbviewer.jupyter.org/github/Yorko/mlcourse_open/blob/master/jupyter_english/topic05_ensembles_random_forests/topic5_part3_feature_importance.ipynb?flush_cache=true), the same as a [Kaggle Kernel](https://www.kaggle.com/kashnitsky/topic-5-ensembles-part-3-feature-importance)\n",
    " 3. - [Gradient boosting](https://nbviewer.jupyter.org/github/Yorko/mlcourse_open/blob/master/jupyter_english/topic10_boosting/topic10_gradient_boosting.ipynb?flush_cache=true), the same as a [Kaggle Kernel](https://www.kaggle.com/kashnitsky/topic-10-gradient-boosting) \n",
    "   - Logistic regression, Random Forest, and LightGBM in the \"Kaggle Forest Cover Type Prediction\" competition: [Kernel](https://www.kaggle.com/kashnitsky/topic-10-practice-with-logit-rf-and-lightgbm) \n",
    " 4. You can also practice with demo assignments, which are simpler and already shared with solutions:\n",
    "  - \"Decision trees with a toy task and the UCI Adult dataset\": [assignment](https://www.kaggle.com/kashnitsky/a3-demo-decision-trees) + [solution](https://www.kaggle.com/kashnitsky/a3-demo-decision-trees-solution)\n",
    "  - \"Logistic Regression and Random Forest in the credit scoring problem\": [assignment](https://www.kaggle.com/kashnitsky/assignment-5-logit-and-rf-for-credit-scoring) + [solution](https://www.kaggle.com/kashnitsky/a5-demo-logit-and-rf-for-credit-scoring-sol)\n",
    " 5. There are also 7 video lectures on trees, forests, boosting and their applications: [mlcourse.ai/video](https://mlcourse.ai/video) \n",
    " 6. mlcourse.ai tutorials on [categorical feature encoding](https://www.kaggle.com/waydeherman/tutorial-categorical-encoding) (by Wayde Herman) and [CatBoost](https://www.kaggle.com/mitribunskiy/tutorial-catboost-overview) (by Mikhail Tribunskiy)\n",
    " 7. Last but not the least: [Public Kernels](https://www.kaggle.com/c/flight-delays-fall-2018/notebooks) in this competition\n",
    "\n",
    "### Your task is to:\n",
    " 1. beat **\"A2 baseline (10 credits)\"** on Public LB (**0.75914** LB score)\n",
    " 2. rename your [team](https://www.kaggle.com/c/flight-delays-fall-2018/team) in full accordance with A1 and the [course rating](https://docs.google.com/spreadsheets/d/15e1K0tg5ponA5R6YQkZfihrShTDLAKf5qeKaoVCiuhQ/) (to appear on 16.09.2019)\n",
    " \n",
    "This task is intended to be relatively easy. Here you are not required to upload your reproducible solution.\n",
    " \n",
    "### <center> Deadline for A2: 2019 October 6, 20:59 CET (London time)"
   ]
  },
  {
   "cell_type": "code",
   "execution_count": 26,
   "metadata": {},
   "outputs": [],
   "source": [
    "from IPython.core.interactiveshell import InteractiveShell\n",
    "InteractiveShell.ast_node_interactivity = \"all\""
   ]
  },
  {
   "cell_type": "code",
   "execution_count": 1,
   "metadata": {},
   "outputs": [],
   "source": [
    "import warnings\n",
    "import numpy as np\n",
    "import pandas as pd\n",
    "import catboost\n",
    "\n",
    "from catboost import cv, Pool\n",
    "import matplotlib.pyplot as plt\n",
    "\n",
    "from pathlib import Path\n",
    "from sklearn.model_selection import train_test_split\n",
    "from sklearn.metrics import roc_auc_score\n",
    "from catboost import CatBoostClassifier\n",
    "from sklearn.model_selection import cross_val_score, StratifiedKFold"
   ]
  },
  {
   "cell_type": "code",
   "execution_count": 314,
   "metadata": {},
   "outputs": [],
   "source": [
    "days_from_start = {\n",
    "    1: 0, 2: 31, 3: 59, 4: 90, 5: 120, 6: 151, 7: 181,\n",
    "    8: 212, 9: 243, 10: 273, 11: 304, 12: 334\n",
    "}\n",
    "\n",
    "days_in_month = {\n",
    "    1: 31,  2: 28,  3: 31,  4: 30, 5: 31, 6: 30,\n",
    "    7: 31, 8: 31, 9: 30,  10: 31, 11: 30, 12: 31\n",
    "}\n",
    "\n",
    "drop = lambda data, names: data.drop(names, axis=1, inplace=True)\n",
    "\n",
    "drop_names = \"DepTime days_in_m days\".split()\n",
    "\n",
    "\n",
    "def change_data(data):\n",
    "    data[\"days_in_m\"] = data.Month.map(days_in_month)\n",
    "    \n",
    "    data.DayofMonth = data.DayofMonth + data.DepTime // 2401\n",
    "    data.DayOfWeek = data.DayOfWeek + data.DepTime // 2401\n",
    "    data.Month = data.Month + data.DayofMonth // (data.days_in_m + 1)\n",
    "    \n",
    "    data.DepTime = (data.DepTime % 2401)\n",
    "    data.DepTime = data.DepTime + (df.DepTime == 0)\n",
    "    \n",
    "    data.DepTime = data.DepTime  // 100 * 60 + data.DepTime % 100\n",
    "    \n",
    "    data.DayofMonth = data.DayofMonth % (data.days_in_m + 1)\n",
    "    data.DayofMonth = data.DayofMonth + (data.DayofMonth == 0)\n",
    "    \n",
    "    data.DayOfWeek = data.DayOfWeek % 8\n",
    "    data.DayOfWeek = data.DayOfWeek + (data.DayOfWeek == 0)\n",
    "    \n",
    "    data.Distance = data.Distance.apply(np.log2)**2\n",
    "        \n",
    "    data[\"days\"] = data.Month.map(days_from_start) + data.DayofMonth\n",
    "    \n",
    "    data['sin_time'] = np.sin(2 * np.pi * data.DepTime / (24*60))*1000\n",
    "    data['cos_time'] = np.cos(2 * np.pi * data.DepTime / (24*60))*1000\n",
    "'''\n",
    "    data[\"sin_days\"] = np.sin(2 * np.pi * data.days / (365))\n",
    "    data[\"cos_days\"] = np.cos(2 * np.pi * data.days / (365))\n",
    "''';\n",
    "\n",
    "    "
   ]
  },
  {
   "cell_type": "code",
   "execution_count": 99,
   "metadata": {},
   "outputs": [],
   "source": [
    "names =  \"Month DayofMonth DayOfWeek\".split()"
   ]
  },
  {
   "cell_type": "markdown",
   "metadata": {},
   "source": [
    "**Read the data**"
   ]
  },
  {
   "cell_type": "code",
   "execution_count": 315,
   "metadata": {},
   "outputs": [],
   "source": [
    "df = pd.read_csv('../../data/flight_delays_train.csv')\n",
    "test_df = pd.read_csv('../../data/flight_delays_test.csv')\n",
    "\n",
    "df.dep_delayed_15min = df['dep_delayed_15min'].map({'Y': 1, 'N': 0})\n",
    "\n",
    "for name in names:\n",
    "    test_df[name] = test_df[name].str[2:].astype(int)\n",
    "    df[name] = df[name].str[2:].astype(int)\n",
    "        \n"
   ]
  },
  {
   "cell_type": "code",
   "execution_count": 316,
   "metadata": {},
   "outputs": [],
   "source": [
    "change_data(df)\n",
    "change_data(test_df)\n",
    "\n",
    "for d in (df, test_df):\n",
    "    drop(d, drop_names)\n",
    "    \n",
    "for name in names:\n",
    "    test_df[name] = test_df[name].astype(str)\n",
    "    df[name] = df[name].astype(str)   "
   ]
  },
  {
   "cell_type": "code",
   "execution_count": 327,
   "metadata": {},
   "outputs": [
    {
     "data": {
      "text/html": [
       "<div>\n",
       "<style scoped>\n",
       "    .dataframe tbody tr th:only-of-type {\n",
       "        vertical-align: middle;\n",
       "    }\n",
       "\n",
       "    .dataframe tbody tr th {\n",
       "        vertical-align: top;\n",
       "    }\n",
       "\n",
       "    .dataframe thead th {\n",
       "        text-align: right;\n",
       "    }\n",
       "</style>\n",
       "<table border=\"1\" class=\"dataframe\">\n",
       "  <thead>\n",
       "    <tr style=\"text-align: right;\">\n",
       "      <th></th>\n",
       "      <th>Month</th>\n",
       "      <th>DayofMonth</th>\n",
       "      <th>DayOfWeek</th>\n",
       "      <th>UniqueCarrier</th>\n",
       "      <th>Origin</th>\n",
       "      <th>Dest</th>\n",
       "      <th>Distance</th>\n",
       "      <th>sin_time</th>\n",
       "      <th>cos_time</th>\n",
       "      <th>flight</th>\n",
       "    </tr>\n",
       "  </thead>\n",
       "  <tbody>\n",
       "    <tr>\n",
       "      <td>0</td>\n",
       "      <td>7</td>\n",
       "      <td>25</td>\n",
       "      <td>3</td>\n",
       "      <td>YV</td>\n",
       "      <td>MRY</td>\n",
       "      <td>PHX</td>\n",
       "      <td>85.082207</td>\n",
       "      <td>997.858923</td>\n",
       "      <td>-65.403129</td>\n",
       "      <td>MRY --&gt; PHX</td>\n",
       "    </tr>\n",
       "    <tr>\n",
       "      <td>1</td>\n",
       "      <td>4</td>\n",
       "      <td>17</td>\n",
       "      <td>2</td>\n",
       "      <td>WN</td>\n",
       "      <td>LAS</td>\n",
       "      <td>HOU</td>\n",
       "      <td>105.478966</td>\n",
       "      <td>908.143174</td>\n",
       "      <td>-418.659738</td>\n",
       "      <td>LAS --&gt; HOU</td>\n",
       "    </tr>\n",
       "    <tr>\n",
       "      <td>2</td>\n",
       "      <td>12</td>\n",
       "      <td>2</td>\n",
       "      <td>7</td>\n",
       "      <td>MQ</td>\n",
       "      <td>GSP</td>\n",
       "      <td>ORD</td>\n",
       "      <td>84.133426</td>\n",
       "      <td>975.342321</td>\n",
       "      <td>-220.697435</td>\n",
       "      <td>GSP --&gt; ORD</td>\n",
       "    </tr>\n",
       "    <tr>\n",
       "      <td>3</td>\n",
       "      <td>3</td>\n",
       "      <td>25</td>\n",
       "      <td>7</td>\n",
       "      <td>WN</td>\n",
       "      <td>BWI</td>\n",
       "      <td>MHT</td>\n",
       "      <td>73.246565</td>\n",
       "      <td>-894.934362</td>\n",
       "      <td>-446.197813</td>\n",
       "      <td>BWI --&gt; MHT</td>\n",
       "    </tr>\n",
       "    <tr>\n",
       "      <td>4</td>\n",
       "      <td>6</td>\n",
       "      <td>6</td>\n",
       "      <td>3</td>\n",
       "      <td>UA</td>\n",
       "      <td>ORD</td>\n",
       "      <td>STL</td>\n",
       "      <td>64.179762</td>\n",
       "      <td>-722.363962</td>\n",
       "      <td>-691.513056</td>\n",
       "      <td>ORD --&gt; STL</td>\n",
       "    </tr>\n",
       "  </tbody>\n",
       "</table>\n",
       "</div>"
      ],
      "text/plain": [
       "  Month DayofMonth DayOfWeek UniqueCarrier Origin Dest    Distance  \\\n",
       "0     7         25         3            YV    MRY  PHX   85.082207   \n",
       "1     4         17         2            WN    LAS  HOU  105.478966   \n",
       "2    12          2         7            MQ    GSP  ORD   84.133426   \n",
       "3     3         25         7            WN    BWI  MHT   73.246565   \n",
       "4     6          6         3            UA    ORD  STL   64.179762   \n",
       "\n",
       "     sin_time    cos_time       flight  \n",
       "0  997.858923  -65.403129  MRY --> PHX  \n",
       "1  908.143174 -418.659738  LAS --> HOU  \n",
       "2  975.342321 -220.697435  GSP --> ORD  \n",
       "3 -894.934362 -446.197813  BWI --> MHT  \n",
       "4 -722.363962 -691.513056  ORD --> STL  "
      ]
     },
     "execution_count": 327,
     "metadata": {},
     "output_type": "execute_result"
    }
   ],
   "source": [
    "test_df.head()"
   ]
  },
  {
   "cell_type": "code",
   "execution_count": 326,
   "metadata": {
    "scrolled": false
   },
   "outputs": [
    {
     "data": {
      "text/html": [
       "<div>\n",
       "<style scoped>\n",
       "    .dataframe tbody tr th:only-of-type {\n",
       "        vertical-align: middle;\n",
       "    }\n",
       "\n",
       "    .dataframe tbody tr th {\n",
       "        vertical-align: top;\n",
       "    }\n",
       "\n",
       "    .dataframe thead th {\n",
       "        text-align: right;\n",
       "    }\n",
       "</style>\n",
       "<table border=\"1\" class=\"dataframe\">\n",
       "  <thead>\n",
       "    <tr style=\"text-align: right;\">\n",
       "      <th></th>\n",
       "      <th>Month</th>\n",
       "      <th>DayofMonth</th>\n",
       "      <th>DayOfWeek</th>\n",
       "      <th>UniqueCarrier</th>\n",
       "      <th>Origin</th>\n",
       "      <th>Dest</th>\n",
       "      <th>Distance</th>\n",
       "      <th>dep_delayed_15min</th>\n",
       "      <th>sin_time</th>\n",
       "      <th>cos_time</th>\n",
       "      <th>flight</th>\n",
       "    </tr>\n",
       "  </thead>\n",
       "  <tbody>\n",
       "    <tr>\n",
       "      <td>0</td>\n",
       "      <td>8</td>\n",
       "      <td>21</td>\n",
       "      <td>7</td>\n",
       "      <td>AA</td>\n",
       "      <td>ATL</td>\n",
       "      <td>DFW</td>\n",
       "      <td>90.548543</td>\n",
       "      <td>0</td>\n",
       "      <td>-917.060074</td>\n",
       "      <td>398.749069</td>\n",
       "      <td>ATL --&gt; DFW</td>\n",
       "    </tr>\n",
       "    <tr>\n",
       "      <td>1</td>\n",
       "      <td>4</td>\n",
       "      <td>20</td>\n",
       "      <td>3</td>\n",
       "      <td>US</td>\n",
       "      <td>PIT</td>\n",
       "      <td>MCO</td>\n",
       "      <td>94.165745</td>\n",
       "      <td>0</td>\n",
       "      <td>-838.670568</td>\n",
       "      <td>-544.639035</td>\n",
       "      <td>PIT --&gt; MCO</td>\n",
       "    </tr>\n",
       "    <tr>\n",
       "      <td>2</td>\n",
       "      <td>9</td>\n",
       "      <td>2</td>\n",
       "      <td>5</td>\n",
       "      <td>XE</td>\n",
       "      <td>RDU</td>\n",
       "      <td>CLE</td>\n",
       "      <td>75.697651</td>\n",
       "      <td>0</td>\n",
       "      <td>-580.702956</td>\n",
       "      <td>-814.115518</td>\n",
       "      <td>RDU --&gt; CLE</td>\n",
       "    </tr>\n",
       "    <tr>\n",
       "      <td>3</td>\n",
       "      <td>11</td>\n",
       "      <td>25</td>\n",
       "      <td>6</td>\n",
       "      <td>OO</td>\n",
       "      <td>DEN</td>\n",
       "      <td>MEM</td>\n",
       "      <td>95.417425</td>\n",
       "      <td>0</td>\n",
       "      <td>442.288690</td>\n",
       "      <td>-896.872742</td>\n",
       "      <td>DEN --&gt; MEM</td>\n",
       "    </tr>\n",
       "    <tr>\n",
       "      <td>4</td>\n",
       "      <td>10</td>\n",
       "      <td>7</td>\n",
       "      <td>6</td>\n",
       "      <td>WN</td>\n",
       "      <td>MDW</td>\n",
       "      <td>OMA</td>\n",
       "      <td>76.117142</td>\n",
       "      <td>1</td>\n",
       "      <td>-992.546152</td>\n",
       "      <td>121.869343</td>\n",
       "      <td>MDW --&gt; OMA</td>\n",
       "    </tr>\n",
       "  </tbody>\n",
       "</table>\n",
       "</div>"
      ],
      "text/plain": [
       "  Month DayofMonth DayOfWeek UniqueCarrier Origin Dest   Distance  \\\n",
       "0     8         21         7            AA    ATL  DFW  90.548543   \n",
       "1     4         20         3            US    PIT  MCO  94.165745   \n",
       "2     9          2         5            XE    RDU  CLE  75.697651   \n",
       "3    11         25         6            OO    DEN  MEM  95.417425   \n",
       "4    10          7         6            WN    MDW  OMA  76.117142   \n",
       "\n",
       "   dep_delayed_15min    sin_time    cos_time       flight  \n",
       "0                  0 -917.060074  398.749069  ATL --> DFW  \n",
       "1                  0 -838.670568 -544.639035  PIT --> MCO  \n",
       "2                  0 -580.702956 -814.115518  RDU --> CLE  \n",
       "3                  0  442.288690 -896.872742  DEN --> MEM  \n",
       "4                  1 -992.546152  121.869343  MDW --> OMA  "
      ]
     },
     "execution_count": 326,
     "metadata": {},
     "output_type": "execute_result"
    }
   ],
   "source": [
    "df.head()"
   ]
  },
  {
   "cell_type": "code",
   "execution_count": 325,
   "metadata": {},
   "outputs": [],
   "source": [
    "df['flight'] = df['Origin'] + ' --> ' + df['Dest']\n",
    "test_df['flight'] = test_df['Origin'] + ' --> ' + test_df['Dest']"
   ]
  },
  {
   "cell_type": "markdown",
   "metadata": {},
   "source": [
    "---\n",
    "---\n",
    "---"
   ]
  },
  {
   "cell_type": "code",
   "execution_count": 332,
   "metadata": {},
   "outputs": [
    {
     "name": "stdout",
     "output_type": "stream",
     "text": [
      "[0 1 2 3 4 5 9]\n"
     ]
    }
   ],
   "source": [
    "categ_feat_idx = np.where(df.drop('dep_delayed_15min', axis=1).dtypes == 'object')[0]\n",
    "print(categ_feat_idx)\n",
    "\n",
    "X_train = df.drop('dep_delayed_15min', axis=1).values\n",
    "y_train = df['dep_delayed_15min'].values\n",
    "X_test = test_df.values\n",
    "\n",
    "X_train_part, X_valid, \\\n",
    "y_train_part, y_valid = train_test_split(X_train, y_train,\n",
    "                                         test_size=0.3,\n",
    "                                         random_state=17,\n",
    "                                         shuffle=True\n",
    "                                         )\n",
    "                                        "
   ]
  },
  {
   "cell_type": "markdown",
   "metadata": {},
   "source": [
    "#### Train"
   ]
  },
  {
   "cell_type": "code",
   "execution_count": 333,
   "metadata": {},
   "outputs": [],
   "source": [
    "ctb = CatBoostClassifier(random_seed=17, silent=True)"
   ]
  },
  {
   "cell_type": "code",
   "execution_count": 334,
   "metadata": {
    "scrolled": true
   },
   "outputs": [
    {
     "name": "stdout",
     "output_type": "stream",
     "text": [
      "Wall time: 1min 15s\n"
     ]
    },
    {
     "data": {
      "text/plain": [
       "<catboost.core.CatBoostClassifier at 0x18a39dc5780>"
      ]
     },
     "execution_count": 334,
     "metadata": {},
     "output_type": "execute_result"
    }
   ],
   "source": [
    "%%time\n",
    "ctb.fit(X_train_part,\n",
    "        y_train_part,\n",
    "        cat_features=categ_feat_idx);"
   ]
  },
  {
   "cell_type": "code",
   "execution_count": 335,
   "metadata": {},
   "outputs": [
    {
     "name": "stdout",
     "output_type": "stream",
     "text": [
      "0.8793436743472498\n",
      "0.7635517184286487\n"
     ]
    }
   ],
   "source": [
    "ctb_valid_pred = ctb.predict_proba(X_train_part)[:, 1]\n",
    "print(roc_auc_score(y_train_part, ctb_valid_pred))\n",
    "\n",
    "ctb_valid_pred = ctb.predict_proba(X_valid)[:, 1]\n",
    "print(roc_auc_score(y_valid, ctb_valid_pred))"
   ]
  },
  {
   "cell_type": "code",
   "execution_count": null,
   "metadata": {},
   "outputs": [],
   "source": [
    "0.7570888330382527 - *1000 только время\n",
    "0.7635517184286487 - + fr0m to by cater"
   ]
  },
  {
   "cell_type": "markdown",
   "metadata": {},
   "source": [
    "0.8931385596427044\n",
    "\n",
    "\n",
    "0.7631236250548801"
   ]
  },
  {
   "cell_type": "markdown",
   "metadata": {},
   "source": [
    "K Fold"
   ]
  },
  {
   "cell_type": "code",
   "execution_count": 186,
   "metadata": {},
   "outputs": [
    {
     "name": "stdout",
     "output_type": "stream",
     "text": [
      "1\n",
      "2\n",
      "3\n"
     ]
    }
   ],
   "source": [
    "test_score = []\n",
    "train_score = []\n",
    "skf = StratifiedKFold(n_splits=3, shuffle=True, random_state=17)\n",
    "\n",
    "i = 0\n",
    "for test_index, train_index in skf.split(X_train, y_train):\n",
    "    \n",
    "    X_train_1, X_test_1 = X_train[train_index, :], X_train[test_index, :]\n",
    "    y_train_1, y_test_1 = y_train[train_index], y_train[test_index]\n",
    "    \n",
    "    \n",
    "    _ctb = CatBoostClassifier(random_seed=17,\n",
    "                              silent=True\n",
    "                             ).fit(X_train_1, y_train_1, cat_features=categ_feat_idx)\n",
    "    \n",
    "    test_score.append(roc_auc_score(y_test_1,\n",
    "                                    _ctb.predict_proba(X_test_1)[:, 1]\n",
    "                                   )\n",
    "                     )\n",
    "    train_score.append(roc_auc_score(y_train_1, _ctb.predict_proba(X_train_1)[:, 1]))\n",
    "    \n",
    "    i += 1\n",
    "    print(i)\n",
    "    "
   ]
  },
  {
   "cell_type": "code",
   "execution_count": 305,
   "metadata": {},
   "outputs": [
    {
     "ename": "NameError",
     "evalue": "name 'train_score' is not defined",
     "output_type": "error",
     "traceback": [
      "\u001b[1;31m---------------------------------------------------------------------------\u001b[0m",
      "\u001b[1;31mNameError\u001b[0m                                 Traceback (most recent call last)",
      "\u001b[1;32m<ipython-input-305-98c98e4267db>\u001b[0m in \u001b[0;36m<module>\u001b[1;34m\u001b[0m\n\u001b[1;32m----> 1\u001b[1;33m \u001b[0mprint\u001b[0m\u001b[1;33m(\u001b[0m\u001b[0mnp\u001b[0m\u001b[1;33m.\u001b[0m\u001b[0mmean\u001b[0m\u001b[1;33m(\u001b[0m\u001b[0mtrain_score\u001b[0m\u001b[1;33m)\u001b[0m\u001b[1;33m)\u001b[0m\u001b[1;33m\u001b[0m\u001b[1;33m\u001b[0m\u001b[0m\n\u001b[0m\u001b[0;32m      2\u001b[0m \u001b[0mprint\u001b[0m\u001b[1;33m(\u001b[0m\u001b[0mtrain_score\u001b[0m\u001b[1;33m)\u001b[0m\u001b[1;33m\u001b[0m\u001b[1;33m\u001b[0m\u001b[0m\n\u001b[0;32m      3\u001b[0m \u001b[1;33m\u001b[0m\u001b[0m\n\u001b[0;32m      4\u001b[0m \u001b[0mprint\u001b[0m\u001b[1;33m(\u001b[0m\u001b[1;33m)\u001b[0m\u001b[1;33m\u001b[0m\u001b[1;33m\u001b[0m\u001b[0m\n\u001b[0;32m      5\u001b[0m \u001b[1;33m\u001b[0m\u001b[0m\n",
      "\u001b[1;31mNameError\u001b[0m: name 'train_score' is not defined"
     ]
    }
   ],
   "source": [
    "print(np.mean(train_score))\n",
    "print(train_score)\n",
    "\n",
    "print()\n",
    "\n",
    "print(np.mean(test_score))\n",
    "print(test_score)"
   ]
  },
  {
   "cell_type": "markdown",
   "metadata": {},
   "source": [
    "params = \\\n",
    "{\n",
    "# \"iterations\": 100,\n",
    "\"eval_metric\": \"AUC\",\n",
    "\"verbose\": False\n",
    "#\"devices\": -1\n",
    "}\n",
    "\n",
    "pool = Pool(data=X_train,\n",
    "            label=y_train,\n",
    "            cat_features=categ_feat_idx)\n",
    "\n",
    "scores = cv(pool,\n",
    "            params=params,\n",
    "            fold_count=5,\n",
    "            plot=\"True\",\n",
    "            early_stopping_rounds=50)"
   ]
  },
  {
   "cell_type": "markdown",
   "metadata": {},
   "source": [
    "----\n",
    "----\n",
    "----"
   ]
  },
  {
   "cell_type": "markdown",
   "metadata": {},
   "source": [
    "Result"
   ]
  },
  {
   "cell_type": "code",
   "execution_count": 276,
   "metadata": {
    "scrolled": true
   },
   "outputs": [
    {
     "name": "stdout",
     "output_type": "stream",
     "text": [
      "Wall time: 2min 26s\n"
     ]
    },
    {
     "data": {
      "text/plain": [
       "<catboost.core.CatBoostClassifier at 0x18a25730cc0>"
      ]
     },
     "execution_count": 276,
     "metadata": {},
     "output_type": "execute_result"
    }
   ],
   "source": [
    "%%time\n",
    "ctb.fit(X_train, y_train,\n",
    "        cat_features=categ_feat_idx);"
   ]
  },
  {
   "cell_type": "code",
   "execution_count": 277,
   "metadata": {},
   "outputs": [],
   "source": [
    "ctb_test_pred = ctb.predict_proba(X_test)[:, 1]"
   ]
  },
  {
   "cell_type": "code",
   "execution_count": 278,
   "metadata": {},
   "outputs": [],
   "source": [
    "with warnings.catch_warnings():\n",
    "    warnings.simplefilter(\"ignore\")\n",
    "    \n",
    "    sample_sub = pd.read_csv('../../data/sample_submission.csv', \n",
    "                             index_col='id')\n",
    "    sample_sub['dep_delayed_15min'] = ctb_test_pred\n",
    "    sample_sub.to_csv('ctb_pred_5.csv')"
   ]
  },
  {
   "cell_type": "code",
   "execution_count": 123,
   "metadata": {},
   "outputs": [
    {
     "name": "stdout",
     "output_type": "stream",
     "text": [
      "id,dep_delayed_15min\n",
      "0,0.029813427154851885\n",
      "1,0.045432589326845726\n",
      "2,0.07735792880819185\n",
      "3,0.26298352270959774\n",
      "4,0.23812453664806577\n",
      "5,0.1015030549268571\n",
      "6,0.040331757718181545\n",
      "7,0.2408800371330324\n",
      "8,0.11304498960469873\n"
     ]
    }
   ],
   "source": [
    "!head ctb_pred.csv"
   ]
  },
  {
   "cell_type": "code",
   "execution_count": 127,
   "metadata": {
    "scrolled": true
   },
   "outputs": [
    {
     "name": "stdout",
     "output_type": "stream",
     "text": [
      "id,dep_delayed_15min\n",
      "0,0.025572166172376693\n",
      "1,0.045981976846112715\n",
      "2,0.07101399403966373\n",
      "3,0.2905628227350732\n",
      "4,0.2716783001872599\n",
      "5,0.08292537325175686\n",
      "6,0.04404007262086365\n",
      "7,0.19666702216697723\n",
      "8,0.07454022433182766\n"
     ]
    }
   ],
   "source": [
    "!head ctb_pred_3.csv"
   ]
  },
  {
   "cell_type": "code",
   "execution_count": 100,
   "metadata": {},
   "outputs": [
    {
     "name": "stdout",
     "output_type": "stream",
     "text": [
      "id,dep_delayed_15min\n",
      "0,0.041335027204167984\n",
      "1,0.06414436097806048\n",
      "2,0.05168336229185614\n",
      "3,0.31269384580379495\n",
      "4,0.3241744296848872\n",
      "5,0.09560777045922966\n",
      "6,0.04826738267201204\n",
      "7,0.21209648956603291\n",
      "8,0.0913154450303372\n"
     ]
    }
   ],
   "source": [
    "!head ctb_pred_4.csv"
   ]
  },
  {
   "cell_type": "code",
   "execution_count": 279,
   "metadata": {},
   "outputs": [
    {
     "name": "stdout",
     "output_type": "stream",
     "text": [
      "id,dep_delayed_15min\n",
      "0,0.2948594407018424\n",
      "1,0.16170996480103667\n",
      "2,0.15647477556262687\n",
      "3,0.014874883978479279\n",
      "4,0.17835684535848217\n",
      "5,0.07808456733346425\n",
      "6,0.015723939590928257\n",
      "7,0.08581036109066799\n",
      "8,0.031025073026753017\n"
     ]
    }
   ],
   "source": [
    "!head ctb_pred_5.csv"
   ]
  }
 ],
 "metadata": {
  "kernelspec": {
   "display_name": "Python 3",
   "language": "python",
   "name": "python3"
  },
  "language_info": {
   "codemirror_mode": {
    "name": "ipython",
    "version": 3
   },
   "file_extension": ".py",
   "mimetype": "text/x-python",
   "name": "python",
   "nbconvert_exporter": "python",
   "pygments_lexer": "ipython3",
   "version": "3.6.8"
  }
 },
 "nbformat": 4,
 "nbformat_minor": 1
}
