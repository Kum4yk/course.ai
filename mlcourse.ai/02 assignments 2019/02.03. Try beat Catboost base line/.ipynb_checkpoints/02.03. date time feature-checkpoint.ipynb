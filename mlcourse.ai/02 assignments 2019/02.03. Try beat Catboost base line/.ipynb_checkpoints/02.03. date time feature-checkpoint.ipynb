{
 "cells": [
  {
   "cell_type": "code",
   "execution_count": 20,
   "metadata": {},
   "outputs": [],
   "source": [
    "import warnings\n",
    "import numpy as np\n",
    "import pandas as pd\n",
    "import catboost\n",
    "\n",
    "from catboost import cv, Pool\n",
    "import matplotlib.pyplot as plt\n",
    "\n",
    "from pathlib import Path\n",
    "from sklearn.model_selection import train_test_split\n",
    "from sklearn.metrics import roc_auc_score, accuracy_score\n",
    "from catboost import CatBoostClassifier\n",
    "from sklearn.model_selection import cross_val_score, StratifiedKFold"
   ]
  },
  {
   "cell_type": "code",
   "execution_count": 424,
   "metadata": {},
   "outputs": [],
   "source": [
    "days_from_start = {\n",
    "    1: 0, 2: 31, 3: 59, 4: 90, 5: 120, 6: 151, 7: 181,\n",
    "    8: 212, 9: 243, 10: 273, 11: 304, 12: 334\n",
    "}\n",
    "\n",
    "days_in_month = {1: 32, 2: 30, 3: 32, 4: 31, 5: 32, 6: 31,\n",
    "                 7: 32, 8: 32, 9: 31, 10: 32, 11: 31, 12: 32\n",
    "                 }\n",
    "\n",
    "to_weekend = {1: 0, 2:0, 3: 0, 4: 0, 5: 0, 6:1, 7:1}\n",
    "\n",
    "def create_period_faetures(value, period):\n",
    "    value = value * 2 * np.pi\n",
    "    return np.sin(value/period), np.cos(value/period)\n",
    "\n",
    "def change_data(data):\n",
    "    \n",
    "    for name in \"Month DayofMonth DayOfWeek\".split():\n",
    "        data[name] = data[name].str[2:].astype('int')\n",
    "        \n",
    "    \n",
    "    data.DepTime = (data.DepTime % 2400)\n",
    "    \n",
    "    data[\"Year\"] = 2018\n",
    "    data[\"day\"] = data.DayofMonth\n",
    "    data[\"hour\"] = data.DepTime // 100\n",
    "    data[\"minutes\"] = data.DepTime % 100\n",
    "    # data[\"date_time\"] = pd.to_datetime(data[['Year', \"Month\", \"day\", \"hour\", \"minutes\"]])\n",
    "    \n",
    "    data[\"dep_in_minutes\"] = data.hour * 60 + data.minutes\n",
    "    data[\"day_year\"] = (data.Month.map(days_from_start) + data.DayofMonth) * 24\n",
    "    \n",
    "    data.drop([\"Year\", \"day\"], axis=1, inplace=True)\n",
    "    \n",
    "    data[\"weekend\"] = data.DayOfWeek.map(to_weekend)\n",
    "    \n",
    "    data['sin_dep'], data['cos_dep'] = create_period_faetures(data.dep_in_minutes, 24 * 60)\n",
    "    data['sin_year'], data['cos_year'] = create_period_faetures(data.day_year, 365 * 24)\n",
    "    \n",
    "    \n",
    "    data.Distance = data.Distance.apply(np.log10) * 1000\n",
    "    for name in \"Month DayofMonth DayOfWeek\".split():\n",
    "        data[name] = data[name].astype(str)"
   ]
  },
  {
   "cell_type": "markdown",
   "metadata": {},
   "source": [
    "**Read the data**"
   ]
  },
  {
   "cell_type": "code",
   "execution_count": 425,
   "metadata": {},
   "outputs": [],
   "source": [
    "train_df = pd.read_csv('../../data/flight_delays_train.csv')\n",
    "test_df = pd.read_csv('../../data/flight_delays_test.csv')\n",
    "\n",
    "train_df.dep_delayed_15min = train_df['dep_delayed_15min'].map({'Y': 1, 'N': 0})"
   ]
  },
  {
   "cell_type": "code",
   "execution_count": 354,
   "metadata": {},
   "outputs": [],
   "source": [
    "train_df['flight'] = train_df['Origin'] + ' --> ' + train_df['Dest']\n",
    "test_df['flight'] = test_df['Origin'] + ' --> ' + test_df['Dest']"
   ]
  },
  {
   "cell_type": "code",
   "execution_count": 426,
   "metadata": {},
   "outputs": [],
   "source": [
    "change_data(train_df)\n",
    "change_data(test_df)"
   ]
  },
  {
   "cell_type": "code",
   "execution_count": 428,
   "metadata": {},
   "outputs": [],
   "source": [
    "names = \"DepTime hour\tminutes\tdep_in_minutes day_year\".split()\n",
    "drop = lambda x, y: x.drop(y, axis=1, inplace=True)\n",
    "for data in (train_df, test_df):\n",
    "    drop(data, names)\n",
    "    "
   ]
  },
  {
   "cell_type": "code",
   "execution_count": 432,
   "metadata": {
    "scrolled": true
   },
   "outputs": [
    {
     "data": {
      "text/html": [
       "<div>\n",
       "<style scoped>\n",
       "    .dataframe tbody tr th:only-of-type {\n",
       "        vertical-align: middle;\n",
       "    }\n",
       "\n",
       "    .dataframe tbody tr th {\n",
       "        vertical-align: top;\n",
       "    }\n",
       "\n",
       "    .dataframe thead th {\n",
       "        text-align: right;\n",
       "    }\n",
       "</style>\n",
       "<table border=\"1\" class=\"dataframe\">\n",
       "  <thead>\n",
       "    <tr style=\"text-align: right;\">\n",
       "      <th></th>\n",
       "      <th>Month</th>\n",
       "      <th>DayofMonth</th>\n",
       "      <th>DayOfWeek</th>\n",
       "      <th>UniqueCarrier</th>\n",
       "      <th>Origin</th>\n",
       "      <th>Dest</th>\n",
       "      <th>Distance</th>\n",
       "      <th>dep_delayed_15min</th>\n",
       "      <th>weekend</th>\n",
       "      <th>sin_dep</th>\n",
       "      <th>cos_dep</th>\n",
       "      <th>sin_year</th>\n",
       "      <th>cos_year</th>\n",
       "    </tr>\n",
       "  </thead>\n",
       "  <tbody>\n",
       "    <tr>\n",
       "      <th>0</th>\n",
       "      <td>8</td>\n",
       "      <td>21</td>\n",
       "      <td>7</td>\n",
       "      <td>AA</td>\n",
       "      <td>ATL</td>\n",
       "      <td>DFW</td>\n",
       "      <td>2864.511081</td>\n",
       "      <td>0</td>\n",
       "      <td>1</td>\n",
       "      <td>-0.917060</td>\n",
       "      <td>0.398749</td>\n",
       "      <td>-0.763889</td>\n",
       "      <td>-0.645348</td>\n",
       "    </tr>\n",
       "    <tr>\n",
       "      <th>1</th>\n",
       "      <td>4</td>\n",
       "      <td>20</td>\n",
       "      <td>3</td>\n",
       "      <td>US</td>\n",
       "      <td>PIT</td>\n",
       "      <td>MCO</td>\n",
       "      <td>2921.166051</td>\n",
       "      <td>0</td>\n",
       "      <td>0</td>\n",
       "      <td>-0.838671</td>\n",
       "      <td>-0.544639</td>\n",
       "      <td>0.948362</td>\n",
       "      <td>-0.317191</td>\n",
       "    </tr>\n",
       "    <tr>\n",
       "      <th>2</th>\n",
       "      <td>9</td>\n",
       "      <td>2</td>\n",
       "      <td>5</td>\n",
       "      <td>XE</td>\n",
       "      <td>RDU</td>\n",
       "      <td>CLE</td>\n",
       "      <td>2619.093331</td>\n",
       "      <td>0</td>\n",
       "      <td>0</td>\n",
       "      <td>-0.580703</td>\n",
       "      <td>-0.814116</td>\n",
       "      <td>-0.880012</td>\n",
       "      <td>-0.474951</td>\n",
       "    </tr>\n",
       "    <tr>\n",
       "      <th>3</th>\n",
       "      <td>11</td>\n",
       "      <td>25</td>\n",
       "      <td>6</td>\n",
       "      <td>OO</td>\n",
       "      <td>DEN</td>\n",
       "      <td>MEM</td>\n",
       "      <td>2940.516485</td>\n",
       "      <td>0</td>\n",
       "      <td>1</td>\n",
       "      <td>0.442289</td>\n",
       "      <td>-0.896873</td>\n",
       "      <td>-0.580800</td>\n",
       "      <td>0.814046</td>\n",
       "    </tr>\n",
       "    <tr>\n",
       "      <th>4</th>\n",
       "      <td>10</td>\n",
       "      <td>7</td>\n",
       "      <td>6</td>\n",
       "      <td>WN</td>\n",
       "      <td>MDW</td>\n",
       "      <td>OMA</td>\n",
       "      <td>2626.340367</td>\n",
       "      <td>1</td>\n",
       "      <td>1</td>\n",
       "      <td>-0.992546</td>\n",
       "      <td>0.121869</td>\n",
       "      <td>-0.994218</td>\n",
       "      <td>0.107381</td>\n",
       "    </tr>\n",
       "  </tbody>\n",
       "</table>\n",
       "</div>"
      ],
      "text/plain": [
       "  Month DayofMonth DayOfWeek UniqueCarrier Origin Dest     Distance  \\\n",
       "0     8         21         7            AA    ATL  DFW  2864.511081   \n",
       "1     4         20         3            US    PIT  MCO  2921.166051   \n",
       "2     9          2         5            XE    RDU  CLE  2619.093331   \n",
       "3    11         25         6            OO    DEN  MEM  2940.516485   \n",
       "4    10          7         6            WN    MDW  OMA  2626.340367   \n",
       "\n",
       "   dep_delayed_15min  weekend   sin_dep   cos_dep  sin_year  cos_year  \n",
       "0                  0        1 -0.917060  0.398749 -0.763889 -0.645348  \n",
       "1                  0        0 -0.838671 -0.544639  0.948362 -0.317191  \n",
       "2                  0        0 -0.580703 -0.814116 -0.880012 -0.474951  \n",
       "3                  0        1  0.442289 -0.896873 -0.580800  0.814046  \n",
       "4                  1        1 -0.992546  0.121869 -0.994218  0.107381  "
      ]
     },
     "execution_count": 432,
     "metadata": {},
     "output_type": "execute_result"
    }
   ],
   "source": [
    "train_df.head()"
   ]
  },
  {
   "cell_type": "code",
   "execution_count": 431,
   "metadata": {},
   "outputs": [
    {
     "data": {
      "text/plain": [
       "<matplotlib.axes._subplots.AxesSubplot at 0x5e10f438>"
      ]
     },
     "execution_count": 431,
     "metadata": {},
     "output_type": "execute_result"
    },
    {
     "data": {
      "image/png": "[encoded data removed]",
      "text/plain": [
       "<Figure size 432x288 with 1 Axes>"
      ]
     },
     "metadata": {
      "needs_background": "light"
     },
     "output_type": "display_data"
    }
   ],
   "source": [
    "train_df.Distance.plot.hist()"
   ]
  },
  {
   "cell_type": "code",
   "execution_count": 433,
   "metadata": {},
   "outputs": [
    {
     "data": {
      "text/plain": [
       "(7,)"
      ]
     },
     "execution_count": 433,
     "metadata": {},
     "output_type": "execute_result"
    }
   ],
   "source": [
    "num_feat = np.where(train_df.dtypes != 'object')[0]\n",
    "num_feat.shape"
   ]
  },
  {
   "cell_type": "code",
   "execution_count": 391,
   "metadata": {
    "scrolled": true
   },
   "outputs": [],
   "source": [
    "from sklearn.feature_selection import VarianceThreshold, SelectKBest, f_classif"
   ]
  },
  {
   "cell_type": "code",
   "execution_count": 387,
   "metadata": {},
   "outputs": [],
   "source": [
    "x_data_kbest = SelectKBest(f_classif, k=12).fit_transform((train_df.iloc[:, num_feat]).drop([\"dep_delayed_15min\"], axis=1),\n",
    "                                                          train_df.dep_delayed_15min)"
   ]
  },
  {
   "cell_type": "code",
   "execution_count": 397,
   "metadata": {
    "scrolled": false
   },
   "outputs": [
    {
     "data": {
      "text/html": [
       "<div>\n",
       "<style scoped>\n",
       "    .dataframe tbody tr th:only-of-type {\n",
       "        vertical-align: middle;\n",
       "    }\n",
       "\n",
       "    .dataframe tbody tr th {\n",
       "        vertical-align: top;\n",
       "    }\n",
       "\n",
       "    .dataframe thead th {\n",
       "        text-align: right;\n",
       "    }\n",
       "</style>\n",
       "<table border=\"1\" class=\"dataframe\">\n",
       "  <thead>\n",
       "    <tr style=\"text-align: right;\">\n",
       "      <th></th>\n",
       "      <th>Month</th>\n",
       "      <th>DayofMonth</th>\n",
       "      <th>DayOfWeek</th>\n",
       "      <th>DepTime</th>\n",
       "      <th>Distance</th>\n",
       "      <th>dep_delayed_15min</th>\n",
       "      <th>hour</th>\n",
       "      <th>minutes</th>\n",
       "      <th>dep_in_minutes</th>\n",
       "      <th>min_year</th>\n",
       "      <th>weekend</th>\n",
       "      <th>sin_dep</th>\n",
       "      <th>cos_dep</th>\n",
       "      <th>sin_year</th>\n",
       "      <th>cos_year</th>\n",
       "    </tr>\n",
       "  </thead>\n",
       "  <tbody>\n",
       "    <tr>\n",
       "      <th>Month</th>\n",
       "      <td>1.000000</td>\n",
       "      <td>0.007106</td>\n",
       "      <td>0.004717</td>\n",
       "      <td>-0.001269</td>\n",
       "      <td>0.005923</td>\n",
       "      <td>0.016998</td>\n",
       "      <td>-0.001390</td>\n",
       "      <td>0.003312</td>\n",
       "      <td>-0.001187</td>\n",
       "      <td>0.996429</td>\n",
       "      <td>0.003926</td>\n",
       "      <td>0.000546</td>\n",
       "      <td>-0.004452</td>\n",
       "      <td>-0.783166</td>\n",
       "      <td>0.016360</td>\n",
       "    </tr>\n",
       "    <tr>\n",
       "      <th>DayofMonth</th>\n",
       "      <td>0.007106</td>\n",
       "      <td>1.000000</td>\n",
       "      <td>-0.015537</td>\n",
       "      <td>0.000883</td>\n",
       "      <td>0.002541</td>\n",
       "      <td>0.025842</td>\n",
       "      <td>0.000921</td>\n",
       "      <td>-0.001056</td>\n",
       "      <td>0.000858</td>\n",
       "      <td>0.091236</td>\n",
       "      <td>-0.007870</td>\n",
       "      <td>0.000462</td>\n",
       "      <td>0.001733</td>\n",
       "      <td>-0.013112</td>\n",
       "      <td>-0.004410</td>\n",
       "    </tr>\n",
       "    <tr>\n",
       "      <th>DayOfWeek</th>\n",
       "      <td>0.004717</td>\n",
       "      <td>-0.015537</td>\n",
       "      <td>1.000000</td>\n",
       "      <td>0.009076</td>\n",
       "      <td>0.010622</td>\n",
       "      <td>0.010439</td>\n",
       "      <td>0.009178</td>\n",
       "      <td>-0.003148</td>\n",
       "      <td>0.009001</td>\n",
       "      <td>0.003426</td>\n",
       "      <td>0.783825</td>\n",
       "      <td>-0.010936</td>\n",
       "      <td>-0.004571</td>\n",
       "      <td>0.001077</td>\n",
       "      <td>0.001859</td>\n",
       "    </tr>\n",
       "    <tr>\n",
       "      <th>DepTime</th>\n",
       "      <td>-0.001269</td>\n",
       "      <td>0.000883</td>\n",
       "      <td>0.009076</td>\n",
       "      <td>1.000000</td>\n",
       "      <td>-0.032873</td>\n",
       "      <td>0.241370</td>\n",
       "      <td>0.999314</td>\n",
       "      <td>-0.024792</td>\n",
       "      <td>0.999694</td>\n",
       "      <td>0.000691</td>\n",
       "      <td>0.001279</td>\n",
       "      <td>-0.891128</td>\n",
       "      <td>0.565939</td>\n",
       "      <td>0.001063</td>\n",
       "      <td>-0.003502</td>\n",
       "    </tr>\n",
       "    <tr>\n",
       "      <th>Distance</th>\n",
       "      <td>0.005923</td>\n",
       "      <td>0.002541</td>\n",
       "      <td>0.010622</td>\n",
       "      <td>-0.032873</td>\n",
       "      <td>1.000000</td>\n",
       "      <td>0.013264</td>\n",
       "      <td>-0.033064</td>\n",
       "      <td>0.006572</td>\n",
       "      <td>-0.032721</td>\n",
       "      <td>0.006042</td>\n",
       "      <td>0.013928</td>\n",
       "      <td>0.037040</td>\n",
       "      <td>-0.012694</td>\n",
       "      <td>-0.000699</td>\n",
       "      <td>-0.002144</td>\n",
       "    </tr>\n",
       "    <tr>\n",
       "      <th>dep_delayed_15min</th>\n",
       "      <td>0.016998</td>\n",
       "      <td>0.025842</td>\n",
       "      <td>0.010439</td>\n",
       "      <td>0.241370</td>\n",
       "      <td>0.013264</td>\n",
       "      <td>1.000000</td>\n",
       "      <td>0.241617</td>\n",
       "      <td>-0.017124</td>\n",
       "      <td>0.241020</td>\n",
       "      <td>0.019489</td>\n",
       "      <td>-0.015949</td>\n",
       "      <td>-0.216927</td>\n",
       "      <td>0.166761</td>\n",
       "      <td>-0.009894</td>\n",
       "      <td>-0.005669</td>\n",
       "    </tr>\n",
       "    <tr>\n",
       "      <th>hour</th>\n",
       "      <td>-0.001390</td>\n",
       "      <td>0.000921</td>\n",
       "      <td>0.009178</td>\n",
       "      <td>0.999314</td>\n",
       "      <td>-0.033064</td>\n",
       "      <td>0.241617</td>\n",
       "      <td>1.000000</td>\n",
       "      <td>-0.061794</td>\n",
       "      <td>0.998092</td>\n",
       "      <td>0.000570</td>\n",
       "      <td>0.001339</td>\n",
       "      <td>-0.889984</td>\n",
       "      <td>0.565011</td>\n",
       "      <td>0.001328</td>\n",
       "      <td>-0.003497</td>\n",
       "    </tr>\n",
       "    <tr>\n",
       "      <th>minutes</th>\n",
       "      <td>0.003312</td>\n",
       "      <td>-0.001056</td>\n",
       "      <td>-0.003148</td>\n",
       "      <td>-0.024792</td>\n",
       "      <td>0.006572</td>\n",
       "      <td>-0.017124</td>\n",
       "      <td>-0.061794</td>\n",
       "      <td>1.000000</td>\n",
       "      <td>-0.000057</td>\n",
       "      <td>0.003227</td>\n",
       "      <td>-0.001694</td>\n",
       "      <td>0.007692</td>\n",
       "      <td>0.000552</td>\n",
       "      <td>-0.007191</td>\n",
       "      <td>0.000014</td>\n",
       "    </tr>\n",
       "    <tr>\n",
       "      <th>dep_in_minutes</th>\n",
       "      <td>-0.001187</td>\n",
       "      <td>0.000858</td>\n",
       "      <td>0.009001</td>\n",
       "      <td>0.999694</td>\n",
       "      <td>-0.032721</td>\n",
       "      <td>0.241020</td>\n",
       "      <td>0.998092</td>\n",
       "      <td>-0.000057</td>\n",
       "      <td>1.000000</td>\n",
       "      <td>0.000771</td>\n",
       "      <td>0.001237</td>\n",
       "      <td>-0.891212</td>\n",
       "      <td>0.566127</td>\n",
       "      <td>0.000885</td>\n",
       "      <td>-0.003503</td>\n",
       "    </tr>\n",
       "    <tr>\n",
       "      <th>min_year</th>\n",
       "      <td>0.996429</td>\n",
       "      <td>0.091236</td>\n",
       "      <td>0.003426</td>\n",
       "      <td>0.000691</td>\n",
       "      <td>0.006042</td>\n",
       "      <td>0.019489</td>\n",
       "      <td>0.000570</td>\n",
       "      <td>0.003227</td>\n",
       "      <td>0.000771</td>\n",
       "      <td>1.000000</td>\n",
       "      <td>0.003277</td>\n",
       "      <td>-0.001105</td>\n",
       "      <td>-0.003253</td>\n",
       "      <td>-0.782751</td>\n",
       "      <td>0.020027</td>\n",
       "    </tr>\n",
       "    <tr>\n",
       "      <th>weekend</th>\n",
       "      <td>0.003926</td>\n",
       "      <td>-0.007870</td>\n",
       "      <td>0.783825</td>\n",
       "      <td>0.001279</td>\n",
       "      <td>0.013928</td>\n",
       "      <td>-0.015949</td>\n",
       "      <td>0.001339</td>\n",
       "      <td>-0.001694</td>\n",
       "      <td>0.001237</td>\n",
       "      <td>0.003277</td>\n",
       "      <td>1.000000</td>\n",
       "      <td>-0.007235</td>\n",
       "      <td>-0.018228</td>\n",
       "      <td>-0.004224</td>\n",
       "      <td>0.003165</td>\n",
       "    </tr>\n",
       "    <tr>\n",
       "      <th>sin_dep</th>\n",
       "      <td>0.000546</td>\n",
       "      <td>0.000462</td>\n",
       "      <td>-0.010936</td>\n",
       "      <td>-0.891128</td>\n",
       "      <td>0.037040</td>\n",
       "      <td>-0.216927</td>\n",
       "      <td>-0.889984</td>\n",
       "      <td>0.007692</td>\n",
       "      <td>-0.891212</td>\n",
       "      <td>-0.001105</td>\n",
       "      <td>-0.007235</td>\n",
       "      <td>1.000000</td>\n",
       "      <td>-0.324402</td>\n",
       "      <td>-0.000366</td>\n",
       "      <td>0.001313</td>\n",
       "    </tr>\n",
       "    <tr>\n",
       "      <th>cos_dep</th>\n",
       "      <td>-0.004452</td>\n",
       "      <td>0.001733</td>\n",
       "      <td>-0.004571</td>\n",
       "      <td>0.565939</td>\n",
       "      <td>-0.012694</td>\n",
       "      <td>0.166761</td>\n",
       "      <td>0.565011</td>\n",
       "      <td>0.000552</td>\n",
       "      <td>0.566127</td>\n",
       "      <td>-0.003253</td>\n",
       "      <td>-0.018228</td>\n",
       "      <td>-0.324402</td>\n",
       "      <td>1.000000</td>\n",
       "      <td>0.004262</td>\n",
       "      <td>-0.007226</td>\n",
       "    </tr>\n",
       "    <tr>\n",
       "      <th>sin_year</th>\n",
       "      <td>-0.783166</td>\n",
       "      <td>-0.013112</td>\n",
       "      <td>0.001077</td>\n",
       "      <td>0.001063</td>\n",
       "      <td>-0.000699</td>\n",
       "      <td>-0.009894</td>\n",
       "      <td>0.001328</td>\n",
       "      <td>-0.007191</td>\n",
       "      <td>0.000885</td>\n",
       "      <td>-0.782751</td>\n",
       "      <td>-0.004224</td>\n",
       "      <td>-0.000366</td>\n",
       "      <td>0.004262</td>\n",
       "      <td>1.000000</td>\n",
       "      <td>0.000108</td>\n",
       "    </tr>\n",
       "    <tr>\n",
       "      <th>cos_year</th>\n",
       "      <td>0.016360</td>\n",
       "      <td>-0.004410</td>\n",
       "      <td>0.001859</td>\n",
       "      <td>-0.003502</td>\n",
       "      <td>-0.002144</td>\n",
       "      <td>-0.005669</td>\n",
       "      <td>-0.003497</td>\n",
       "      <td>0.000014</td>\n",
       "      <td>-0.003503</td>\n",
       "      <td>0.020027</td>\n",
       "      <td>0.003165</td>\n",
       "      <td>0.001313</td>\n",
       "      <td>-0.007226</td>\n",
       "      <td>0.000108</td>\n",
       "      <td>1.000000</td>\n",
       "    </tr>\n",
       "  </tbody>\n",
       "</table>\n",
       "</div>"
      ],
      "text/plain": [
       "                      Month  DayofMonth  DayOfWeek   DepTime  Distance  \\\n",
       "Month              1.000000    0.007106   0.004717 -0.001269  0.005923   \n",
       "DayofMonth         0.007106    1.000000  -0.015537  0.000883  0.002541   \n",
       "DayOfWeek          0.004717   -0.015537   1.000000  0.009076  0.010622   \n",
       "DepTime           -0.001269    0.000883   0.009076  1.000000 -0.032873   \n",
       "Distance           0.005923    0.002541   0.010622 -0.032873  1.000000   \n",
       "dep_delayed_15min  0.016998    0.025842   0.010439  0.241370  0.013264   \n",
       "hour              -0.001390    0.000921   0.009178  0.999314 -0.033064   \n",
       "minutes            0.003312   -0.001056  -0.003148 -0.024792  0.006572   \n",
       "dep_in_minutes    -0.001187    0.000858   0.009001  0.999694 -0.032721   \n",
       "min_year           0.996429    0.091236   0.003426  0.000691  0.006042   \n",
       "weekend            0.003926   -0.007870   0.783825  0.001279  0.013928   \n",
       "sin_dep            0.000546    0.000462  -0.010936 -0.891128  0.037040   \n",
       "cos_dep           -0.004452    0.001733  -0.004571  0.565939 -0.012694   \n",
       "sin_year          -0.783166   -0.013112   0.001077  0.001063 -0.000699   \n",
       "cos_year           0.016360   -0.004410   0.001859 -0.003502 -0.002144   \n",
       "\n",
       "                   dep_delayed_15min      hour   minutes  dep_in_minutes  \\\n",
       "Month                       0.016998 -0.001390  0.003312       -0.001187   \n",
       "DayofMonth                  0.025842  0.000921 -0.001056        0.000858   \n",
       "DayOfWeek                   0.010439  0.009178 -0.003148        0.009001   \n",
       "DepTime                     0.241370  0.999314 -0.024792        0.999694   \n",
       "Distance                    0.013264 -0.033064  0.006572       -0.032721   \n",
       "dep_delayed_15min           1.000000  0.241617 -0.017124        0.241020   \n",
       "hour                        0.241617  1.000000 -0.061794        0.998092   \n",
       "minutes                    -0.017124 -0.061794  1.000000       -0.000057   \n",
       "dep_in_minutes              0.241020  0.998092 -0.000057        1.000000   \n",
       "min_year                    0.019489  0.000570  0.003227        0.000771   \n",
       "weekend                    -0.015949  0.001339 -0.001694        0.001237   \n",
       "sin_dep                    -0.216927 -0.889984  0.007692       -0.891212   \n",
       "cos_dep                     0.166761  0.565011  0.000552        0.566127   \n",
       "sin_year                   -0.009894  0.001328 -0.007191        0.000885   \n",
       "cos_year                   -0.005669 -0.003497  0.000014       -0.003503   \n",
       "\n",
       "                   min_year   weekend   sin_dep   cos_dep  sin_year  cos_year  \n",
       "Month              0.996429  0.003926  0.000546 -0.004452 -0.783166  0.016360  \n",
       "DayofMonth         0.091236 -0.007870  0.000462  0.001733 -0.013112 -0.004410  \n",
       "DayOfWeek          0.003426  0.783825 -0.010936 -0.004571  0.001077  0.001859  \n",
       "DepTime            0.000691  0.001279 -0.891128  0.565939  0.001063 -0.003502  \n",
       "Distance           0.006042  0.013928  0.037040 -0.012694 -0.000699 -0.002144  \n",
       "dep_delayed_15min  0.019489 -0.015949 -0.216927  0.166761 -0.009894 -0.005669  \n",
       "hour               0.000570  0.001339 -0.889984  0.565011  0.001328 -0.003497  \n",
       "minutes            0.003227 -0.001694  0.007692  0.000552 -0.007191  0.000014  \n",
       "dep_in_minutes     0.000771  0.001237 -0.891212  0.566127  0.000885 -0.003503  \n",
       "min_year           1.000000  0.003277 -0.001105 -0.003253 -0.782751  0.020027  \n",
       "weekend            0.003277  1.000000 -0.007235 -0.018228 -0.004224  0.003165  \n",
       "sin_dep           -0.001105 -0.007235  1.000000 -0.324402 -0.000366  0.001313  \n",
       "cos_dep           -0.003253 -0.018228 -0.324402  1.000000  0.004262 -0.007226  \n",
       "sin_year          -0.782751 -0.004224 -0.000366  0.004262  1.000000  0.000108  \n",
       "cos_year           0.020027  0.003165  0.001313 -0.007226  0.000108  1.000000  "
      ]
     },
     "execution_count": 397,
     "metadata": {},
     "output_type": "execute_result"
    }
   ],
   "source": [
    "train_df.corr()"
   ]
  },
  {
   "cell_type": "code",
   "execution_count": 399,
   "metadata": {
    "scrolled": true
   },
   "outputs": [
    {
     "data": {
      "text/html": [
       "<div>\n",
       "<style scoped>\n",
       "    .dataframe tbody tr th:only-of-type {\n",
       "        vertical-align: middle;\n",
       "    }\n",
       "\n",
       "    .dataframe tbody tr th {\n",
       "        vertical-align: top;\n",
       "    }\n",
       "\n",
       "    .dataframe thead th {\n",
       "        text-align: right;\n",
       "    }\n",
       "</style>\n",
       "<table border=\"1\" class=\"dataframe\">\n",
       "  <thead>\n",
       "    <tr style=\"text-align: right;\">\n",
       "      <th></th>\n",
       "      <th>0</th>\n",
       "      <th>1</th>\n",
       "      <th>2</th>\n",
       "      <th>3</th>\n",
       "      <th>4</th>\n",
       "      <th>5</th>\n",
       "      <th>6</th>\n",
       "      <th>7</th>\n",
       "      <th>8</th>\n",
       "      <th>9</th>\n",
       "      <th>10</th>\n",
       "      <th>11</th>\n",
       "    </tr>\n",
       "  </thead>\n",
       "  <tbody>\n",
       "    <tr>\n",
       "      <th>0</th>\n",
       "      <td>8.0</td>\n",
       "      <td>21.0</td>\n",
       "      <td>7.0</td>\n",
       "      <td>1934.0</td>\n",
       "      <td>2.864511</td>\n",
       "      <td>19.0</td>\n",
       "      <td>34.0</td>\n",
       "      <td>1174.0</td>\n",
       "      <td>336694.0</td>\n",
       "      <td>1.0</td>\n",
       "      <td>-0.917060</td>\n",
       "      <td>0.398749</td>\n",
       "    </tr>\n",
       "    <tr>\n",
       "      <th>1</th>\n",
       "      <td>4.0</td>\n",
       "      <td>20.0</td>\n",
       "      <td>3.0</td>\n",
       "      <td>1548.0</td>\n",
       "      <td>2.921166</td>\n",
       "      <td>15.0</td>\n",
       "      <td>48.0</td>\n",
       "      <td>948.0</td>\n",
       "      <td>159348.0</td>\n",
       "      <td>0.0</td>\n",
       "      <td>-0.838671</td>\n",
       "      <td>-0.544639</td>\n",
       "    </tr>\n",
       "    <tr>\n",
       "      <th>2</th>\n",
       "      <td>9.0</td>\n",
       "      <td>2.0</td>\n",
       "      <td>5.0</td>\n",
       "      <td>1422.0</td>\n",
       "      <td>2.619093</td>\n",
       "      <td>14.0</td>\n",
       "      <td>22.0</td>\n",
       "      <td>862.0</td>\n",
       "      <td>353662.0</td>\n",
       "      <td>0.0</td>\n",
       "      <td>-0.580703</td>\n",
       "      <td>-0.814116</td>\n",
       "    </tr>\n",
       "    <tr>\n",
       "      <th>3</th>\n",
       "      <td>11.0</td>\n",
       "      <td>25.0</td>\n",
       "      <td>6.0</td>\n",
       "      <td>1015.0</td>\n",
       "      <td>2.940516</td>\n",
       "      <td>10.0</td>\n",
       "      <td>15.0</td>\n",
       "      <td>615.0</td>\n",
       "      <td>474375.0</td>\n",
       "      <td>1.0</td>\n",
       "      <td>0.442289</td>\n",
       "      <td>-0.896873</td>\n",
       "    </tr>\n",
       "    <tr>\n",
       "      <th>4</th>\n",
       "      <td>10.0</td>\n",
       "      <td>7.0</td>\n",
       "      <td>6.0</td>\n",
       "      <td>1828.0</td>\n",
       "      <td>2.626340</td>\n",
       "      <td>18.0</td>\n",
       "      <td>28.0</td>\n",
       "      <td>1108.0</td>\n",
       "      <td>404308.0</td>\n",
       "      <td>1.0</td>\n",
       "      <td>-0.992546</td>\n",
       "      <td>0.121869</td>\n",
       "    </tr>\n",
       "  </tbody>\n",
       "</table>\n",
       "</div>"
      ],
      "text/plain": [
       "     0     1    2       3         4     5     6       7         8    9   \\\n",
       "0   8.0  21.0  7.0  1934.0  2.864511  19.0  34.0  1174.0  336694.0  1.0   \n",
       "1   4.0  20.0  3.0  1548.0  2.921166  15.0  48.0   948.0  159348.0  0.0   \n",
       "2   9.0   2.0  5.0  1422.0  2.619093  14.0  22.0   862.0  353662.0  0.0   \n",
       "3  11.0  25.0  6.0  1015.0  2.940516  10.0  15.0   615.0  474375.0  1.0   \n",
       "4  10.0   7.0  6.0  1828.0  2.626340  18.0  28.0  1108.0  404308.0  1.0   \n",
       "\n",
       "         10        11  \n",
       "0 -0.917060  0.398749  \n",
       "1 -0.838671 -0.544639  \n",
       "2 -0.580703 -0.814116  \n",
       "3  0.442289 -0.896873  \n",
       "4 -0.992546  0.121869  "
      ]
     },
     "execution_count": 399,
     "metadata": {},
     "output_type": "execute_result"
    }
   ],
   "source": [
    "pd.DataFrame(x_data_kbest).head()"
   ]
  },
  {
   "cell_type": "code",
   "execution_count": 400,
   "metadata": {},
   "outputs": [
    {
     "data": {
      "text/html": [
       "<div>\n",
       "<style scoped>\n",
       "    .dataframe tbody tr th:only-of-type {\n",
       "        vertical-align: middle;\n",
       "    }\n",
       "\n",
       "    .dataframe tbody tr th {\n",
       "        vertical-align: top;\n",
       "    }\n",
       "\n",
       "    .dataframe thead th {\n",
       "        text-align: right;\n",
       "    }\n",
       "</style>\n",
       "<table border=\"1\" class=\"dataframe\">\n",
       "  <thead>\n",
       "    <tr style=\"text-align: right;\">\n",
       "      <th></th>\n",
       "      <th>Month</th>\n",
       "      <th>DayofMonth</th>\n",
       "      <th>DayOfWeek</th>\n",
       "      <th>DepTime</th>\n",
       "      <th>UniqueCarrier</th>\n",
       "      <th>Origin</th>\n",
       "      <th>Dest</th>\n",
       "      <th>Distance</th>\n",
       "      <th>dep_delayed_15min</th>\n",
       "      <th>flight</th>\n",
       "      <th>hour</th>\n",
       "      <th>minutes</th>\n",
       "      <th>dep_in_minutes</th>\n",
       "      <th>min_year</th>\n",
       "      <th>weekend</th>\n",
       "      <th>sin_dep</th>\n",
       "      <th>cos_dep</th>\n",
       "      <th>sin_year</th>\n",
       "      <th>cos_year</th>\n",
       "    </tr>\n",
       "  </thead>\n",
       "  <tbody>\n",
       "    <tr>\n",
       "      <th>0</th>\n",
       "      <td>8</td>\n",
       "      <td>21</td>\n",
       "      <td>7</td>\n",
       "      <td>1934</td>\n",
       "      <td>AA</td>\n",
       "      <td>ATL</td>\n",
       "      <td>DFW</td>\n",
       "      <td>2.864511</td>\n",
       "      <td>0</td>\n",
       "      <td>ATL --&gt; DFW</td>\n",
       "      <td>19</td>\n",
       "      <td>34</td>\n",
       "      <td>1174</td>\n",
       "      <td>336694</td>\n",
       "      <td>1</td>\n",
       "      <td>-0.917060</td>\n",
       "      <td>0.398749</td>\n",
       "      <td>-0.772870</td>\n",
       "      <td>-0.634564</td>\n",
       "    </tr>\n",
       "    <tr>\n",
       "      <th>1</th>\n",
       "      <td>4</td>\n",
       "      <td>20</td>\n",
       "      <td>3</td>\n",
       "      <td>1548</td>\n",
       "      <td>US</td>\n",
       "      <td>PIT</td>\n",
       "      <td>MCO</td>\n",
       "      <td>2.921166</td>\n",
       "      <td>0</td>\n",
       "      <td>PIT --&gt; MCO</td>\n",
       "      <td>15</td>\n",
       "      <td>48</td>\n",
       "      <td>948</td>\n",
       "      <td>159348</td>\n",
       "      <td>0</td>\n",
       "      <td>-0.838671</td>\n",
       "      <td>-0.544639</td>\n",
       "      <td>0.944706</td>\n",
       "      <td>-0.327918</td>\n",
       "    </tr>\n",
       "    <tr>\n",
       "      <th>2</th>\n",
       "      <td>9</td>\n",
       "      <td>2</td>\n",
       "      <td>5</td>\n",
       "      <td>1422</td>\n",
       "      <td>XE</td>\n",
       "      <td>RDU</td>\n",
       "      <td>CLE</td>\n",
       "      <td>2.619093</td>\n",
       "      <td>0</td>\n",
       "      <td>RDU --&gt; CLE</td>\n",
       "      <td>14</td>\n",
       "      <td>22</td>\n",
       "      <td>862</td>\n",
       "      <td>353662</td>\n",
       "      <td>0</td>\n",
       "      <td>-0.580703</td>\n",
       "      <td>-0.814116</td>\n",
       "      <td>-0.884860</td>\n",
       "      <td>-0.465858</td>\n",
       "    </tr>\n",
       "    <tr>\n",
       "      <th>3</th>\n",
       "      <td>11</td>\n",
       "      <td>25</td>\n",
       "      <td>6</td>\n",
       "      <td>1015</td>\n",
       "      <td>OO</td>\n",
       "      <td>DEN</td>\n",
       "      <td>MEM</td>\n",
       "      <td>2.940516</td>\n",
       "      <td>0</td>\n",
       "      <td>DEN --&gt; MEM</td>\n",
       "      <td>10</td>\n",
       "      <td>15</td>\n",
       "      <td>615</td>\n",
       "      <td>474375</td>\n",
       "      <td>1</td>\n",
       "      <td>0.442289</td>\n",
       "      <td>-0.896873</td>\n",
       "      <td>-0.574800</td>\n",
       "      <td>0.818294</td>\n",
       "    </tr>\n",
       "    <tr>\n",
       "      <th>4</th>\n",
       "      <td>10</td>\n",
       "      <td>7</td>\n",
       "      <td>6</td>\n",
       "      <td>1828</td>\n",
       "      <td>WN</td>\n",
       "      <td>MDW</td>\n",
       "      <td>OMA</td>\n",
       "      <td>2.626340</td>\n",
       "      <td>1</td>\n",
       "      <td>MDW --&gt; OMA</td>\n",
       "      <td>18</td>\n",
       "      <td>28</td>\n",
       "      <td>1108</td>\n",
       "      <td>404308</td>\n",
       "      <td>1</td>\n",
       "      <td>-0.992546</td>\n",
       "      <td>0.121869</td>\n",
       "      <td>-0.992708</td>\n",
       "      <td>0.120540</td>\n",
       "    </tr>\n",
       "  </tbody>\n",
       "</table>\n",
       "</div>"
      ],
      "text/plain": [
       "   Month  DayofMonth  DayOfWeek  DepTime UniqueCarrier Origin Dest  Distance  \\\n",
       "0      8          21          7     1934            AA    ATL  DFW  2.864511   \n",
       "1      4          20          3     1548            US    PIT  MCO  2.921166   \n",
       "2      9           2          5     1422            XE    RDU  CLE  2.619093   \n",
       "3     11          25          6     1015            OO    DEN  MEM  2.940516   \n",
       "4     10           7          6     1828            WN    MDW  OMA  2.626340   \n",
       "\n",
       "   dep_delayed_15min       flight  hour  minutes  dep_in_minutes  min_year  \\\n",
       "0                  0  ATL --> DFW    19       34            1174    336694   \n",
       "1                  0  PIT --> MCO    15       48             948    159348   \n",
       "2                  0  RDU --> CLE    14       22             862    353662   \n",
       "3                  0  DEN --> MEM    10       15             615    474375   \n",
       "4                  1  MDW --> OMA    18       28            1108    404308   \n",
       "\n",
       "   weekend   sin_dep   cos_dep  sin_year  cos_year  \n",
       "0        1 -0.917060  0.398749 -0.772870 -0.634564  \n",
       "1        0 -0.838671 -0.544639  0.944706 -0.327918  \n",
       "2        0 -0.580703 -0.814116 -0.884860 -0.465858  \n",
       "3        1  0.442289 -0.896873 -0.574800  0.818294  \n",
       "4        1 -0.992546  0.121869 -0.992708  0.120540  "
      ]
     },
     "execution_count": 400,
     "metadata": {},
     "output_type": "execute_result"
    }
   ],
   "source": [
    "train_df.head()"
   ]
  },
  {
   "cell_type": "code",
   "execution_count": 284,
   "metadata": {
    "collapsed": true
   },
   "outputs": [
    {
     "data": {
      "text/plain": [
       "<matplotlib.axes._subplots.AxesSubplot at 0x3f7f57b8>"
      ]
     },
     "execution_count": 284,
     "metadata": {},
     "output_type": "execute_result"
    },
    {
     "data": {
      "image/png": "[encoded data removed]",
      "text/plain": [
       "<Figure size 432x288 with 1 Axes>"
      ]
     },
     "metadata": {
      "needs_background": "light"
     },
     "output_type": "display_data"
    }
   ],
   "source": [
    "train_df.Distance.plot.hist()"
   ]
  },
  {
   "cell_type": "markdown",
   "metadata": {},
   "source": [
    "---\n",
    "---\n",
    "---"
   ]
  },
  {
   "cell_type": "code",
   "execution_count": 434,
   "metadata": {},
   "outputs": [
    {
     "name": "stdout",
     "output_type": "stream",
     "text": [
      "[0 1 2 3 4 5]\n"
     ]
    }
   ],
   "source": [
    "categ_feat_idx = np.where(train_df.dtypes.drop([\"dep_delayed_15min\"]) == 'object')[0]\n",
    "# categ_feat_idx = sorted(np.append(categ_feat_idx, [0, 1, 2]))\n",
    "print(categ_feat_idx)"
   ]
  },
  {
   "cell_type": "code",
   "execution_count": 435,
   "metadata": {},
   "outputs": [],
   "source": [
    "X_train = train_df.drop('dep_delayed_15min', axis=1).values\n",
    "y_train = train_df['dep_delayed_15min'].values\n",
    "X_test = test_df.values"
   ]
  },
  {
   "cell_type": "code",
   "execution_count": 436,
   "metadata": {},
   "outputs": [],
   "source": [
    "X_train_part, X_valid, \\\n",
    "y_train_part, y_valid = train_test_split(X_train, y_train,\n",
    "                                         test_size=0.3,\n",
    "                                         random_state=17,\n",
    "                                         shuffle=True\n",
    "                                         )\n",
    "                                        "
   ]
  },
  {
   "cell_type": "code",
   "execution_count": null,
   "metadata": {},
   "outputs": [],
   "source": [
    "ctb = CatBoostClassifier(random_seed=17, silent=True)"
   ]
  },
  {
   "cell_type": "markdown",
   "metadata": {},
   "source": [
    "#### Train"
   ]
  },
  {
   "cell_type": "code",
   "execution_count": null,
   "metadata": {
    "scrolled": true
   },
   "outputs": [],
   "source": [
    "%%time\n",
    "ctb.fit(X_train_part,\n",
    "        y_train_part, \n",
    "        cat_features=categ_feat_idx);"
   ]
  },
  {
   "cell_type": "code",
   "execution_count": 275,
   "metadata": {},
   "outputs": [
    {
     "name": "stdout",
     "output_type": "stream",
     "text": [
      "0.7972809092898434\n",
      "0.741977483678378\n"
     ]
    }
   ],
   "source": [
    "ctb_valid_pred = ctb.predict_proba(X_train_part)[:, 1]\n",
    "print(roc_auc_score(y_train_part, ctb_valid_pred))\n",
    "\n",
    "ctb_valid_pred = ctb.predict_proba(X_valid)[:, 1]\n",
    "print(roc_auc_score(y_valid, ctb_valid_pred))"
   ]
  },
  {
   "cell_type": "markdown",
   "metadata": {},
   "source": [
    "K Fold"
   ]
  },
  {
   "cell_type": "code",
   "execution_count": 295,
   "metadata": {},
   "outputs": [
    {
     "name": "stdout",
     "output_type": "stream",
     "text": [
      "1\n",
      "2\n",
      "3\n"
     ]
    }
   ],
   "source": [
    "test_score = []\n",
    "train_score = []\n",
    "skf = StratifiedKFold(n_splits=3, shuffle=True, random_state=17)\n",
    "\n",
    "i = 0\n",
    "for test_index, train_index in skf.split(X_train, y_train):\n",
    "    \n",
    "    X_train_1, X_test_1 = X_train[train_index, :], X_train[test_index, :]\n",
    "    y_train_1, y_test_1 = y_train[train_index], y_train[test_index]\n",
    "    \n",
    "    \n",
    "    _ctb = CatBoostClassifier(random_seed=17,\n",
    "                              silent=True\n",
    "                             ).fit(X_train_1, y_train_1, cat_features=categ_feat_idx)\n",
    "    \n",
    "    test_score.append(roc_auc_score(y_test_1,\n",
    "                                    _ctb.predict_proba(X_test_1)[:, 1]\n",
    "                                   )\n",
    "                     )\n",
    "    train_score.append(roc_auc_score(y_train_1, _ctb.predict_proba(X_train_1)[:, 1]))\n",
    "    \n",
    "    i += 1\n",
    "    print(i)\n",
    "    "
   ]
  },
  {
   "cell_type": "code",
   "execution_count": 297,
   "metadata": {},
   "outputs": [
    {
     "name": "stdout",
     "output_type": "stream",
     "text": [
      "0.733257522282691\n",
      "[0.7340427864660044, 0.7342698581259834, 0.7314599222560852]\n",
      "\n",
      "0.7764956099562351\n",
      "[0.77261243910411, 0.7760086760842536, 0.7808657146803418]\n"
     ]
    }
   ],
   "source": [
    "print(np.mean(test_score))\n",
    "print(test_score)\n",
    "print()\n",
    "print(np.mean(train_score))\n",
    "print(train_score)"
   ]
  },
  {
   "cell_type": "markdown",
   "metadata": {},
   "source": [
    "params = \\\n",
    "{\n",
    "# \"iterations\": 100,\n",
    "\"eval_metric\": \"AUC\",\n",
    "\"verbose\": False\n",
    "#\"devices\": -1\n",
    "}\n",
    "\n",
    "pool = Pool(data=X_train,\n",
    "            label=y_train,\n",
    "            cat_features=categ_feat_idx)\n",
    "\n",
    "scores = cv(pool,\n",
    "            params=params,\n",
    "            fold_count=5,\n",
    "            plot=\"True\",\n",
    "            early_stopping_rounds=50)"
   ]
  },
  {
   "cell_type": "markdown",
   "metadata": {},
   "source": [
    "----\n",
    "----\n",
    "----"
   ]
  },
  {
   "cell_type": "markdown",
   "metadata": {},
   "source": [
    "Result"
   ]
  },
  {
   "cell_type": "code",
   "execution_count": 97,
   "metadata": {
    "scrolled": true
   },
   "outputs": [
    {
     "name": "stdout",
     "output_type": "stream",
     "text": [
      "Wall time: 2min 26s\n"
     ]
    },
    {
     "data": {
      "text/plain": [
       "<catboost.core.CatBoostClassifier at 0x130f1748>"
      ]
     },
     "execution_count": 97,
     "metadata": {},
     "output_type": "execute_result"
    }
   ],
   "source": [
    "%%time\n",
    "ctb.fit(X_train, y_train,\n",
    "        cat_features=categ_feat_idx);"
   ]
  },
  {
   "cell_type": "code",
   "execution_count": 98,
   "metadata": {},
   "outputs": [],
   "source": [
    "ctb_test_pred = ctb.predict_proba(X_test)[:, 1]"
   ]
  },
  {
   "cell_type": "code",
   "execution_count": 99,
   "metadata": {},
   "outputs": [],
   "source": [
    "with warnings.catch_warnings():\n",
    "    warnings.simplefilter(\"ignore\")\n",
    "    \n",
    "    sample_sub = pd.read_csv('../data/sample_submission.csv', \n",
    "                             index_col='id')\n",
    "    sample_sub['dep_delayed_15min'] = ctb_test_pred\n",
    "    sample_sub.to_csv('ctb_pred_4.csv')"
   ]
  },
  {
   "cell_type": "code",
   "execution_count": 123,
   "metadata": {},
   "outputs": [
    {
     "name": "stdout",
     "output_type": "stream",
     "text": [
      "id,dep_delayed_15min\n",
      "0,0.029813427154851885\n",
      "1,0.045432589326845726\n",
      "2,0.07735792880819185\n",
      "3,0.26298352270959774\n",
      "4,0.23812453664806577\n",
      "5,0.1015030549268571\n",
      "6,0.040331757718181545\n",
      "7,0.2408800371330324\n",
      "8,0.11304498960469873\n"
     ]
    }
   ],
   "source": [
    "!head ctb_pred.csv"
   ]
  },
  {
   "cell_type": "code",
   "execution_count": 127,
   "metadata": {
    "scrolled": true
   },
   "outputs": [
    {
     "name": "stdout",
     "output_type": "stream",
     "text": [
      "id,dep_delayed_15min\n",
      "0,0.025572166172376693\n",
      "1,0.045981976846112715\n",
      "2,0.07101399403966373\n",
      "3,0.2905628227350732\n",
      "4,0.2716783001872599\n",
      "5,0.08292537325175686\n",
      "6,0.04404007262086365\n",
      "7,0.19666702216697723\n",
      "8,0.07454022433182766\n"
     ]
    }
   ],
   "source": [
    "!head ctb_pred_3.csv"
   ]
  },
  {
   "cell_type": "code",
   "execution_count": 100,
   "metadata": {},
   "outputs": [
    {
     "name": "stdout",
     "output_type": "stream",
     "text": [
      "id,dep_delayed_15min\n",
      "0,0.041335027204167984\n",
      "1,0.06414436097806048\n",
      "2,0.05168336229185614\n",
      "3,0.31269384580379495\n",
      "4,0.3241744296848872\n",
      "5,0.09560777045922966\n",
      "6,0.04826738267201204\n",
      "7,0.21209648956603291\n",
      "8,0.0913154450303372\n"
     ]
    }
   ],
   "source": [
    "!head ctb_pred_4.csv"
   ]
  }
 ],
 "metadata": {
  "kernelspec": {
   "display_name": "Python 3",
   "language": "python",
   "name": "python3"
  },
  "language_info": {
   "codemirror_mode": {
    "name": "ipython",
    "version": 3
   },
   "file_extension": ".py",
   "mimetype": "text/x-python",
   "name": "python",
   "nbconvert_exporter": "python",
   "pygments_lexer": "ipython3",
   "version": "3.6.8"
  }
 },
 "nbformat": 4,
 "nbformat_minor": 1
}
