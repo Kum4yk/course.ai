{
 "cells": [
  {
   "cell_type": "code",
   "execution_count": 1,
   "metadata": {},
   "outputs": [],
   "source": [
    "from IPython.core.interactiveshell import InteractiveShell\n",
    "InteractiveShell.ast_node_interactivity = \"all\"\n",
    "\n",
    "import warnings\n",
    "import numpy as np\n",
    "import pandas as pd\n",
    "import catboost\n",
    "\n",
    "from catboost import cv, Pool\n",
    "import matplotlib.pyplot as plt\n",
    "\n",
    "from pathlib import Path\n",
    "from sklearn.model_selection import train_test_split\n",
    "from sklearn.metrics import roc_auc_score\n",
    "from catboost import CatBoostClassifier\n",
    "from sklearn.model_selection import cross_val_score, StratifiedKFold"
   ]
  },
  {
   "cell_type": "code",
   "execution_count": 7,
   "metadata": {},
   "outputs": [],
   "source": [
    "days_from_start = {\n",
    "    1: 0, 2: 31, 3: 59, 4: 90, 5: 120, 6: 151, 7: 181,\n",
    "    8: 212, 9: 243, 10: 273, 11: 304, 12: 334\n",
    "}\n",
    "\n",
    "days_in_month = {\n",
    "    1: 31,  2: 28,  3: 31,  4: 30, 5: 31, 6: 30,\n",
    "    7: 31, 8: 31, 9: 30,  10: 31, 11: 30, 12: 31\n",
    "}\n",
    "\n",
    "params =  {\n",
    "    \"random_seed\": 17,\n",
    "    \"eval_metric\": \"AUC\"\n",
    "    \n",
    "}\n",
    "\n",
    "season_from_moth = {12: \"winter\", 1: \"winter\", 2: \"winter\",\n",
    "                    3: \"spring\", 4: \"spring\", 5: \"spring\", \n",
    "                    6: \"summer\", 7: \"summer\", 8: \"summer\", \n",
    "                    9: \"autumn\", 10: \"autumn\", 11: \"autumn\"\n",
    "                   }\n",
    "\n",
    "weekend = {1: 0, 2: 0,  3: 0, 4: 0, 5: 0, 6: 1, 7: 1 }"
   ]
  },
  {
   "cell_type": "code",
   "execution_count": 2,
   "metadata": {},
   "outputs": [],
   "source": [
    "def encode_and_cat(data):\n",
    "    for name in encode_names:\n",
    "        data[name] = pd.factorize(data[name])[0]\n",
    "        \n",
    "    for name in cat_names:\n",
    "        data[name] = data[name].astype('category')    "
   ]
  },
  {
   "cell_type": "code",
   "execution_count": 42,
   "metadata": {},
   "outputs": [],
   "source": [
    "def extend_name(name):\n",
    "    cat_names.extend([name])\n",
    "    encode_names.extend([name])"
   ]
  },
  {
   "cell_type": "code",
   "execution_count": 258,
   "metadata": {},
   "outputs": [],
   "source": [
    "cat_names = \"Month DayofMonth DayOfWeek UniqueCarrier Origin Dest hour\".split()\n",
    "cat_names.extend(\"fligth\".split())\n",
    "\n",
    "encode_names = \"UniqueCarrier Origin Dest fligth\".split()\n",
    "\n",
    "def clean_data(data):\n",
    "    for name in ['Month', 'DayofMonth', 'DayOfWeek']:\n",
    "        data[name] = data[name].str[2:].astype(int)\n",
    "    \n",
    "    data[\"days_in_m\"] = data.Month.map(days_in_month)\n",
    "    \n",
    "    data.DayofMonth = data.DayofMonth + data.DepTime // 2401\n",
    "    data.DayOfWeek = data.DayOfWeek + data.DepTime // 2401\n",
    "    data.Month = data.Month + data.DayofMonth // (data.days_in_m + 1)\n",
    "    \n",
    "    data.DayofMonth = data.DayofMonth % (data.days_in_m)\n",
    "    data.loc[data['DayofMonth'] == 0, 'DayofMonth'] = data.loc[data['DayofMonth'] == 0, 'days_in_m']\n",
    "    \n",
    "    data.DayOfWeek = data.DayOfWeek % 7\n",
    "    data.loc[data['DayOfWeek'] == 0, 'DayOfWeek'] = 7\n",
    "    \n",
    "    data.DepTime = data.DepTime % 2400\n",
    "    data.loc[data['DepTime'] == 0, 'DepTime'] = 2400\n",
    "    \n",
    "    data[\"minutes\"] = data.DepTime % 100\n",
    "    data[\"hour\"] = data.DepTime // 100\n",
    "    \n",
    "    data[\"dep_t\"] = data.hour * 60 + data.DepTime % 100 # some accturacy on cv\n",
    "    \n",
    "    data['sin_dep'] = np.sin(2 * np.pi * data.dep_t / (24 * 60))\n",
    "    data['cos_dep'] = np.cos(2 * np.pi * data.dep_t / (24 * 60))    \n",
    "    \n",
    "    data[\"sin_min\"] = np.sin(2 * np.pi * data.minutes / 59)\n",
    "    data[\"cos_min\"] = np.cos(2 * np.pi * data.minutes / 59)\n",
    "    \n",
    "    # data[\"sin_cos_min\"] = 2 * data.sin_min * data.cos_min\n",
    "    \n",
    "    \n",
    "    data.Distance = np.power(np.log10(data.Distance), 2)\n",
    "    \n",
    "    data[\"fligth\"] = data.Origin + \"_\" + data.Dest\n",
    "    \n",
    "    data['min_bin'] = pd.cut(data['minutes'],\n",
    "                             bins=np.linspace(0, 60, 21),\n",
    "                             include_lowest=True)\n",
    "    extend_name(\"min_bin\")\n",
    "    \n",
    "    # data[\"sin_cos_dep\"] = 2 * data.sin_dep * data.cos_dep\n",
    "    # data.drop([\"sin_dep\", \"cos_dep\"], axis=1, inplace=True)\n",
    "    \n",
    "    '''\n",
    "    data[\"origin_h\"] = data.Origin + \"_\" + data.hour.astype(str)\n",
    "    extend_name(\"origin_h\")\n",
    "    \n",
    "    data[\"origin_carr\"] = data.Origin + \"_\" + data.UniqueCarrier\n",
    "    extend_name(\"origin_carr\")\n",
    "    '''\n",
    "    \n",
    "    data.drop([\"dep_t\", \"DepTime\", \"minutes\"], axis=1, inplace=True)\n",
    "    data.drop([\"days_in_m\"], axis=1, inplace=True)"
   ]
  },
  {
   "cell_type": "code",
   "execution_count": 257,
   "metadata": {},
   "outputs": [
    {
     "data": {
      "text/plain": [
       "array([ 0.,  4.,  8., 12., 16., 20., 24., 28., 32., 36., 40., 44., 48.,\n",
       "       52., 56., 60.])"
      ]
     },
     "execution_count": 257,
     "metadata": {},
     "output_type": "execute_result"
    }
   ],
   "source": [
    "np.linspace(0, 60, 16)"
   ]
  },
  {
   "cell_type": "code",
   "execution_count": 152,
   "metadata": {},
   "outputs": [],
   "source": [
    "df = pd.read_csv('../../data/flight_delays_train.csv')\n",
    "y_train = df['dep_delayed_15min'].map({'Y': 1, 'N': 0})\n",
    "df.drop(\"dep_delayed_15min\", axis=1, inplace=True)\n",
    "test_df = pd.read_csv('../../data/flight_delays_test.csv')\n",
    "split = df.shape[0]"
   ]
  },
  {
   "cell_type": "code",
   "execution_count": 5,
   "metadata": {
    "scrolled": true
   },
   "outputs": [
    {
     "data": {
      "text/html": [
       "<div>\n",
       "<style scoped>\n",
       "    .dataframe tbody tr th:only-of-type {\n",
       "        vertical-align: middle;\n",
       "    }\n",
       "\n",
       "    .dataframe tbody tr th {\n",
       "        vertical-align: top;\n",
       "    }\n",
       "\n",
       "    .dataframe thead th {\n",
       "        text-align: right;\n",
       "    }\n",
       "</style>\n",
       "<table border=\"1\" class=\"dataframe\">\n",
       "  <thead>\n",
       "    <tr style=\"text-align: right;\">\n",
       "      <th></th>\n",
       "      <th>Month</th>\n",
       "      <th>DayofMonth</th>\n",
       "      <th>DayOfWeek</th>\n",
       "      <th>DepTime</th>\n",
       "      <th>UniqueCarrier</th>\n",
       "      <th>Origin</th>\n",
       "      <th>Dest</th>\n",
       "      <th>Distance</th>\n",
       "    </tr>\n",
       "  </thead>\n",
       "  <tbody>\n",
       "    <tr>\n",
       "      <th>0</th>\n",
       "      <td>c-8</td>\n",
       "      <td>c-21</td>\n",
       "      <td>c-7</td>\n",
       "      <td>1934</td>\n",
       "      <td>AA</td>\n",
       "      <td>ATL</td>\n",
       "      <td>DFW</td>\n",
       "      <td>732</td>\n",
       "    </tr>\n",
       "    <tr>\n",
       "      <th>1</th>\n",
       "      <td>c-4</td>\n",
       "      <td>c-20</td>\n",
       "      <td>c-3</td>\n",
       "      <td>1548</td>\n",
       "      <td>US</td>\n",
       "      <td>PIT</td>\n",
       "      <td>MCO</td>\n",
       "      <td>834</td>\n",
       "    </tr>\n",
       "  </tbody>\n",
       "</table>\n",
       "</div>"
      ],
      "text/plain": [
       "  Month DayofMonth DayOfWeek  DepTime UniqueCarrier Origin Dest  Distance\n",
       "0   c-8       c-21       c-7     1934            AA    ATL  DFW       732\n",
       "1   c-4       c-20       c-3     1548            US    PIT  MCO       834"
      ]
     },
     "execution_count": 5,
     "metadata": {},
     "output_type": "execute_result"
    }
   ],
   "source": [
    "df.head(2)"
   ]
  },
  {
   "cell_type": "code",
   "execution_count": 259,
   "metadata": {},
   "outputs": [
    {
     "data": {
      "text/plain": [
       "array([ 0,  1,  2,  3,  4,  5,  7, 12, 13], dtype=int64)"
      ]
     },
     "execution_count": 259,
     "metadata": {},
     "output_type": "execute_result"
    },
    {
     "data": {
      "text/plain": [
       "(200000, 14)"
      ]
     },
     "execution_count": 259,
     "metadata": {},
     "output_type": "execute_result"
    },
    {
     "data": {
      "text/html": [
       "<div>\n",
       "<style scoped>\n",
       "    .dataframe tbody tr th:only-of-type {\n",
       "        vertical-align: middle;\n",
       "    }\n",
       "\n",
       "    .dataframe tbody tr th {\n",
       "        vertical-align: top;\n",
       "    }\n",
       "\n",
       "    .dataframe thead th {\n",
       "        text-align: right;\n",
       "    }\n",
       "</style>\n",
       "<table border=\"1\" class=\"dataframe\">\n",
       "  <thead>\n",
       "    <tr style=\"text-align: right;\">\n",
       "      <th></th>\n",
       "      <th>Month</th>\n",
       "      <th>DayofMonth</th>\n",
       "      <th>DayOfWeek</th>\n",
       "      <th>UniqueCarrier</th>\n",
       "      <th>Origin</th>\n",
       "      <th>Dest</th>\n",
       "      <th>Distance</th>\n",
       "      <th>hour</th>\n",
       "      <th>sin_dep</th>\n",
       "      <th>cos_dep</th>\n",
       "      <th>sin_min</th>\n",
       "      <th>cos_min</th>\n",
       "      <th>fligth</th>\n",
       "      <th>min_bin</th>\n",
       "    </tr>\n",
       "  </thead>\n",
       "  <tbody>\n",
       "    <tr>\n",
       "      <th>0</th>\n",
       "      <td>8</td>\n",
       "      <td>21</td>\n",
       "      <td>7</td>\n",
       "      <td>0</td>\n",
       "      <td>0</td>\n",
       "      <td>0</td>\n",
       "      <td>8.205424</td>\n",
       "      <td>19</td>\n",
       "      <td>-0.917060</td>\n",
       "      <td>0.398749</td>\n",
       "      <td>-0.461093</td>\n",
       "      <td>-0.887352</td>\n",
       "      <td>0</td>\n",
       "      <td>0</td>\n",
       "    </tr>\n",
       "    <tr>\n",
       "      <th>1</th>\n",
       "      <td>4</td>\n",
       "      <td>20</td>\n",
       "      <td>3</td>\n",
       "      <td>1</td>\n",
       "      <td>1</td>\n",
       "      <td>1</td>\n",
       "      <td>8.533211</td>\n",
       "      <td>15</td>\n",
       "      <td>-0.838671</td>\n",
       "      <td>-0.544639</td>\n",
       "      <td>-0.921312</td>\n",
       "      <td>0.388824</td>\n",
       "      <td>1</td>\n",
       "      <td>1</td>\n",
       "    </tr>\n",
       "  </tbody>\n",
       "</table>\n",
       "</div>"
      ],
      "text/plain": [
       "  Month DayofMonth DayOfWeek UniqueCarrier Origin Dest  Distance hour  \\\n",
       "0     8         21         7             0      0    0  8.205424   19   \n",
       "1     4         20         3             1      1    1  8.533211   15   \n",
       "\n",
       "    sin_dep   cos_dep   sin_min   cos_min fligth min_bin  \n",
       "0 -0.917060  0.398749 -0.461093 -0.887352      0       0  \n",
       "1 -0.838671 -0.544639 -0.921312  0.388824      1       1  "
      ]
     },
     "execution_count": 259,
     "metadata": {},
     "output_type": "execute_result"
    }
   ],
   "source": [
    "full_df = pd.concat((df, test_df))\n",
    "\n",
    "clean_data(full_df)\n",
    "encode_and_cat(full_df)\n",
    "\n",
    "X_valid, X_test = full_df[:split].values, full_df[split:].values\n",
    "\n",
    "cat_i = np.where(full_df.dtypes == 'category')[0]\n",
    "cat_i\n",
    "full_df.shape\n",
    "full_df.head(2)"
   ]
  },
  {
   "cell_type": "code",
   "execution_count": 246,
   "metadata": {
    "scrolled": true
   },
   "outputs": [
    {
     "name": "stdout",
     "output_type": "stream",
     "text": [
      "| 1 | 2 | 3 Wall time: 4min 47s\n"
     ]
    }
   ],
   "source": [
    "%%time\n",
    "\n",
    "test_score = []\n",
    "train_score = []\n",
    "\n",
    "skf = StratifiedKFold(n_splits=3, shuffle=True, random_state=17)\n",
    "\n",
    "i = 0\n",
    "for test_index, train_index in skf.split(X_valid, y_train):\n",
    "    print(\"| \", end=\"\")\n",
    "    \n",
    "    X_train_1, X_test_1 = X_valid[train_index, :], X_valid[test_index, :]\n",
    "    y_train_1, y_test_1 = y_train[train_index], y_train[test_index]\n",
    "    \n",
    "    \n",
    "    ctb = CatBoostClassifier(random_seed=17,\n",
    "                              silent=True\n",
    "                             ).fit(X_train_1, y_train_1, cat_features=cat_i)\n",
    "    \n",
    "    test_score.append(\n",
    "        roc_auc_score(y_test_1, ctb.predict_proba(X_test_1)[:, 1]))\n",
    "    \n",
    "    train_score.append(roc_auc_score(y_train_1, ctb.predict_proba(X_train_1)[:, 1]))\n",
    "    \n",
    "    i += 1\n",
    "    print(i, end = \" \")\n",
    "    "
   ]
  },
  {
   "cell_type": "code",
   "execution_count": 247,
   "metadata": {},
   "outputs": [],
   "source": [
    "iter_ = list(iter_)"
   ]
  },
  {
   "cell_type": "code",
   "execution_count": 248,
   "metadata": {},
   "outputs": [],
   "source": [
    "iter_.append((round(np.mean(train_score), 4), round(np.mean(test_score), 4)))"
   ]
  },
  {
   "cell_type": "code",
   "execution_count": 249,
   "metadata": {},
   "outputs": [
    {
     "data": {
      "text/plain": [
       "(0.8946, 0.7593)"
      ]
     },
     "execution_count": 249,
     "metadata": {},
     "output_type": "execute_result"
    }
   ],
   "source": [
    "iter_[-1]"
   ]
  },
  {
   "cell_type": "code",
   "execution_count": 254,
   "metadata": {},
   "outputs": [
    {
     "name": "stdout",
     "output_type": "stream",
     "text": [
      "0.8946  - train score\n",
      "0.7593  - test score\n",
      "(22.173083746971013, 'hour')\n",
      "(16.141473159153755, 'sin_dep')\n",
      "(7.879744134822999, 'fligth')\n",
      "(7.843237568839788, 'UniqueCarrier')\n",
      "(7.534930357683685, 'cos_dep')\n",
      "(5.769624028961345, 'Origin')\n",
      "(5.709851552224272, 'Month')\n",
      "(5.671891250750389, 'min_bin')\n",
      "(5.051673037752345, 'Dest')\n",
      "(4.318787824512003, 'DayOfWeek')\n",
      "(4.062499677779063, 'DayofMonth')\n",
      "(3.7300075416139236, 'Distance')\n",
      "(2.6230524831942863, 'sin_min')\n",
      "(1.4901436357411495, 'cos_min')\n"
     ]
    }
   ],
   "source": [
    "# sin cos for Dep, min; not union; drop dep min\n",
    "print(round(np.mean(train_score), 4), \" - train score\")\n",
    "print(round(np.mean(test_score), 4), \" - test score\")\n",
    "print(*sorted(zip(ctb.get_feature_importance(), full_df.columns), reverse=True), sep=\"\\n\")"
   ]
  },
  {
   "cell_type": "code",
   "execution_count": 230,
   "metadata": {},
   "outputs": [
    {
     "name": "stdout",
     "output_type": "stream",
     "text": [
      "0.9116  - train score\n",
      "0.7629  - test score\n",
      "(39.66486270413477, 'hour')\n",
      "(9.039420609905449, 'fligth')\n",
      "(7.785079253737167, 'UniqueCarrier')\n",
      "(6.986684759968997, 'min_bin')\n",
      "(6.909581244961064, 'Origin')\n",
      "(5.585541078110488, 'Month')\n",
      "(4.577477374200154, 'DayOfWeek')\n",
      "(4.107333405890015, 'Dest')\n",
      "(3.651349099280401, 'DayofMonth')\n",
      "(3.482232154145171, 'Distance')\n",
      "(3.1605645013757893, 'sin_cos_dep')\n",
      "(2.723596750506407, 'sin_min')\n",
      "(1.216374431607695, 'sin_cos_min')\n",
      "(1.1099026321763836, 'cos_min')\n"
     ]
    }
   ],
   "source": [
    "# union sin cos min\n",
    "print(round(np.mean(train_score), 4), \" - train score\")\n",
    "print(round(np.mean(test_score), 4), \" - test score\")\n",
    "print(*sorted(zip(ctb.get_feature_importance(), full_df.columns), reverse=True), sep=\"\\n\")"
   ]
  },
  {
   "cell_type": "code",
   "execution_count": 107,
   "metadata": {},
   "outputs": [
    {
     "name": "stdout",
     "output_type": "stream",
     "text": [
      "Wall time: 2min 46s\n"
     ]
    },
    {
     "data": {
      "text/plain": [
       "<catboost.core.CatBoostClassifier at 0x4dbf3e80>"
      ]
     },
     "execution_count": 107,
     "metadata": {},
     "output_type": "execute_result"
    }
   ],
   "source": [
    "%%time\n",
    "ctb.fit(X_valid, y_train,\n",
    "        cat_features=cat_i);"
   ]
  },
  {
   "cell_type": "code",
   "execution_count": 119,
   "metadata": {},
   "outputs": [
    {
     "data": {
      "text/plain": [
       "0.9618614095117225"
      ]
     },
     "execution_count": 119,
     "metadata": {},
     "output_type": "execute_result"
    }
   ],
   "source": [
    "ctb_test_pred = ctb.predict_proba(X_test)[:, 1]\n",
    "roc_auc_score(y_train, ctb.predict_proba(X_valid)[:, 1])"
   ]
  },
  {
   "cell_type": "code",
   "execution_count": 114,
   "metadata": {},
   "outputs": [],
   "source": [
    "with warnings.catch_warnings():\n",
    "    warnings.simplefilter(\"ignore\")\n",
    "    \n",
    "    sample_sub = pd.read_csv('../../data/sample_submission.csv', \n",
    "                             index_col='id')\n",
    "    sample_sub['dep_delayed_15min'] = ctb_test_pred\n",
    "    sample_sub.to_csv('add only min_bin.csv')"
   ]
  },
  {
   "cell_type": "code",
   "execution_count": 253,
   "metadata": {
    "scrolled": false
   },
   "outputs": [
    {
     "data": {
      "image/png": "[encoded data removed]",
      "text/plain": [
       "<Figure size 900x600 with 1 Axes>"
      ]
     },
     "metadata": {
      "needs_background": "light"
     },
     "output_type": "display_data"
    }
   ],
   "source": [
    "iter_ = np.array(iter_)\n",
    "x = np.arange(len(iter_))\n",
    "plt.figure(dpi=150)\n",
    "plt.plot(x, iter_[:, 0], label=\"train\");\n",
    "plt.plot(x, iter_[:, 1], label=\"test\");\n",
    "plt.ylabel(\"Roc auc score\");\n",
    "plt.xlabel(\"iteration of feature engineering\");\n",
    "plt.xticks(x, x_ticks.split(), rotation=90)\n",
    "plt.grid(True)\n",
    "plt.legend();"
   ]
  },
  {
   "cell_type": "code",
   "execution_count": 232,
   "metadata": {},
   "outputs": [
    {
     "data": {
      "text/plain": [
       "array([[0.828 , 0.7429],\n",
       "       [0.8218, 0.7433],\n",
       "       [0.857 , 0.752 ],\n",
       "       [0.865 , 0.7538],\n",
       "       [0.8769, 0.7577],\n",
       "       [0.8871, 0.7583],\n",
       "       [0.8895, 0.7626],\n",
       "       [0.9335, 0.766 ],\n",
       "       [0.9358, 0.767 ],\n",
       "       [0.9158, 0.7649],\n",
       "       [0.9127, 0.763 ],\n",
       "       [0.9264, 0.7638],\n",
       "       [0.9471, 0.7651],\n",
       "       [0.9116, 0.7629]])"
      ]
     },
     "execution_count": 232,
     "metadata": {},
     "output_type": "execute_result"
    }
   ],
   "source": [
    "iter_ = np.array(iter_)\n",
    "iter_"
   ]
  },
  {
   "cell_type": "code",
   "execution_count": 252,
   "metadata": {},
   "outputs": [],
   "source": [
    "iter_ = [[0.828 , 0.7429], # initial \n",
    "[0.8218, 0.7433], # -- 3 add sin cos time dep, drop changed Deptime\n",
    "[0.857 , 0.752 ], # -- 4 add hour as cat\n",
    "[0.865 , 0.7538], # -- 7 add lfight\n",
    "[0.8769, 0.7577], # -- add minutes as num\n",
    "[0.8871, 0.7583], # -- hour, minute, sin cos of chancheg deptime - beat baseline \n",
    "[0.8895, 0.7626], # -- origin_h, carrier_h - 0.75797\n",
    "[0.9335, 0.766 ], # -- drop early, add min_bin - 0.76\n",
    "[0.9358, 0.767 ], # -- union sin cos (minutes)\n",
    "[0.9158, 0.7649], # -- some fix, sin cos for deptime\n",
    "[0.9127, 0.7630], # --  drop sin cos, union sin_cos\n",
    "[0.9264, 0.7638], # ---  drop DepTime with union \n",
    "[0.9471, 0.7651], # -- add sin cos for min\n",
    "[0.9116, 0.7629], # -- union sin cos min\n",
    "        ] \n",
    "x_ticks = \\\n",
    "'''\n",
    "initial sec,cos hour flight minutes recalculate\n",
    "o_h,c_h min_bin sin_cos fix_sin_cos union_sin_cos drop_DepTime\n",
    "sin_and_cos_min union_sin_cos_min si_cos_all\n",
    "'''"
   ]
  }
 ],
 "metadata": {
  "kernelspec": {
   "display_name": "Python 3",
   "language": "python",
   "name": "python3"
  },
  "language_info": {
   "codemirror_mode": {
    "name": "ipython",
    "version": 3
   },
   "file_extension": ".py",
   "mimetype": "text/x-python",
   "name": "python",
   "nbconvert_exporter": "python",
   "pygments_lexer": "ipython3",
   "version": "3.6.8"
  }
 },
 "nbformat": 4,
 "nbformat_minor": 2
}
