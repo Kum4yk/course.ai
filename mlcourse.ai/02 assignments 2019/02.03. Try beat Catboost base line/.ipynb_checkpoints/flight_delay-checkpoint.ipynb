{
 "cells": [
  {
   "cell_type": "code",
   "execution_count": 1,
   "metadata": {},
   "outputs": [],
   "source": [
    "import pandas as pd\n",
    "import numpy as np\n",
    "import matplotlib as plt\n",
    "from sklearn.model_selection import train_test_split, StratifiedKFold, RandomizedSearchCV\n",
    "from catboost import CatBoostClassifier, Pool\n",
    "from sklearn.metrics import roc_auc_score\n",
    "from category_encoders import TargetEncoder\n",
    "import warnings"
   ]
  },
  {
   "cell_type": "code",
   "execution_count": 2,
   "metadata": {},
   "outputs": [],
   "source": [
    "def cross_validation (X_train, X_valid, y_train, categ_feat_idx):\n",
    "    n_fold = 5 \n",
    "    folds = StratifiedKFold(n_splits=n_fold, shuffle=True, random_state=12)\n",
    "\n",
    "    params = {'loss_function':'Logloss',\n",
    "              'eval_metric':'AUC',\n",
    "              'verbose': 100,\n",
    "              'random_seed': 12,\n",
    "              'depth': 7,\n",
    "              'iterations': 2000,\n",
    "              'learning_rate': 0.06,\n",
    "             }\n",
    "\n",
    "    test_data = Pool(data=X_valid,\n",
    "                     cat_features=categ_feat_idx)\n",
    "\n",
    "    scores = []\n",
    "    prediction = np.zeros(X_valid.shape[0])\n",
    "    for fold_n, (train_index, valid_index) in enumerate(folds.split(X_train, y_train)):\n",
    "    \n",
    "        X_train_fold, X_valid_fold = X_train.iloc[train_index], X_train.iloc[valid_index] \n",
    "        y_train_fold, y_valid_fold = y_train.iloc[train_index], y_train.iloc[valid_index]\n",
    "   \n",
    "        train_data = Pool(data=X_train_fold, \n",
    "                          label=y_train_fold,\n",
    "                          cat_features=categ_feat_idx)\n",
    "        valid_data = Pool(data=X_valid_fold, \n",
    "                          label=y_valid_fold,\n",
    "                          cat_features=categ_feat_idx)\n",
    "     \n",
    "        model = CatBoostClassifier(**params, task_type = \"GPU\")\n",
    "        model.fit(train_data,\n",
    "                  eval_set=valid_data, \n",
    "                  use_best_model=True,\n",
    "                  early_stopping_rounds=20\n",
    "                 )\n",
    "    \n",
    "        score = model.get_best_score()['validation']['AUC']\n",
    "        scores.append(score)\n",
    "\n",
    "        y_pred = model.predict_proba(X_valid)[:, 1]\n",
    "        prediction += y_pred\n",
    "        print(model.feature_importances_)\n",
    "    prediction /= n_fold\n",
    "    print(scores)\n",
    "    print(np.mean(scores), np.std(scores))\n",
    "    return prediction"
   ]
  },
  {
   "cell_type": "code",
   "execution_count": 3,
   "metadata": {},
   "outputs": [],
   "source": [
    "def add_feature_w_prop (X, X_test, feature_name):\n",
    "\n",
    "    rating_df = pd.crosstab(X['dep_delayed_15min'], X[feature_name], normalize='columns').iloc[1,:]\n",
    "\n",
    "    \n",
    "    rating = {}\n",
    "    for key, item in zip(list(rating_df.index), rating_df.values):\n",
    "        rating[key] = item\n",
    "    \n",
    "    X[feature_name+'DelayProp'] = X[feature_name].map(rating)\n",
    "    X_test[feature_name+'DelayProp'] = X_test[feature_name].map(rating)\n",
    "    return X, X_test"
   ]
  },
  {
   "cell_type": "code",
   "execution_count": 4,
   "metadata": {},
   "outputs": [],
   "source": [
    "df = pd.read_csv('flight_delays_train.csv')\n",
    "df['dep_delayed_15min'] = df['dep_delayed_15min'].map({'N':0, 'Y':1})\n",
    "X_test = pd.read_csv('flight_delays_test.csv')\n"
   ]
  },
  {
   "cell_type": "code",
   "execution_count": 5,
   "metadata": {},
   "outputs": [],
   "source": [
    "X = df.copy()"
   ]
  },
  {
   "cell_type": "code",
   "execution_count": null,
   "metadata": {},
   "outputs": [],
   "source": []
  },
  {
   "cell_type": "code",
   "execution_count": 6,
   "metadata": {},
   "outputs": [],
   "source": [
    "X['flightBy'] = X['Origin'] + '-->' + X['Dest'] + 'by' + X['UniqueCarrier']\n",
    "X_test['flightBy'] = X_test['Origin'] + '-->' + X_test['Dest'] + 'by' + X_test['UniqueCarrier']\n",
    "\n",
    "\n",
    "X['DepTime_hour'] = X['DepTime'].apply(lambda x: (x)//100)\n",
    "X_test['DepTime_hour'] = X_test['DepTime'].apply(lambda x: (x)//100)\n",
    "X['Minute'] = X['DepTime_hour']*60 + X['DepTime'] % 100\n",
    "\n",
    "\n",
    "#X_test['DepTime_minute'] = X_test['DepTime'] % 100\n",
    "X_test['Minute'] = X_test['DepTime_hour']*60 + X_test['DepTime'] % 100\n",
    "\n",
    "\n",
    "X['DepTime_2hour'] = X['Minute'].apply(lambda x: x//120)\n",
    "X_test['DepTime_2hour'] = X_test['Minute'].apply(lambda x: x//120)\n",
    "\n",
    "X['DepTime_2hour'] = X['Minute'].apply(lambda x: x//120)\n",
    "X_test['DepTime_2hour'] = X_test['Minute'].apply(lambda x: x//120)\n",
    "\n",
    "X['DepTime_2hour_intersection'] = X['Minute'].apply(lambda x: (x-60)//120 +1)\n",
    "X_test['DepTime_2hour_intersection'] = X_test['Minute'].apply(lambda x: (x-60)//120 +1)\n",
    "\n",
    "X['DepTime_hour_intersection'] = X['Minute'].apply(lambda x: (x-30)//60 +1)\n",
    "X_test['DepTime_hour_intersection'] = X_test['Minute'].apply(lambda x: (x-30)//60 +1)\n",
    "\n",
    "X['DepTime_3hour'] = X['Minute'].apply(lambda x: (x)//180)\n",
    "X_test['DepTime_3hour'] = X_test['Minute'].apply(lambda x: (x)//180)\n",
    "\n",
    "X['DepTime_3hour_intersection'] = X['Minute'].apply(lambda x: (x-90)//180 + 1)\n",
    "X_test['DepTime_3hour_intersection'] = X_test['Minute'].apply(lambda x: (x-90)//180 + 1)"
   ]
  },
  {
   "cell_type": "code",
   "execution_count": 7,
   "metadata": {},
   "outputs": [],
   "source": [
    "X, X_test = add_feature_w_prop(X, X_test, 'UniqueCarrier')\n"
   ]
  },
  {
   "cell_type": "code",
   "execution_count": 8,
   "metadata": {},
   "outputs": [],
   "source": [
    "y = X['dep_delayed_15min']\n",
    "X.drop(columns='dep_delayed_15min', inplace=True)"
   ]
  },
  {
   "cell_type": "code",
   "execution_count": 9,
   "metadata": {},
   "outputs": [],
   "source": [
    "X['train'] = 1\n",
    "X_test['train'] = 0\n",
    "combined = pd.concat([X, X_test], sort=False)"
   ]
  },
  {
   "cell_type": "code",
   "execution_count": 10,
   "metadata": {},
   "outputs": [],
   "source": [
    "\n",
    "combined['diff_w_min'] = combined['Minute'] - combined.groupby(['flightBy', 'DepTime_hour'])['Minute'].transform(min)\n",
    "combined['diff_w_min_1'] = combined['Minute'] - combined.groupby(['flightBy', 'DepTime_hour_intersection'])['Minute'].transform(min)\n",
    "combined['diff_w_min2'] = combined['Minute'] - combined.groupby(['flightBy', 'DepTime_2hour'])['Minute'].transform(min)\n",
    "combined['diff_w_min2_1'] = combined['Minute'] - combined.groupby(['flightBy', 'DepTime_2hour_intersection'])['Minute'].transform(min)\n",
    "combined['diff_w_min3'] = combined['Minute'] - combined.groupby(['flightBy', 'DepTime_3hour'])['Minute'].transform(min)\n",
    "combined['diff_w_min3_1'] = combined['Minute'] - combined.groupby(['flightBy', 'DepTime_3hour_intersection'])['Minute'].transform(min)"
   ]
  },
  {
   "cell_type": "code",
   "execution_count": null,
   "metadata": {},
   "outputs": [],
   "source": []
  },
  {
   "cell_type": "code",
   "execution_count": 11,
   "metadata": {},
   "outputs": [
    {
     "name": "stderr",
     "output_type": "stream",
     "text": [
      "C:\\Users\\greknew\\AppData\\Local\\Continuum\\anaconda3\\lib\\site-packages\\pandas\\core\\frame.py:3940: SettingWithCopyWarning: \n",
      "A value is trying to be set on a copy of a slice from a DataFrame\n",
      "\n",
      "See the caveats in the documentation: http://pandas.pydata.org/pandas-docs/stable/indexing.html#indexing-view-versus-copy\n",
      "  errors=errors)\n"
     ]
    }
   ],
   "source": [
    "X = combined[combined['train'] == 1]\n",
    "X_test = combined[combined['train'] == 0]\n",
    "X.drop(columns='train', inplace=True)\n",
    "X_test.drop(columns='train', inplace=True)"
   ]
  },
  {
   "cell_type": "code",
   "execution_count": 19,
   "metadata": {},
   "outputs": [],
   "source": [
    "cols = [\n",
    "         'Month', \n",
    "         \"DayofMonth\", \n",
    "         'DayOfWeek', \n",
    "         'UniqueCarrier', \n",
    "         \"Origin\", \n",
    " #        'Dest', \n",
    " \n",
    "         'DepTime_hour', \n",
    "         'UniqueCarrierDelayProp', \n",
    "         'flightBy', \n",
    "\n",
    "         'diff_w_min',\n",
    "         'diff_w_min2',\n",
    "         'diff_w_min2_1',\n",
    "         'diff_w_min_1',\n",
    "         'diff_w_min3_1',\n",
    "         'diff_w_min3',\n",
    "         ]"
   ]
  },
  {
   "cell_type": "code",
   "execution_count": 20,
   "metadata": {},
   "outputs": [],
   "source": [
    "X_ = X[cols]\n",
    "\n",
    "\n"
   ]
  },
  {
   "cell_type": "code",
   "execution_count": 21,
   "metadata": {},
   "outputs": [],
   "source": [
    "###categorical columns for catboost\n",
    "categ_feat_idx = np.where(X_.dtypes == 'object')[0]\n"
   ]
  },
  {
   "cell_type": "code",
   "execution_count": 22,
   "metadata": {},
   "outputs": [],
   "source": [
    "X_train, X_valid, y_train, y_valid = train_test_split(X_, y, test_size=0.3, random_state=12)"
   ]
  },
  {
   "cell_type": "code",
   "execution_count": 23,
   "metadata": {
    "scrolled": true
   },
   "outputs": [
    {
     "name": "stdout",
     "output_type": "stream",
     "text": [
      "0:\tlearn: 0.7458495\ttest: 0.7405171\tbest: 0.7405171 (0)\ttotal: 53.4ms\tremaining: 1m 46s\n",
      "100:\tlearn: 0.8305536\ttest: 0.8151867\tbest: 0.8152268 (99)\ttotal: 5.62s\tremaining: 1m 45s\n",
      "200:\tlearn: 0.8452354\ttest: 0.8201033\tbest: 0.8201097 (198)\ttotal: 11.3s\tremaining: 1m 40s\n",
      "300:\tlearn: 0.8575328\ttest: 0.8238963\tbest: 0.8238963 (300)\ttotal: 16.7s\tremaining: 1m 34s\n",
      "400:\tlearn: 0.8685365\ttest: 0.8256580\tbest: 0.8256605 (399)\ttotal: 21.9s\tremaining: 1m 27s\n",
      "bestTest = 0.8258501887\n",
      "bestIteration = 403\n",
      "Shrink model to first 404 iterations.\n",
      "[ 4.53471571  3.97048491  3.72670084  3.60185743  4.23272042 21.36537096\n",
      "  2.42484419  6.56718677  8.39256688  7.75977232  7.88747486 11.48605369\n",
      "  6.90346586  7.14678517]\n",
      "0:\tlearn: 0.7529227\ttest: 0.7511255\tbest: 0.7511255 (0)\ttotal: 57.5ms\tremaining: 1m 54s\n",
      "100:\tlearn: 0.8287400\ttest: 0.8198538\tbest: 0.8198538 (100)\ttotal: 5.62s\tremaining: 1m 45s\n",
      "200:\tlearn: 0.8438101\ttest: 0.8244916\tbest: 0.8244916 (200)\ttotal: 11.2s\tremaining: 1m 39s\n",
      "300:\tlearn: 0.8564163\ttest: 0.8274172\tbest: 0.8274172 (300)\ttotal: 16.5s\tremaining: 1m 33s\n",
      "400:\tlearn: 0.8670905\ttest: 0.8286443\tbest: 0.8286443 (400)\ttotal: 21.8s\tremaining: 1m 26s\n",
      "500:\tlearn: 0.8763475\ttest: 0.8295034\tbest: 0.8295034 (500)\ttotal: 27.1s\tremaining: 1m 21s\n",
      "600:\tlearn: 0.8858632\ttest: 0.8303614\tbest: 0.8304045 (596)\ttotal: 32.3s\tremaining: 1m 15s\n",
      "700:\tlearn: 0.8948773\ttest: 0.8310487\tbest: 0.8311005 (685)\ttotal: 37.6s\tremaining: 1m 9s\n",
      "bestTest = 0.8311005235\n",
      "bestIteration = 685\n",
      "Shrink model to first 686 iterations.\n",
      "[ 5.06745083  5.40286999  3.93519318  4.64970078  4.83463795 17.99617836\n",
      "  2.76922157  8.37711469  8.43041807  6.77477036  7.64960123 11.73370074\n",
      "  7.03767633  5.34146592]\n",
      "0:\tlearn: 0.7508720\ttest: 0.7518479\tbest: 0.7518479 (0)\ttotal: 55ms\tremaining: 1m 50s\n",
      "100:\tlearn: 0.8271112\ttest: 0.8171624\tbest: 0.8171624 (100)\ttotal: 5.68s\tremaining: 1m 46s\n",
      "200:\tlearn: 0.8424339\ttest: 0.8234069\tbest: 0.8234069 (200)\ttotal: 11.1s\tremaining: 1m 39s\n",
      "300:\tlearn: 0.8550113\ttest: 0.8273106\tbest: 0.8273106 (300)\ttotal: 16.5s\tremaining: 1m 32s\n",
      "400:\tlearn: 0.8661280\ttest: 0.8292945\tbest: 0.8292945 (400)\ttotal: 21.8s\tremaining: 1m 27s\n",
      "500:\tlearn: 0.8758792\ttest: 0.8308386\tbest: 0.8308386 (500)\ttotal: 27.2s\tremaining: 1m 21s\n",
      "600:\tlearn: 0.8845498\ttest: 0.8315489\tbest: 0.8316025 (596)\ttotal: 32.4s\tremaining: 1m 15s\n",
      "700:\tlearn: 0.8926961\ttest: 0.8324286\tbest: 0.8324859 (695)\ttotal: 37.7s\tremaining: 1m 9s\n",
      "bestTest = 0.832926929\n",
      "bestIteration = 732\n",
      "Shrink model to first 733 iterations.\n",
      "[ 5.46851874  5.06983007  4.01950326  4.52821239  5.16516591 18.66588472\n",
      "  2.93441955  8.45576361  7.89516643  7.06761127  7.49267967 10.3017827\n",
      "  6.32035536  6.6151063 ]\n",
      "0:\tlearn: 0.7460617\ttest: 0.6643513\tbest: 0.6643513 (0)\ttotal: 54.3ms\tremaining: 1m 48s\n",
      "100:\tlearn: 0.8293198\ttest: 0.8186117\tbest: 0.8186117 (100)\ttotal: 5.58s\tremaining: 1m 44s\n",
      "200:\tlearn: 0.8448541\ttest: 0.8238693\tbest: 0.8238693 (200)\ttotal: 11.1s\tremaining: 1m 38s\n",
      "300:\tlearn: 0.8578131\ttest: 0.8263755\tbest: 0.8263755 (300)\ttotal: 16.5s\tremaining: 1m 32s\n",
      "bestTest = 0.8280406594\n",
      "bestIteration = 377\n",
      "Shrink model to first 378 iterations.\n",
      "[ 4.16224976  3.36278397  3.32600323  4.00731647  3.92440401 21.55037916\n",
      "  2.79845988  6.75880376  8.34952951  8.32849671  8.81140675 12.32024625\n",
      "  6.0341298   6.26579074]\n",
      "0:\tlearn: 0.7506400\ttest: 0.7157204\tbest: 0.7157204 (0)\ttotal: 65.8ms\tremaining: 2m 11s\n",
      "100:\tlearn: 0.8275696\ttest: 0.8247541\tbest: 0.8247541 (100)\ttotal: 5.64s\tremaining: 1m 46s\n",
      "200:\tlearn: 0.8421547\ttest: 0.8295807\tbest: 0.8295807 (200)\ttotal: 11.2s\tremaining: 1m 40s\n",
      "300:\tlearn: 0.8543921\ttest: 0.8318623\tbest: 0.8318989 (297)\ttotal: 16.5s\tremaining: 1m 33s\n",
      "400:\tlearn: 0.8648742\ttest: 0.8329191\tbest: 0.8329553 (394)\ttotal: 21.9s\tremaining: 1m 27s\n",
      "500:\tlearn: 0.8745896\ttest: 0.8340599\tbest: 0.8340746 (498)\ttotal: 27.2s\tremaining: 1m 21s\n",
      "bestTest = 0.83422786\n",
      "bestIteration = 519\n",
      "Shrink model to first 520 iterations.\n",
      "[ 4.49201117  4.6728768   3.36061945  3.94741757  5.15334868 19.84873591\n",
      "  2.74525395  7.41878439  7.63589584  7.74027303  8.65974524 12.57040934\n",
      "  6.44902175  5.30560689]\n",
      "[0.8258501887321472, 0.8311005234718323, 0.8329269289970398, 0.8280406594276428, 0.8342278599739075]\n",
      "0.8304292321205139 0.0030916537062101097\n"
     ]
    }
   ],
   "source": [
    "valid_pred = cross_validation(X_train[cols], X_valid[cols], y_train, categ_feat_idx)"
   ]
  },
  {
   "cell_type": "code",
   "execution_count": 24,
   "metadata": {},
   "outputs": [
    {
     "data": {
      "text/plain": [
       "0.8342459175770102"
      ]
     },
     "execution_count": 24,
     "metadata": {},
     "output_type": "execute_result"
    }
   ],
   "source": [
    "roc_auc_score(y_valid, valid_pred)\n"
   ]
  },
  {
   "cell_type": "code",
   "execution_count": 25,
   "metadata": {
    "scrolled": true
   },
   "outputs": [
    {
     "name": "stdout",
     "output_type": "stream",
     "text": [
      "0:\tlearn: 0.7491795\ttest: 0.7555883\tbest: 0.7555883 (0)\ttotal: 64ms\tremaining: 2m 7s\n",
      "100:\tlearn: 0.8317708\ttest: 0.8257467\tbest: 0.8257467 (100)\ttotal: 6.3s\tremaining: 1m 58s\n",
      "200:\tlearn: 0.8449551\ttest: 0.8321395\tbest: 0.8321395 (200)\ttotal: 12.6s\tremaining: 1m 52s\n",
      "300:\tlearn: 0.8550577\ttest: 0.8362761\tbest: 0.8362761 (300)\ttotal: 18.7s\tremaining: 1m 45s\n",
      "400:\tlearn: 0.8640405\ttest: 0.8383698\tbest: 0.8383698 (400)\ttotal: 24.8s\tremaining: 1m 38s\n",
      "500:\tlearn: 0.8713101\ttest: 0.8398003\tbest: 0.8398003 (500)\ttotal: 30.6s\tremaining: 1m 31s\n",
      "600:\tlearn: 0.8778879\ttest: 0.8407631\tbest: 0.8407644 (599)\ttotal: 36.5s\tremaining: 1m 24s\n",
      "bestTest = 0.8413373828\n",
      "bestIteration = 677\n",
      "Shrink model to first 678 iterations.\n",
      "[ 4.43405458  3.59437124  3.92631417  4.39374371  3.96233974 20.57570603\n",
      "  2.26884426  8.66093005  8.50300286  8.39818904  7.66754306 10.6342488\n",
      "  7.53930245  5.44141   ]\n",
      "0:\tlearn: 0.7489627\ttest: 0.7472855\tbest: 0.7472855 (0)\ttotal: 68.1ms\tremaining: 2m 16s\n",
      "100:\tlearn: 0.8308379\ttest: 0.8246260\tbest: 0.8246260 (100)\ttotal: 6.24s\tremaining: 1m 57s\n",
      "200:\tlearn: 0.8446824\ttest: 0.8316951\tbest: 0.8316951 (200)\ttotal: 12.3s\tremaining: 1m 49s\n",
      "300:\tlearn: 0.8556148\ttest: 0.8356590\tbest: 0.8356590 (300)\ttotal: 18.1s\tremaining: 1m 42s\n",
      "400:\tlearn: 0.8642370\ttest: 0.8376576\tbest: 0.8376576 (400)\ttotal: 24.3s\tremaining: 1m 36s\n",
      "500:\tlearn: 0.8725791\ttest: 0.8388478\tbest: 0.8388478 (500)\ttotal: 30.1s\tremaining: 1m 30s\n",
      "600:\tlearn: 0.8798419\ttest: 0.8400413\tbest: 0.8400413 (600)\ttotal: 36s\tremaining: 1m 23s\n",
      "bestTest = 0.8400455117\n",
      "bestIteration = 601\n",
      "Shrink model to first 602 iterations.\n",
      "[ 4.31863421  3.4666248   3.39553609  3.74029991  4.29560584 19.85332002\n",
      "  2.77538283  9.64284695  7.60141215  7.37054356  7.43633923 10.88042771\n",
      "  7.80265613  7.42037057]\n",
      "0:\tlearn: 0.7544545\ttest: 0.7466536\tbest: 0.7466536 (0)\ttotal: 63.4ms\tremaining: 2m 6s\n",
      "100:\tlearn: 0.8321088\ttest: 0.8225848\tbest: 0.8225848 (100)\ttotal: 6.37s\tremaining: 1m 59s\n",
      "200:\tlearn: 0.8454024\ttest: 0.8295208\tbest: 0.8295208 (200)\ttotal: 12.7s\tremaining: 1m 53s\n",
      "300:\tlearn: 0.8565452\ttest: 0.8332012\tbest: 0.8332012 (300)\ttotal: 18.6s\tremaining: 1m 44s\n",
      "400:\tlearn: 0.8645706\ttest: 0.8353665\tbest: 0.8353665 (400)\ttotal: 24.5s\tremaining: 1m 37s\n",
      "500:\tlearn: 0.8725597\ttest: 0.8368240\tbest: 0.8368335 (498)\ttotal: 30.5s\tremaining: 1m 31s\n",
      "bestTest = 0.8370568752\n",
      "bestIteration = 516\n",
      "Shrink model to first 517 iterations.\n",
      "[ 4.20411896  3.46665917  3.32435366  3.61653666  3.8579821  21.74012517\n",
      "  2.23785423  8.34540148  7.90939447  7.17977186  7.58982825 12.44120901\n",
      "  6.99321916  7.09354582]\n",
      "0:\tlearn: 0.7450442\ttest: 0.7519452\tbest: 0.7519452 (0)\ttotal: 77.1ms\tremaining: 2m 34s\n",
      "100:\tlearn: 0.8307743\ttest: 0.8281611\tbest: 0.8281611 (100)\ttotal: 6.5s\tremaining: 2m 2s\n",
      "200:\tlearn: 0.8431239\ttest: 0.8354499\tbest: 0.8354540 (199)\ttotal: 12.7s\tremaining: 1m 53s\n",
      "300:\tlearn: 0.8536586\ttest: 0.8396661\tbest: 0.8396661 (300)\ttotal: 18.9s\tremaining: 1m 46s\n",
      "400:\tlearn: 0.8621504\ttest: 0.8418551\tbest: 0.8418639 (399)\ttotal: 24.7s\tremaining: 1m 38s\n",
      "500:\tlearn: 0.8701414\ttest: 0.8432382\tbest: 0.8432382 (500)\ttotal: 30.5s\tremaining: 1m 31s\n",
      "600:\tlearn: 0.8769013\ttest: 0.8443612\tbest: 0.8444073 (598)\ttotal: 36.4s\tremaining: 1m 24s\n",
      "700:\tlearn: 0.8835962\ttest: 0.8454339\tbest: 0.8454339 (700)\ttotal: 42.2s\tremaining: 1m 18s\n",
      "800:\tlearn: 0.8897638\ttest: 0.8459828\tbest: 0.8459877 (799)\ttotal: 48s\tremaining: 1m 11s\n",
      "bestTest = 0.846581161\n",
      "bestIteration = 857\n",
      "Shrink model to first 858 iterations.\n",
      "[ 4.85720733  4.16802178  3.66310386  4.68362773  4.81127183 18.73533561\n",
      "  2.70263531  9.63059113  6.91620968  7.07268027  7.76745309 11.27042796\n",
      "  6.96017823  6.76125618]\n",
      "0:\tlearn: 0.7530164\ttest: 0.7234485\tbest: 0.7234485 (0)\ttotal: 68.1ms\tremaining: 2m 16s\n",
      "100:\tlearn: 0.8308321\ttest: 0.8391232\tbest: 0.8391795 (98)\ttotal: 6.32s\tremaining: 1m 58s\n",
      "200:\tlearn: 0.8433624\ttest: 0.8446423\tbest: 0.8446423 (200)\ttotal: 12.3s\tremaining: 1m 50s\n",
      "300:\tlearn: 0.8538701\ttest: 0.8472164\tbest: 0.8472477 (299)\ttotal: 18.2s\tremaining: 1m 42s\n",
      "400:\tlearn: 0.8632944\ttest: 0.8493120\tbest: 0.8493120 (400)\ttotal: 24.1s\tremaining: 1m 36s\n",
      "bestTest = 0.8502325118\n",
      "bestIteration = 470\n",
      "Shrink model to first 471 iterations.\n",
      "[ 4.01781024  2.92293673  3.30412399  3.42520754  3.45052553 21.75783343\n",
      "  2.52399234  8.7901195   7.59196505  7.69338435  8.05564959 11.46903025\n",
      "  7.68160716  7.31581431]\n",
      "[0.8413373827934265, 0.8400455117225647, 0.8370568752288818, 0.8465811610221863, 0.8502325117588043]\n",
      "0.8430506885051727 0.004731492850833889\n"
     ]
    }
   ],
   "source": [
    "test_pred = cross_validation(X[cols], X_test[cols], y, categ_feat_idx)"
   ]
  },
  {
   "cell_type": "code",
   "execution_count": 39,
   "metadata": {},
   "outputs": [],
   "source": [
    "with warnings.catch_warnings():\n",
    "    warnings.simplefilter(\"ignore\")\n",
    "    \n",
    "    sample_sub = pd.read_csv('sample_submission.csv', \n",
    "                             index_col='id')\n",
    "    sample_sub['dep_delayed_15min'] = test_pred\n",
    "    sample_sub.to_csv('ctb_pred.csv')"
   ]
  },
  {
   "cell_type": "code",
   "execution_count": null,
   "metadata": {},
   "outputs": [],
   "source": []
  }
 ],
 "metadata": {
  "kernelspec": {
   "display_name": "Python 3",
   "language": "python",
   "name": "python3"
  },
  "language_info": {
   "codemirror_mode": {
    "name": "ipython",
    "version": 3
   },
   "file_extension": ".py",
   "mimetype": "text/x-python",
   "name": "python",
   "nbconvert_exporter": "python",
   "pygments_lexer": "ipython3",
   "version": "3.6.8"
  }
 },
 "nbformat": 4,
 "nbformat_minor": 2
}
