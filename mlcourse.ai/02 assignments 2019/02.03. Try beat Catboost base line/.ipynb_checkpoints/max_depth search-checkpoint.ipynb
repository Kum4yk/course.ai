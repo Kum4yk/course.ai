{
 "cells": [
  {
   "cell_type": "code",
   "execution_count": 135,
   "metadata": {},
   "outputs": [],
   "source": [
    "import warnings\n",
    "import numpy as np\n",
    "import pandas as pd\n",
    "import catboost\n",
    "\n",
    "from catboost import cv, Pool\n",
    "import matplotlib.pyplot as plt\n",
    "\n",
    "from pathlib import Path\n",
    "from sklearn.model_selection import train_test_split\n",
    "from sklearn.metrics import roc_auc_score, accuracy_score\n",
    "from catboost import CatBoostClassifier\n",
    "from sklearn.model_selection import cross_val_score, StratifiedKFold"
   ]
  },
  {
   "cell_type": "code",
   "execution_count": 35,
   "metadata": {},
   "outputs": [],
   "source": [
    "def cat_clean(train):\n",
    "    train['DayOfWeek'] = train.DayOfWeek.apply(lambda x: int(x.split('-')[1]))\n",
    "    train['Month'] = train.Month.apply(lambda x: int(x.split('-')[1]))\n",
    "    train['DayofMonth'] = train.DayofMonth.apply(lambda x: int(x.split('-')[1]))\n",
    "    \n",
    "    train['Origin'] = train.Origin.apply(lambda x: x if x in origin_list else 'other')\n",
    "\n",
    "    train['Dest'] = train.Dest.apply(lambda x: x if x in dest_list else 'other')\n",
    "        \n",
    "    train['UniqueCarrier'] = train.UniqueCarrier.apply(lambda x: x if x in carriers_list else 'other')\n",
    "\n",
    "    train = pd.get_dummies(train)\n",
    "    return train"
   ]
  },
  {
   "cell_type": "code",
   "execution_count": 143,
   "metadata": {},
   "outputs": [],
   "source": [
    "def create_period_faetures(value, period):\n",
    "    value = value * 2 * np.pi\n",
    "    return np.sin(value/period), np.cos(value/period)\n"
   ]
  },
  {
   "cell_type": "code",
   "execution_count": 149,
   "metadata": {},
   "outputs": [],
   "source": [
    "days_from_start = {\n",
    "    1: 0, 2: 31, 3: 59, 4: 90, 5: 120, 6: 151, 7: 181,\n",
    "    8: 212, 9: 243, 10: 273, 11: 304, 12: 334\n",
    "}\n",
    "\n",
    "days_in_month = {1: 32, 2: 30, 3: 32, 4: 31, 5: 32, 6: 31,\n",
    "                 7: 32, 8: 32, 9: 31, 10: 32, 11: 31, 12: 32\n",
    "                 }\n",
    "\n",
    "to_weekend = {1: 0, 2:0, 3: 0, 4: 0, 5: 0, 6:1, 7:1}\n",
    "\n",
    "\n",
    "\n",
    "def change_data(data):\n",
    "\n",
    "    data.DepTime = (data.DepTime % 2400)\n",
    "    \n",
    "    data[\"hour\"] = data.DepTime // 100\n",
    "    data[\"minutes\"] = data.DepTime % 100\n",
    "    \n",
    "    \n",
    "    data[\"dep_in_minutes\"] = data.hour * 60 + data.minutes\n",
    "    \n",
    "    data[\"day_year\"] = (data.Month.map(days_from_start) + data.DayofMonth) * 24\n",
    "    \n",
    "    data[\"weekend\"] = data.DayOfWeek.map(to_weekend)\n",
    "    \n",
    "    data['sin_dep'], data['cos_dep'] = create_period_faetures(data.dep_in_minutes, 24 * 60)\n",
    "    \n",
    "    data['sin_year'], data['cos_year'] = create_period_faetures(data.min_year, 365 * 24 * 60)\n",
    "    \n",
    "    \n",
    "    # data.DepTime = data.DepTime  // 100 * 60 + data.DepTime % 100\n",
    "    \n",
    "    data.Distance = data.Distance.apply(np.log10)\n",
    "        \n",
    "    for name in \"Month DayofMonth DayOfWeek\".split():\n",
    "        data[name] = data[name].astype(str)\n",
    "        \n",
    "    '''\n",
    "    data[\"days\"] = data.Month.map(days_from_start) + data.DayofMonth\n",
    "\n",
    "    '''"
   ]
  },
  {
   "cell_type": "markdown",
   "metadata": {},
   "source": [
    "**Read the data**"
   ]
  },
  {
   "cell_type": "code",
   "execution_count": 150,
   "metadata": {},
   "outputs": [],
   "source": [
    "train_df = pd.read_csv('../../data/flight_delays_train.csv')\n",
    "test_df = pd.read_csv('../../data/flight_delays_test.csv')\n",
    "\n",
    "train_df.dep_delayed_15min = train_df['dep_delayed_15min'].map({'Y': 1, 'N': 0})"
   ]
  },
  {
   "cell_type": "markdown",
   "metadata": {},
   "source": [
    "origin_list = train_df.Origin.value_counts().head(10).index\n",
    "dest_list = train_df.Dest.value_counts().head(10).index\n",
    "carriers_list = train_df.UniqueCarrier.value_counts().head(10).index\n"
   ]
  },
  {
   "cell_type": "markdown",
   "metadata": {},
   "source": [
    "train_df = cat_clean(train_df)\n",
    "test_df = cat_clean(test_df)"
   ]
  },
  {
   "cell_type": "code",
   "execution_count": 146,
   "metadata": {},
   "outputs": [],
   "source": [
    "train_df['flight'] = train_df['Origin'] + ' --> ' + train_df['Dest']\n",
    "test_df['flight'] = test_df['Origin'] + ' --> ' + test_df['Dest']"
   ]
  },
  {
   "cell_type": "code",
   "execution_count": 151,
   "metadata": {},
   "outputs": [
    {
     "ename": "AttributeError",
     "evalue": "'DataFrame' object has no attribute 'min_year'",
     "output_type": "error",
     "traceback": [
      "\u001b[1;31m---------------------------------------------------------------------------\u001b[0m",
      "\u001b[1;31mAttributeError\u001b[0m                            Traceback (most recent call last)",
      "\u001b[1;32m<ipython-input-151-2b02c43e57e8>\u001b[0m in \u001b[0;36m<module>\u001b[1;34m\u001b[0m\n\u001b[1;32m----> 1\u001b[1;33m \u001b[0mchange_data\u001b[0m\u001b[1;33m(\u001b[0m\u001b[0mtrain_df\u001b[0m\u001b[1;33m)\u001b[0m\u001b[1;33m\u001b[0m\u001b[1;33m\u001b[0m\u001b[0m\n\u001b[0m\u001b[0;32m      2\u001b[0m \u001b[0mchange_data\u001b[0m\u001b[1;33m(\u001b[0m\u001b[0mtest_df\u001b[0m\u001b[1;33m)\u001b[0m\u001b[1;33m\u001b[0m\u001b[1;33m\u001b[0m\u001b[0m\n",
      "\u001b[1;32m<ipython-input-149-595ce88e6812>\u001b[0m in \u001b[0;36mchange_data\u001b[1;34m(data)\u001b[0m\n\u001b[0;32m     28\u001b[0m     \u001b[0mdata\u001b[0m\u001b[1;33m[\u001b[0m\u001b[1;34m'sin_dep'\u001b[0m\u001b[1;33m]\u001b[0m\u001b[1;33m,\u001b[0m \u001b[0mdata\u001b[0m\u001b[1;33m[\u001b[0m\u001b[1;34m'cos_dep'\u001b[0m\u001b[1;33m]\u001b[0m \u001b[1;33m=\u001b[0m \u001b[0mcreate_period_faetures\u001b[0m\u001b[1;33m(\u001b[0m\u001b[0mdata\u001b[0m\u001b[1;33m.\u001b[0m\u001b[0mdep_in_minutes\u001b[0m\u001b[1;33m,\u001b[0m \u001b[1;36m24\u001b[0m \u001b[1;33m*\u001b[0m \u001b[1;36m60\u001b[0m\u001b[1;33m)\u001b[0m\u001b[1;33m\u001b[0m\u001b[1;33m\u001b[0m\u001b[0m\n\u001b[0;32m     29\u001b[0m \u001b[1;33m\u001b[0m\u001b[0m\n\u001b[1;32m---> 30\u001b[1;33m     \u001b[0mdata\u001b[0m\u001b[1;33m[\u001b[0m\u001b[1;34m'sin_year'\u001b[0m\u001b[1;33m]\u001b[0m\u001b[1;33m,\u001b[0m \u001b[0mdata\u001b[0m\u001b[1;33m[\u001b[0m\u001b[1;34m'cos_year'\u001b[0m\u001b[1;33m]\u001b[0m \u001b[1;33m=\u001b[0m \u001b[0mcreate_period_faetures\u001b[0m\u001b[1;33m(\u001b[0m\u001b[0mdata\u001b[0m\u001b[1;33m.\u001b[0m\u001b[0mmin_year\u001b[0m\u001b[1;33m,\u001b[0m \u001b[1;36m365\u001b[0m \u001b[1;33m*\u001b[0m \u001b[1;36m24\u001b[0m \u001b[1;33m*\u001b[0m \u001b[1;36m60\u001b[0m\u001b[1;33m)\u001b[0m\u001b[1;33m\u001b[0m\u001b[1;33m\u001b[0m\u001b[0m\n\u001b[0m\u001b[0;32m     31\u001b[0m \u001b[1;33m\u001b[0m\u001b[0m\n\u001b[0;32m     32\u001b[0m \u001b[1;33m\u001b[0m\u001b[0m\n",
      "\u001b[1;32mD:\\Anaconda3\\envs\\py36_R\\lib\\site-packages\\pandas\\core\\generic.py\u001b[0m in \u001b[0;36m__getattr__\u001b[1;34m(self, name)\u001b[0m\n\u001b[0;32m   5065\u001b[0m             \u001b[1;32mif\u001b[0m \u001b[0mself\u001b[0m\u001b[1;33m.\u001b[0m\u001b[0m_info_axis\u001b[0m\u001b[1;33m.\u001b[0m\u001b[0m_can_hold_identifiers_and_holds_name\u001b[0m\u001b[1;33m(\u001b[0m\u001b[0mname\u001b[0m\u001b[1;33m)\u001b[0m\u001b[1;33m:\u001b[0m\u001b[1;33m\u001b[0m\u001b[1;33m\u001b[0m\u001b[0m\n\u001b[0;32m   5066\u001b[0m                 \u001b[1;32mreturn\u001b[0m \u001b[0mself\u001b[0m\u001b[1;33m[\u001b[0m\u001b[0mname\u001b[0m\u001b[1;33m]\u001b[0m\u001b[1;33m\u001b[0m\u001b[1;33m\u001b[0m\u001b[0m\n\u001b[1;32m-> 5067\u001b[1;33m             \u001b[1;32mreturn\u001b[0m \u001b[0mobject\u001b[0m\u001b[1;33m.\u001b[0m\u001b[0m__getattribute__\u001b[0m\u001b[1;33m(\u001b[0m\u001b[0mself\u001b[0m\u001b[1;33m,\u001b[0m \u001b[0mname\u001b[0m\u001b[1;33m)\u001b[0m\u001b[1;33m\u001b[0m\u001b[1;33m\u001b[0m\u001b[0m\n\u001b[0m\u001b[0;32m   5068\u001b[0m \u001b[1;33m\u001b[0m\u001b[0m\n\u001b[0;32m   5069\u001b[0m     \u001b[1;32mdef\u001b[0m \u001b[0m__setattr__\u001b[0m\u001b[1;33m(\u001b[0m\u001b[0mself\u001b[0m\u001b[1;33m,\u001b[0m \u001b[0mname\u001b[0m\u001b[1;33m,\u001b[0m \u001b[0mvalue\u001b[0m\u001b[1;33m)\u001b[0m\u001b[1;33m:\u001b[0m\u001b[1;33m\u001b[0m\u001b[1;33m\u001b[0m\u001b[0m\n",
      "\u001b[1;31mAttributeError\u001b[0m: 'DataFrame' object has no attribute 'min_year'"
     ]
    }
   ],
   "source": [
    "change_data(train_df)\n",
    "change_data(test_df)"
   ]
  },
  {
   "cell_type": "code",
   "execution_count": 122,
   "metadata": {},
   "outputs": [
    {
     "data": {
      "text/html": [
       "<div>\n",
       "<style scoped>\n",
       "    .dataframe tbody tr th:only-of-type {\n",
       "        vertical-align: middle;\n",
       "    }\n",
       "\n",
       "    .dataframe tbody tr th {\n",
       "        vertical-align: top;\n",
       "    }\n",
       "\n",
       "    .dataframe thead th {\n",
       "        text-align: right;\n",
       "    }\n",
       "</style>\n",
       "<table border=\"1\" class=\"dataframe\">\n",
       "  <thead>\n",
       "    <tr style=\"text-align: right;\">\n",
       "      <th></th>\n",
       "      <th>Month</th>\n",
       "      <th>DayofMonth</th>\n",
       "      <th>DayOfWeek</th>\n",
       "      <th>DepTime</th>\n",
       "      <th>Distance</th>\n",
       "      <th>dep_delayed_15min</th>\n",
       "      <th>UniqueCarrier_AA</th>\n",
       "      <th>UniqueCarrier_DL</th>\n",
       "      <th>UniqueCarrier_MQ</th>\n",
       "      <th>UniqueCarrier_NW</th>\n",
       "      <th>...</th>\n",
       "      <th>Dest_CVG</th>\n",
       "      <th>Dest_DEN</th>\n",
       "      <th>Dest_DFW</th>\n",
       "      <th>Dest_EWR</th>\n",
       "      <th>Dest_IAH</th>\n",
       "      <th>Dest_LAS</th>\n",
       "      <th>Dest_LAX</th>\n",
       "      <th>Dest_ORD</th>\n",
       "      <th>Dest_PHX</th>\n",
       "      <th>Dest_other</th>\n",
       "    </tr>\n",
       "  </thead>\n",
       "  <tbody>\n",
       "    <tr>\n",
       "      <th>0</th>\n",
       "      <td>8</td>\n",
       "      <td>21</td>\n",
       "      <td>7</td>\n",
       "      <td>1934</td>\n",
       "      <td>732</td>\n",
       "      <td>0</td>\n",
       "      <td>1</td>\n",
       "      <td>0</td>\n",
       "      <td>0</td>\n",
       "      <td>0</td>\n",
       "      <td>...</td>\n",
       "      <td>0</td>\n",
       "      <td>0</td>\n",
       "      <td>1</td>\n",
       "      <td>0</td>\n",
       "      <td>0</td>\n",
       "      <td>0</td>\n",
       "      <td>0</td>\n",
       "      <td>0</td>\n",
       "      <td>0</td>\n",
       "      <td>0</td>\n",
       "    </tr>\n",
       "    <tr>\n",
       "      <th>1</th>\n",
       "      <td>4</td>\n",
       "      <td>20</td>\n",
       "      <td>3</td>\n",
       "      <td>1548</td>\n",
       "      <td>834</td>\n",
       "      <td>0</td>\n",
       "      <td>0</td>\n",
       "      <td>0</td>\n",
       "      <td>0</td>\n",
       "      <td>0</td>\n",
       "      <td>...</td>\n",
       "      <td>0</td>\n",
       "      <td>0</td>\n",
       "      <td>0</td>\n",
       "      <td>0</td>\n",
       "      <td>0</td>\n",
       "      <td>0</td>\n",
       "      <td>0</td>\n",
       "      <td>0</td>\n",
       "      <td>0</td>\n",
       "      <td>1</td>\n",
       "    </tr>\n",
       "    <tr>\n",
       "      <th>2</th>\n",
       "      <td>9</td>\n",
       "      <td>2</td>\n",
       "      <td>5</td>\n",
       "      <td>1422</td>\n",
       "      <td>416</td>\n",
       "      <td>0</td>\n",
       "      <td>0</td>\n",
       "      <td>0</td>\n",
       "      <td>0</td>\n",
       "      <td>0</td>\n",
       "      <td>...</td>\n",
       "      <td>0</td>\n",
       "      <td>0</td>\n",
       "      <td>0</td>\n",
       "      <td>0</td>\n",
       "      <td>0</td>\n",
       "      <td>0</td>\n",
       "      <td>0</td>\n",
       "      <td>0</td>\n",
       "      <td>0</td>\n",
       "      <td>1</td>\n",
       "    </tr>\n",
       "    <tr>\n",
       "      <th>3</th>\n",
       "      <td>11</td>\n",
       "      <td>25</td>\n",
       "      <td>6</td>\n",
       "      <td>1015</td>\n",
       "      <td>872</td>\n",
       "      <td>0</td>\n",
       "      <td>0</td>\n",
       "      <td>0</td>\n",
       "      <td>0</td>\n",
       "      <td>0</td>\n",
       "      <td>...</td>\n",
       "      <td>0</td>\n",
       "      <td>0</td>\n",
       "      <td>0</td>\n",
       "      <td>0</td>\n",
       "      <td>0</td>\n",
       "      <td>0</td>\n",
       "      <td>0</td>\n",
       "      <td>0</td>\n",
       "      <td>0</td>\n",
       "      <td>1</td>\n",
       "    </tr>\n",
       "    <tr>\n",
       "      <th>4</th>\n",
       "      <td>10</td>\n",
       "      <td>7</td>\n",
       "      <td>6</td>\n",
       "      <td>1828</td>\n",
       "      <td>423</td>\n",
       "      <td>1</td>\n",
       "      <td>0</td>\n",
       "      <td>0</td>\n",
       "      <td>0</td>\n",
       "      <td>0</td>\n",
       "      <td>...</td>\n",
       "      <td>0</td>\n",
       "      <td>0</td>\n",
       "      <td>0</td>\n",
       "      <td>0</td>\n",
       "      <td>0</td>\n",
       "      <td>0</td>\n",
       "      <td>0</td>\n",
       "      <td>0</td>\n",
       "      <td>0</td>\n",
       "      <td>1</td>\n",
       "    </tr>\n",
       "  </tbody>\n",
       "</table>\n",
       "<p>5 rows × 39 columns</p>\n",
       "</div>"
      ],
      "text/plain": [
       "  Month DayofMonth DayOfWeek  DepTime  Distance  dep_delayed_15min  \\\n",
       "0     8         21         7     1934       732                  0   \n",
       "1     4         20         3     1548       834                  0   \n",
       "2     9          2         5     1422       416                  0   \n",
       "3    11         25         6     1015       872                  0   \n",
       "4    10          7         6     1828       423                  1   \n",
       "\n",
       "   UniqueCarrier_AA  UniqueCarrier_DL  UniqueCarrier_MQ  UniqueCarrier_NW  \\\n",
       "0                 1                 0                 0                 0   \n",
       "1                 0                 0                 0                 0   \n",
       "2                 0                 0                 0                 0   \n",
       "3                 0                 0                 0                 0   \n",
       "4                 0                 0                 0                 0   \n",
       "\n",
       "   ...  Dest_CVG  Dest_DEN  Dest_DFW  Dest_EWR  Dest_IAH  Dest_LAS  Dest_LAX  \\\n",
       "0  ...         0         0         1         0         0         0         0   \n",
       "1  ...         0         0         0         0         0         0         0   \n",
       "2  ...         0         0         0         0         0         0         0   \n",
       "3  ...         0         0         0         0         0         0         0   \n",
       "4  ...         0         0         0         0         0         0         0   \n",
       "\n",
       "   Dest_ORD  Dest_PHX  Dest_other  \n",
       "0         0         0           0  \n",
       "1         0         0           1  \n",
       "2         0         0           1  \n",
       "3         0         0           1  \n",
       "4         0         0           1  \n",
       "\n",
       "[5 rows x 39 columns]"
      ]
     },
     "execution_count": 122,
     "metadata": {},
     "output_type": "execute_result"
    }
   ],
   "source": [
    "train_df.DepTime = (train_df.DepTime % 2400)\n",
    "for name in \"Month DayofMonth DayOfWeek\".split():\n",
    "    train_df[name] = train_df[name].astype(str)\n",
    "train_df.head()"
   ]
  },
  {
   "cell_type": "code",
   "execution_count": 107,
   "metadata": {},
   "outputs": [],
   "source": [
    "names = \"DepTime hour minutes dep_in_minutes min_year\".split()\n",
    "drop = lambda x, y: x.drop(y, axis=1, inplace=True)\n",
    "for data in (train_df, test_df):\n",
    "    drop(data, names)\n",
    "    "
   ]
  },
  {
   "cell_type": "markdown",
   "metadata": {},
   "source": [
    "---\n",
    "---\n",
    "---"
   ]
  },
  {
   "cell_type": "code",
   "execution_count": 123,
   "metadata": {},
   "outputs": [
    {
     "name": "stdout",
     "output_type": "stream",
     "text": [
      "[0 1 2]\n"
     ]
    }
   ],
   "source": [
    "categ_feat_idx = np.where(train_df.drop('dep_delayed_15min', axis=1).dtypes == 'object')[0]\n",
    "print(categ_feat_idx)"
   ]
  },
  {
   "cell_type": "code",
   "execution_count": 124,
   "metadata": {},
   "outputs": [],
   "source": [
    "X_train = train_df.drop('dep_delayed_15min', axis=1).values\n",
    "y_train = train_df['dep_delayed_15min'].values\n",
    "X_test = test_df.values"
   ]
  },
  {
   "cell_type": "code",
   "execution_count": 125,
   "metadata": {},
   "outputs": [],
   "source": [
    "X_train_part, X_valid, \\\n",
    "y_train_part, y_valid = train_test_split(X_train, y_train,\n",
    "                                         test_size=0.3,\n",
    "                                         random_state=17,\n",
    "                                         shuffle=True\n",
    "                                         )\n",
    "                                        "
   ]
  },
  {
   "cell_type": "code",
   "execution_count": 126,
   "metadata": {},
   "outputs": [],
   "source": [
    "ctb = CatBoostClassifier(random_seed=17, silent=True)"
   ]
  },
  {
   "cell_type": "markdown",
   "metadata": {},
   "source": [
    "#### Train"
   ]
  },
  {
   "cell_type": "code",
   "execution_count": 127,
   "metadata": {
    "scrolled": true
   },
   "outputs": [
    {
     "name": "stdout",
     "output_type": "stream",
     "text": [
      "Wall time: 1min 13s\n"
     ]
    },
    {
     "data": {
      "text/plain": [
       "<catboost.core.CatBoostClassifier at 0x387c57f0>"
      ]
     },
     "execution_count": 127,
     "metadata": {},
     "output_type": "execute_result"
    }
   ],
   "source": [
    "%%time\n",
    "ctb.fit(X_train_part,\n",
    "        y_train_part, \n",
    "        cat_features=categ_feat_idx,\n",
    "        eval_set=(X_valid, y_valid));"
   ]
  },
  {
   "cell_type": "code",
   "execution_count": 128,
   "metadata": {},
   "outputs": [
    {
     "name": "stdout",
     "output_type": "stream",
     "text": [
      "0.8165431115266721\n",
      "0.7461249791678416\n"
     ]
    }
   ],
   "source": [
    "ctb_valid_pred = ctb.predict_proba(X_train_part)[:, 1]\n",
    "print(roc_auc_score(y_train_part, ctb_valid_pred))\n",
    "\n",
    "ctb_valid_pred = ctb.predict_proba(X_valid)[:, 1]\n",
    "print(roc_auc_score(y_valid, ctb_valid_pred))"
   ]
  },
  {
   "cell_type": "markdown",
   "metadata": {},
   "source": [
    "0.748 - some cat and many time features handle\n",
    "0.738 - no cat\n",
    "0.746 - no time work"
   ]
  },
  {
   "cell_type": "code",
   "execution_count": 58,
   "metadata": {
    "collapsed": true
   },
   "outputs": [
    {
     "data": {
      "text/plain": [
       "array([[ 8.00000000e+00,  2.10000000e+01,  7.00000000e+00, ...,\n",
       "         3.98749069e-01, -7.72870135e-01, -6.34564224e-01],\n",
       "       [ 4.00000000e+00,  2.00000000e+01,  3.00000000e+00, ...,\n",
       "        -5.44639035e-01,  9.44706129e-01, -3.27918174e-01],\n",
       "       [ 9.00000000e+00,  2.00000000e+00,  5.00000000e+00, ...,\n",
       "        -8.14115518e-01, -8.84859584e-01, -4.65857829e-01],\n",
       "       ...,\n",
       "       [ 1.00000000e+00,  2.40000000e+01,  2.00000000e+00, ...,\n",
       "         2.63031214e-01,  4.13942522e-01,  9.10303020e-01],\n",
       "       [ 4.00000000e+00,  2.70000000e+01,  4.00000000e+00, ...,\n",
       "        -6.59345815e-01,  8.98610553e-01, -4.38747165e-01],\n",
       "       [ 1.10000000e+01,  1.70000000e+01,  4.00000000e+00, ...,\n",
       "        -1.83697020e-16, -6.77614789e-01,  7.35417023e-01]])"
      ]
     },
     "execution_count": 58,
     "metadata": {},
     "output_type": "execute_result"
    }
   ],
   "source": [
    "X_train"
   ]
  },
  {
   "cell_type": "code",
   "execution_count": null,
   "metadata": {},
   "outputs": [],
   "source": [
    "max_depthes = range(6, 13)"
   ]
  },
  {
   "cell_type": "code",
   "execution_count": null,
   "metadata": {},
   "outputs": [],
   "source": [
    "%%time\n",
    "\n",
    "ac_test = []\n",
    "ac_train = []\n",
    "\n",
    "roc_test = []\n",
    "roc_train = []\n",
    "\n",
    "\n",
    "for max_depth in max_depthes:\n",
    "    ctb = CatBoostClassifier(random_seed=17,\n",
    "                             silent=True,\n",
    "                             max_depth=max_depth).fit(X_train_part, y_train_part,\n",
    "                                                      cat_features=categ_feat_idx)\n",
    "    \n",
    "    roc_train.append(roc_auc_score(y_train_part, ctb.predict_proba(X_train_part)[:, 1]))\n",
    "    roc_test.append(roc_auc_score(y_valid, ctb.predict_proba(X_valid)[:, 1]))\n",
    "    \n",
    "    ac_train.append(accuracy_score(y_train_part, ctb.predict(X_train_part)))\n",
    "    ac_test.append(accuracy_score(y_valid, ctb.predict(X_valid)))\n",
    "    \n",
    "    print(max_depth, end=\" | \")\n",
    "    \n",
    "    \n",
    "    "
   ]
  },
  {
   "cell_type": "code",
   "execution_count": null,
   "metadata": {},
   "outputs": [],
   "source": [
    "plt.plot(max_depthes, roc_train, label=\"roc_train\")\n",
    "plt.plot(max_depthes, roc_test, label=\"roc_test\")\n",
    "plt.grid(True)\n",
    "plt.legend(fontsize=14)"
   ]
  },
  {
   "cell_type": "code",
   "execution_count": null,
   "metadata": {},
   "outputs": [],
   "source": [
    "plt.plot(max_depthes, ac_train, label=\"ac_train\")\n",
    "plt.plot(max_depthes, ac_test, label=\"ac_test\")\n",
    "plt.grid(True)\n",
    "plt.legend(fontsize=14)"
   ]
  },
  {
   "cell_type": "markdown",
   "metadata": {},
   "source": [
    "**K Fold**"
   ]
  },
  {
   "cell_type": "code",
   "execution_count": null,
   "metadata": {},
   "outputs": [],
   "source": [
    "test_score = []\n",
    "train_score = []\n",
    "skf = StratifiedKFold(n_splits=3, shuffle=True, random_state=17)\n",
    "\n",
    "i = 0\n",
    "for test_index, train_index in skf.split(X_train, y_train):\n",
    "    \n",
    "    X_train_1, X_test_1 = X_train[train_index, :], X_train[test_index, :]\n",
    "    y_train_1, y_test_1 = y_train[train_index], y_train[test_index]\n",
    "    \n",
    "    \n",
    "    _ctb = CatBoostClassifier(random_seed=17,\n",
    "                              silent=True\n",
    "                             ).fit(X_train_1, y_train_1, cat_features=categ_feat_idx)\n",
    "    \n",
    "    test_score.append(roc_auc_score(y_test_1,\n",
    "                                    _ctb.predict_proba(X_test_1)[:, 1]\n",
    "                                   )\n",
    "                     )\n",
    "    train_score.append(roc_auc_score(y_train_1, _ctb.predict_proba(X_train_1)[:, 1]))\n",
    "    \n",
    "    i += 1\n",
    "    print(i)\n",
    "    "
   ]
  },
  {
   "cell_type": "code",
   "execution_count": null,
   "metadata": {},
   "outputs": [],
   "source": [
    "print(np.mean(test_score))\n",
    "print(test_score)\n",
    "print()\n",
    "print(np.mean(train_score))\n",
    "print(train_score)"
   ]
  },
  {
   "cell_type": "markdown",
   "metadata": {},
   "source": [
    "params = \\\n",
    "{\n",
    "# \"iterations\": 100,\n",
    "\"eval_metric\": \"AUC\",\n",
    "\"verbose\": False\n",
    "#\"devices\": -1\n",
    "}\n",
    "\n",
    "pool = Pool(data=X_train,\n",
    "            label=y_train,\n",
    "            cat_features=categ_feat_idx)\n",
    "\n",
    "scores = cv(pool,\n",
    "            params=params,\n",
    "            fold_count=5,\n",
    "            plot=\"True\",\n",
    "            early_stopping_rounds=50)"
   ]
  },
  {
   "cell_type": "markdown",
   "metadata": {},
   "source": [
    "----\n",
    "----\n",
    "----"
   ]
  },
  {
   "cell_type": "markdown",
   "metadata": {},
   "source": [
    "Result"
   ]
  },
  {
   "cell_type": "code",
   "execution_count": 98,
   "metadata": {
    "scrolled": true
   },
   "outputs": [
    {
     "name": "stdout",
     "output_type": "stream",
     "text": [
      "Wall time: 1min 29s\n"
     ]
    }
   ],
   "source": [
    "%%time\n",
    "ctb = CatBoostClassifier(random_seed=17, silent=True)\n",
    "ctb.fit(X_train, y_train, cat_features=categ_feat_idx);"
   ]
  },
  {
   "cell_type": "code",
   "execution_count": 99,
   "metadata": {},
   "outputs": [],
   "source": [
    "ctb_test_pred = ctb.predict_proba(X_test)[:, 1]"
   ]
  },
  {
   "cell_type": "code",
   "execution_count": 100,
   "metadata": {},
   "outputs": [],
   "source": [
    "with warnings.catch_warnings():\n",
    "    warnings.simplefilter(\"ignore\")\n",
    "    \n",
    "    sample_sub = pd.read_csv('sample_submission.csv', \n",
    "                             index_col='id')\n",
    "    sample_sub['dep_delayed_15min'] = ctb_test_pred\n",
    "    sample_sub.to_csv('ctb_pred_2.csv')"
   ]
  },
  {
   "cell_type": "code",
   "execution_count": 77,
   "metadata": {
    "scrolled": true
   },
   "outputs": [
    {
     "name": "stdout",
     "output_type": "stream",
     "text": [
      "id,dep_delayed_15min\n",
      "0,0.03164773503074415\n",
      "1,0.050111298222643645\n",
      "2,0.03909599932299011\n",
      "3,0.3010278785944811\n",
      "4,0.23644800310746758\n",
      "5,0.0990110277509689\n",
      "6,0.051838484675625726\n",
      "7,0.16266405568265022\n",
      "8,0.14482774403798257\n"
     ]
    }
   ],
   "source": [
    "!head ctb_pred_1.csv"
   ]
  },
  {
   "cell_type": "code",
   "execution_count": 101,
   "metadata": {},
   "outputs": [
    {
     "name": "stdout",
     "output_type": "stream",
     "text": [
      "id,dep_delayed_15min\n",
      "0,0.026621480830522817\n",
      "1,0.06194317965063598\n",
      "2,0.04195651507515151\n",
      "3,0.32841884660315\n",
      "4,0.32971569352112773\n",
      "5,0.12167380434128895\n",
      "6,0.0623029855854102\n",
      "7,0.22504220022015664\n",
      "8,0.15672503297973006\n"
     ]
    }
   ],
   "source": [
    "!head ctb_pred_2.csv"
   ]
  }
 ],
 "metadata": {
  "kernelspec": {
   "display_name": "Python 3",
   "language": "python",
   "name": "python3"
  },
  "language_info": {
   "codemirror_mode": {
    "name": "ipython",
    "version": 3
   },
   "file_extension": ".py",
   "mimetype": "text/x-python",
   "name": "python",
   "nbconvert_exporter": "python",
   "pygments_lexer": "ipython3",
   "version": "3.6.8"
  }
 },
 "nbformat": 4,
 "nbformat_minor": 1
}
