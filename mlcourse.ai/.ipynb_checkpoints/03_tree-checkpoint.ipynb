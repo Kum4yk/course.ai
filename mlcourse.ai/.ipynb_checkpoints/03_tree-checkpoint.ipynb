{
 "cells": [
  {
   "cell_type": "markdown",
   "metadata": {},
   "source": [
    "### Part 1. Decision trees\n",
    "\n",
    "#### Question 1. Which of these problems does not fall into 3 main types of ML tasks: classification, regression, and clustering?\n",
    "\n",
    "- Identifying a topic of a live-chat with a customer.  \n",
    "Определение темы живого чата с клиентом. Классификация \n",
    "\n",
    "\n",
    "- Grouping news into topics.  \n",
    "Группировка новостей в темы. Кластеризация \n",
    "\n",
    "\n",
    "- Predicting LTV (Life-Time Value) - the amount of money spent by a customer in a certain large period of time.   \n",
    "Регрессия \n",
    "\n",
    "\n",
    "- **Listing top products that a user is prone to buy (based on his/her click history).**\n",
    "\n",
    "___"
   ]
  },
  {
   "cell_type": "markdown",
   "metadata": {},
   "source": [
    "#### Question 2. Maximal possible entropy is achieved when all states are equally probable (prove it yourself for a system with 2 states with probabilities p and 1−p). What's the maximal possible entropy of a system with N states? (here all logs are with base 2)\n",
    "\n",
    "- $ N\\log N $\n",
    "\n",
    "\n",
    "- $ −\\log N $\n",
    "\n",
    "\n",
    "-  $\\log N$ **+**\n",
    "\n",
    "\n",
    "- −$N \\log N$\n",
    "\n",
    "___\n",
    "\n",
    "$$ \\Large S = -\\sum_{i=1}^{N}p_i \\log_2{p_i} $$\n",
    "\n",
    "Максимальная энтропия, при условии N состояний - N разных объёктов. Т.о. вероятность встретить объект $\\large p_i = p = \\frac{1}{N}$. Получаем:\n",
    "$$ S = -\\sum_{i=1}^{N}p_i \\log_2{p_i} = -\\sum_{i=1}^{N} \\frac{1}{N} \\log_2{\\frac{1}{N}} = - \\frac{N}{N} \\log_2{\\frac{1}{N}} =  \\log_2{N}$$\n",
    "\n",
    "___"
   ]
  },
  {
   "cell_type": "markdown",
   "metadata": {},
   "source": [
    "#### Question 3. In Topic 3 article, toy example with 20 balls, what's the information gain of splitting 20 balls in 2 groups based on the condition X <= 8?\n",
    "\n",
    "- ~ 0.1\n",
    "\n",
    "\n",
    "- ~ 0.01\n",
    "\n",
    "\n",
    "- ~ 0.001\n",
    "\n",
    "\n",
    "- ~ 0.0001\n",
    "\n",
    "X <= 8:\n",
    "\n",
    "___\n",
    "\n"
   ]
  }
 ],
 "metadata": {
  "kernelspec": {
   "display_name": "Python 3",
   "language": "python",
   "name": "python3"
  },
  "language_info": {
   "codemirror_mode": {
    "name": "ipython",
    "version": 3
   },
   "file_extension": ".py",
   "mimetype": "text/x-python",
   "name": "python",
   "nbconvert_exporter": "python",
   "pygments_lexer": "ipython3",
   "version": "3.6.8"
  }
 },
 "nbformat": 4,
 "nbformat_minor": 2
}
